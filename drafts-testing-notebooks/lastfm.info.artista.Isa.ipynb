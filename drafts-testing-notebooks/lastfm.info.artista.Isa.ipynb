{
 "cells": [
  {
   "cell_type": "markdown",
   "metadata": {},
   "source": [
    "LAST FM CODIGO EXTRACCION INFO ARTISTAS 24.2.2025\n",
    "\n",
    "\"raiz api = http://ws.audioscrobbler.com/2.0/\""
   ]
  },
  {
   "cell_type": "code",
   "execution_count": 1,
   "metadata": {},
   "outputs": [
    {
     "name": "stderr",
     "output_type": "stream",
     "text": [
      "/Users/isabelgarcia/Library/Python/3.9/lib/python/site-packages/urllib3/__init__.py:35: NotOpenSSLWarning: urllib3 v2 only supports OpenSSL 1.1.1+, currently the 'ssl' module is compiled with 'LibreSSL 2.8.3'. See: https://github.com/urllib3/urllib3/issues/3020\n",
      "  warnings.warn(\n"
     ]
    }
   ],
   "source": [
    "import pandas as pd\n",
    "import requests\n",
    "import json"
   ]
  },
  {
   "cell_type": "code",
   "execution_count": null,
   "metadata": {},
   "outputs": [],
   "source": [
    "MY_API_KEY = \"XXXXXXXXXXXXXX\"\n",
    "share_secret = \"XXXXXXXXXXXXXX\""
   ]
  },
  {
   "cell_type": "code",
   "execution_count": 4,
   "metadata": {},
   "outputs": [],
   "source": [
    "# 1. Obtener Información del Artista\n",
    "# http://ws.audioscrobbler.com/2.0/?method=artist.getinfo&artist={ARTIST_NAME}&api_key={YOUR_API_KEY}&format=json\n",
    "\n",
    "ARTIST_NAME = \"Chanel\""
   ]
  },
  {
   "cell_type": "code",
   "execution_count": 5,
   "metadata": {},
   "outputs": [],
   "source": [
    "endpoint_artist= f\"http://ws.audioscrobbler.com/2.0/?method=artist.getinfo&artist={ARTIST_NAME}&api_key={MY_API_KEY}&format=json\""
   ]
  },
  {
   "cell_type": "code",
   "execution_count": 7,
   "metadata": {},
   "outputs": [
    {
     "data": {
      "text/plain": [
       "200"
      ]
     },
     "execution_count": 7,
     "metadata": {},
     "output_type": "execute_result"
    }
   ],
   "source": [
    "call_artist =requests.get(endpoint_artist)  # hago la llamada al endpoint.\n",
    "call_artist.status_code"
   ]
  },
  {
   "cell_type": "code",
   "execution_count": 8,
   "metadata": {},
   "outputs": [],
   "source": [
    "info_artist = call_artist.json()  # convierto en json"
   ]
  },
  {
   "cell_type": "code",
   "execution_count": 9,
   "metadata": {},
   "outputs": [
    {
     "data": {
      "text/plain": [
       "dict_keys(['artist'])"
      ]
     },
     "execution_count": 9,
     "metadata": {},
     "output_type": "execute_result"
    }
   ],
   "source": [
    "info_artist.keys() # exploro keys"
   ]
  },
  {
   "cell_type": "code",
   "execution_count": 10,
   "metadata": {},
   "outputs": [
    {
     "name": "stdout",
     "output_type": "stream",
     "text": [
      "{'artist': {'name': 'Chanel', 'mbid': 'a4f4fa8a-48bd-4d26-b3b7-88e57e908ffe', 'url': 'https://www.last.fm/music/Chanel', 'image': [{'#text': 'https://lastfm.freetls.fastly.net/i/u/34s/2a96cbd8b46e442fc41c2b86b821562f.png', 'size': 'small'}, {'#text': 'https://lastfm.freetls.fastly.net/i/u/64s/2a96cbd8b46e442fc41c2b86b821562f.png', 'size': 'medium'}, {'#text': 'https://lastfm.freetls.fastly.net/i/u/174s/2a96cbd8b46e442fc41c2b86b821562f.png', 'size': 'large'}, {'#text': 'https://lastfm.freetls.fastly.net/i/u/300x300/2a96cbd8b46e442fc41c2b86b821562f.png', 'size': 'extralarge'}, {'#text': 'https://lastfm.freetls.fastly.net/i/u/300x300/2a96cbd8b46e442fc41c2b86b821562f.png', 'size': 'mega'}, {'#text': 'https://lastfm.freetls.fastly.net/i/u/300x300/2a96cbd8b46e442fc41c2b86b821562f.png', 'size': ''}], 'streamable': '0', 'ontour': '0', 'stats': {'listeners': '196029', 'playcount': '3146736'}, 'similar': {'artist': [{'name': 'Kaleen', 'url': 'https://www.last.fm/music/Kaleen', 'image': [{'#text': 'https://lastfm.freetls.fastly.net/i/u/34s/2a96cbd8b46e442fc41c2b86b821562f.png', 'size': 'small'}, {'#text': 'https://lastfm.freetls.fastly.net/i/u/64s/2a96cbd8b46e442fc41c2b86b821562f.png', 'size': 'medium'}, {'#text': 'https://lastfm.freetls.fastly.net/i/u/174s/2a96cbd8b46e442fc41c2b86b821562f.png', 'size': 'large'}, {'#text': 'https://lastfm.freetls.fastly.net/i/u/300x300/2a96cbd8b46e442fc41c2b86b821562f.png', 'size': 'extralarge'}, {'#text': 'https://lastfm.freetls.fastly.net/i/u/300x300/2a96cbd8b46e442fc41c2b86b821562f.png', 'size': 'mega'}, {'#text': 'https://lastfm.freetls.fastly.net/i/u/300x300/2a96cbd8b46e442fc41c2b86b821562f.png', 'size': ''}]}, {'name': 'Alessandra', 'url': 'https://www.last.fm/music/Alessandra', 'image': [{'#text': 'https://lastfm.freetls.fastly.net/i/u/34s/2a96cbd8b46e442fc41c2b86b821562f.png', 'size': 'small'}, {'#text': 'https://lastfm.freetls.fastly.net/i/u/64s/2a96cbd8b46e442fc41c2b86b821562f.png', 'size': 'medium'}, {'#text': 'https://lastfm.freetls.fastly.net/i/u/174s/2a96cbd8b46e442fc41c2b86b821562f.png', 'size': 'large'}, {'#text': 'https://lastfm.freetls.fastly.net/i/u/300x300/2a96cbd8b46e442fc41c2b86b821562f.png', 'size': 'extralarge'}, {'#text': 'https://lastfm.freetls.fastly.net/i/u/300x300/2a96cbd8b46e442fc41c2b86b821562f.png', 'size': 'mega'}, {'#text': 'https://lastfm.freetls.fastly.net/i/u/300x300/2a96cbd8b46e442fc41c2b86b821562f.png', 'size': ''}]}, {'name': 'Loreen', 'url': 'https://www.last.fm/music/Loreen', 'image': [{'#text': 'https://lastfm.freetls.fastly.net/i/u/34s/2a96cbd8b46e442fc41c2b86b821562f.png', 'size': 'small'}, {'#text': 'https://lastfm.freetls.fastly.net/i/u/64s/2a96cbd8b46e442fc41c2b86b821562f.png', 'size': 'medium'}, {'#text': 'https://lastfm.freetls.fastly.net/i/u/174s/2a96cbd8b46e442fc41c2b86b821562f.png', 'size': 'large'}, {'#text': 'https://lastfm.freetls.fastly.net/i/u/300x300/2a96cbd8b46e442fc41c2b86b821562f.png', 'size': 'extralarge'}, {'#text': 'https://lastfm.freetls.fastly.net/i/u/300x300/2a96cbd8b46e442fc41c2b86b821562f.png', 'size': 'mega'}, {'#text': 'https://lastfm.freetls.fastly.net/i/u/300x300/2a96cbd8b46e442fc41c2b86b821562f.png', 'size': ''}]}, {'name': 'Rigoberta Bandini', 'url': 'https://www.last.fm/music/Rigoberta+Bandini', 'image': [{'#text': 'https://lastfm.freetls.fastly.net/i/u/34s/2a96cbd8b46e442fc41c2b86b821562f.png', 'size': 'small'}, {'#text': 'https://lastfm.freetls.fastly.net/i/u/64s/2a96cbd8b46e442fc41c2b86b821562f.png', 'size': 'medium'}, {'#text': 'https://lastfm.freetls.fastly.net/i/u/174s/2a96cbd8b46e442fc41c2b86b821562f.png', 'size': 'large'}, {'#text': 'https://lastfm.freetls.fastly.net/i/u/300x300/2a96cbd8b46e442fc41c2b86b821562f.png', 'size': 'extralarge'}, {'#text': 'https://lastfm.freetls.fastly.net/i/u/300x300/2a96cbd8b46e442fc41c2b86b821562f.png', 'size': 'mega'}, {'#text': 'https://lastfm.freetls.fastly.net/i/u/300x300/2a96cbd8b46e442fc41c2b86b821562f.png', 'size': ''}]}, {'name': 'Miriam Rodríguez', 'url': 'https://www.last.fm/music/Miriam+Rodr%C3%ADguez', 'image': [{'#text': 'https://lastfm.freetls.fastly.net/i/u/34s/2a96cbd8b46e442fc41c2b86b821562f.png', 'size': 'small'}, {'#text': 'https://lastfm.freetls.fastly.net/i/u/64s/2a96cbd8b46e442fc41c2b86b821562f.png', 'size': 'medium'}, {'#text': 'https://lastfm.freetls.fastly.net/i/u/174s/2a96cbd8b46e442fc41c2b86b821562f.png', 'size': 'large'}, {'#text': 'https://lastfm.freetls.fastly.net/i/u/300x300/2a96cbd8b46e442fc41c2b86b821562f.png', 'size': 'extralarge'}, {'#text': 'https://lastfm.freetls.fastly.net/i/u/300x300/2a96cbd8b46e442fc41c2b86b821562f.png', 'size': 'mega'}, {'#text': 'https://lastfm.freetls.fastly.net/i/u/300x300/2a96cbd8b46e442fc41c2b86b821562f.png', 'size': ''}]}]}, 'tags': {'tag': [{'name': 'House', 'url': 'https://www.last.fm/tag/House'}, {'name': 'female vocalists', 'url': 'https://www.last.fm/tag/female+vocalists'}, {'name': 'chillout', 'url': 'https://www.last.fm/tag/chillout'}, {'name': 'funky house', 'url': 'https://www.last.fm/tag/funky+house'}, {'name': 'pop', 'url': 'https://www.last.fm/tag/pop'}]}, 'bio': {'links': {'link': {'#text': '', 'rel': 'original', 'href': 'https://last.fm/music/Chanel/+wiki'}}, 'published': '02 Dec 2006, 02:32', 'summary': 'Chanel Terrero Martinez (born July 29, 1991 in Havana, Cuba) , known mononimously as Chanel, is a Cuban-born Spanish singer, actress and dancer. She was chosen to represent Spain in the Eurovision Song Contest 2022 with the song SloMo, reaching number three in the Grand Final, the best result for Spain since 1995. <a href=\"https://www.last.fm/music/Chanel\">Read more on Last.fm</a>', 'content': 'Chanel Terrero Martinez (born July 29, 1991 in Havana, Cuba) , known mononimously as Chanel, is a Cuban-born Spanish singer, actress and dancer. She was chosen to represent Spain in the Eurovision Song Contest 2022 with the song SloMo, reaching number three in the Grand Final, the best result for Spain since 1995. <a href=\"https://www.last.fm/music/Chanel\">Read more on Last.fm</a>. User-contributed text is available under the Creative Commons By-SA License; additional terms may apply.'}}}\n"
     ]
    }
   ],
   "source": [
    "# ahora quiero acceder a la informacion \n",
    "print(info_artist)"
   ]
  },
  {
   "cell_type": "code",
   "execution_count": 11,
   "metadata": {},
   "outputs": [
    {
     "name": "stdout",
     "output_type": "stream",
     "text": [
      "dict_keys(['name', 'mbid', 'url', 'image', 'streamable', 'ontour', 'stats', 'similar', 'tags', 'bio'])\n"
     ]
    }
   ],
   "source": [
    "print(info_artist[\"artist\"].keys())# reviso las keys de artist"
   ]
  },
  {
   "cell_type": "markdown",
   "metadata": {},
   "source": [
    "Voy sacando datos:"
   ]
  },
  {
   "cell_type": "code",
   "execution_count": 16,
   "metadata": {},
   "outputs": [
    {
     "name": "stdout",
     "output_type": "stream",
     "text": [
      "{'tag': [{'name': 'House', 'url': 'https://www.last.fm/tag/House'}, {'name': 'female vocalists', 'url': 'https://www.last.fm/tag/female+vocalists'}, {'name': 'chillout', 'url': 'https://www.last.fm/tag/chillout'}, {'name': 'funky house', 'url': 'https://www.last.fm/tag/funky+house'}, {'name': 'pop', 'url': 'https://www.last.fm/tag/pop'}]}\n",
      "-----------------------------\n",
      "['Kaleen', 'Alessandra', 'Loreen', 'Rigoberta Bandini', 'Miriam Rodríguez']\n"
     ]
    }
   ],
   "source": [
    "# tags = generos o etiquetas del artista. \n",
    "\n",
    "print(info_artist[\"artist\"][\"tags\"])\n",
    "print(\"-----------------------------\")\n",
    "\n",
    "artistas_similares = []\n",
    "for artista in info_artist[\"artist\"][\"similar\"][\"artist\"]:\n",
    "    artistas_similares.append(artista[\"name\"])\n",
    "\n",
    "print(artistas_similares)"
   ]
  },
  {
   "cell_type": "code",
   "execution_count": 17,
   "metadata": {},
   "outputs": [
    {
     "name": "stdout",
     "output_type": "stream",
     "text": [
      "{'listeners': '196029', 'playcount': '3146736'}\n"
     ]
    }
   ],
   "source": [
    "print(info_artist[\"artist\"][\"stats\"])"
   ]
  },
  {
   "cell_type": "code",
   "execution_count": 19,
   "metadata": {},
   "outputs": [
    {
     "name": "stdout",
     "output_type": "stream",
     "text": [
      "{'tag': [{'name': 'House', 'url': 'https://www.last.fm/tag/House'}, {'name': 'female vocalists', 'url': 'https://www.last.fm/tag/female+vocalists'}, {'name': 'chillout', 'url': 'https://www.last.fm/tag/chillout'}, {'name': 'funky house', 'url': 'https://www.last.fm/tag/funky+house'}, {'name': 'pop', 'url': 'https://www.last.fm/tag/pop'}]}\n",
      "-----------------------\n",
      "['House', 'female vocalists', 'chillout', 'funky house', 'pop']\n"
     ]
    }
   ],
   "source": [
    "# tags = generos o etiquetas del artista. \n",
    "\n",
    "print(info_artist[\"artist\"][\"tags\"])\n",
    "print(\"-----------------------\")\n",
    "\n",
    "generos = [] # creo una lista vacia de generos\n",
    "for tag in info_artist[\"artist\"][\"tags\"][\"tag\"]:  # recorro cada genero en la lista tags\n",
    "    nombre_genero = tag['name']  # saco el nombre del genero\n",
    "    generos.append(nombre_genero)   # añado a la lista de generos\n",
    "\n",
    "print(generos)"
   ]
  },
  {
   "cell_type": "code",
   "execution_count": 20,
   "metadata": {},
   "outputs": [
    {
     "data": {
      "text/html": [
       "<div>\n",
       "<style scoped>\n",
       "    .dataframe tbody tr th:only-of-type {\n",
       "        vertical-align: middle;\n",
       "    }\n",
       "\n",
       "    .dataframe tbody tr th {\n",
       "        vertical-align: top;\n",
       "    }\n",
       "\n",
       "    .dataframe thead th {\n",
       "        text-align: right;\n",
       "    }\n",
       "</style>\n",
       "<table border=\"1\" class=\"dataframe\">\n",
       "  <thead>\n",
       "    <tr style=\"text-align: right;\">\n",
       "      <th></th>\n",
       "      <th>artista</th>\n",
       "      <th>url</th>\n",
       "      <th>oyentes</th>\n",
       "      <th>reproducciones</th>\n",
       "      <th>generos</th>\n",
       "      <th>artistas_similares</th>\n",
       "    </tr>\n",
       "  </thead>\n",
       "  <tbody>\n",
       "    <tr>\n",
       "      <th>0</th>\n",
       "      <td>Chanel</td>\n",
       "      <td>https://www.last.fm/music/Chanel</td>\n",
       "      <td>196029</td>\n",
       "      <td>3146736</td>\n",
       "      <td>[House, female vocalists, chillout, funky hous...</td>\n",
       "      <td>[Kaleen, Alessandra, Loreen, Rigoberta Bandini...</td>\n",
       "    </tr>\n",
       "  </tbody>\n",
       "</table>\n",
       "</div>"
      ],
      "text/plain": [
       "  artista                               url oyentes reproducciones  \\\n",
       "0  Chanel  https://www.last.fm/music/Chanel  196029        3146736   \n",
       "\n",
       "                                             generos  \\\n",
       "0  [House, female vocalists, chillout, funky hous...   \n",
       "\n",
       "                                  artistas_similares  \n",
       "0  [Kaleen, Alessandra, Loreen, Rigoberta Bandini...  "
      ]
     },
     "execution_count": 20,
     "metadata": {},
     "output_type": "execute_result"
    }
   ],
   "source": [
    "nombre = info_artist[\"artist\"]['name']   # guardo los datos en variables \n",
    "url = info_artist[\"artist\"][\"url\"]\n",
    "oyentes = info_artist[\"artist\"][\"stats\"][\"listeners\"]  # esta dentro de stats (estadisticas)\n",
    "reproducciones = info_artist[\"artist\"][\"stats\"][\"playcount\"] # esta dentro de stats (estadisaticas)\n",
    "\"\"\"artistas_similares\"\"\"\n",
    "\"\"\"generos\"\"\"\n",
    "\n",
    "df = pd.DataFrame({\n",
    "    \"artista\" : [nombre],\n",
    "    \"url\":[url],\n",
    "    \"oyentes\":[oyentes],\n",
    "    \"reproducciones\":[reproducciones],\n",
    "    \"generos\": [generos],\n",
    "    \"artistas_similares\": [artistas_similares]\n",
    "\n",
    "})\n",
    "\n",
    "df.head()\n",
    "\n"
   ]
  },
  {
   "cell_type": "code",
   "execution_count": null,
   "metadata": {},
   "outputs": [],
   "source": []
  },
  {
   "cell_type": "code",
   "execution_count": null,
   "metadata": {},
   "outputs": [],
   "source": []
  },
  {
   "cell_type": "code",
   "execution_count": null,
   "metadata": {},
   "outputs": [],
   "source": []
  },
  {
   "cell_type": "code",
   "execution_count": null,
   "metadata": {},
   "outputs": [],
   "source": []
  },
  {
   "cell_type": "code",
   "execution_count": null,
   "metadata": {},
   "outputs": [],
   "source": []
  }
 ],
 "metadata": {
  "kernelspec": {
   "display_name": "Python 3",
   "language": "python",
   "name": "python3"
  },
  "language_info": {
   "codemirror_mode": {
    "name": "ipython",
    "version": 3
   },
   "file_extension": ".py",
   "mimetype": "text/x-python",
   "name": "python",
   "nbconvert_exporter": "python",
   "pygments_lexer": "ipython3",
   "version": "3.9.6"
  }
 },
 "nbformat": 4,
 "nbformat_minor": 2
}
