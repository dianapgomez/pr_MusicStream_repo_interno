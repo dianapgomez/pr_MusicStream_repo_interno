{
 "cells": [
  {
   "cell_type": "markdown",
   "metadata": {},
   "source": [
    "# IMPORT PANDAS AND MYSQL CONNECTOR"
   ]
  },
  {
   "cell_type": "code",
   "execution_count": 6,
   "metadata": {},
   "outputs": [],
   "source": [
    "import pandas as pd\n",
    "import mysql.connector"
   ]
  },
  {
   "cell_type": "markdown",
   "metadata": {},
   "source": [
    "# MYSQL SERVER CONNECTION"
   ]
  },
  {
   "cell_type": "code",
   "execution_count": null,
   "metadata": {},
   "outputs": [],
   "source": [
    "try:\n",
    "    cnx = mysql.connector.connect(user='root', password='',\n",
    "                              host='127.0.0.1')\n",
    "    \n",
    "\n",
    "    mycursor = cnx.cursor()\n",
    "    \n",
    "\n",
    "except mysql.connector.Error as err:\n",
    "    print(err)\n",
    "    print(\"Error Code:\", err.errno)\n",
    "    print(\"SQLSTATE\", err.sqlstate)\n",
    "    print(\"Message\", err.msg)"
   ]
  },
  {
   "cell_type": "markdown",
   "metadata": {},
   "source": [
    "## SCHEMA CREATION"
   ]
  },
  {
   "cell_type": "code",
   "execution_count": 8,
   "metadata": {},
   "outputs": [],
   "source": [
    "query_create_schema = \"\"\"CREATE SCHEMA StreamMusic\"\"\"\n",
    "mycursor.execute(query_create_schema)"
   ]
  },
  {
   "cell_type": "code",
   "execution_count": null,
   "metadata": {},
   "outputs": [],
   "source": []
  },
  {
   "cell_type": "markdown",
   "metadata": {},
   "source": [
    "## CURSOR CREATION"
   ]
  },
  {
   "cell_type": "code",
   "execution_count": 9,
   "metadata": {},
   "outputs": [],
   "source": [
    "mycursor.execute('USE StreamMusic')"
   ]
  },
  {
   "cell_type": "markdown",
   "metadata": {},
   "source": [
    "## EUROVISION TABLE CREATION AND FEEDING"
   ]
  },
  {
   "cell_type": "code",
   "execution_count": null,
   "metadata": {},
   "outputs": [],
   "source": [
    "eurovision_table = {  'API_Eurovision' : \"\"\"CREATE TABLE api_eurovision (\n",
    "                                            EurovisionYear YEAR NOT NULL,\n",
    "                                            Ranking INT NOT NULL,\n",
    "                                            Artist VARCHAR(45) NOT NULL,                              \n",
    "                                            Track VARCHAR(70) NOT NULL,\n",
    "                                            Country VARCHAR(3) NOT NULL,\n",
    "                                            PRIMARY KEY (Artist, Track))\"\"\"}"
   ]
  },
  {
   "cell_type": "code",
   "execution_count": 11,
   "metadata": {},
   "outputs": [
    {
     "name": "stdout",
     "output_type": "stream",
     "text": [
      "Creating table: API_Eurovision\n",
      "------------\n"
     ]
    }
   ],
   "source": [
    "for k, v in eurovision_table.items():\n",
    "    print(f'Creating table: {k}')\n",
    "    mycursor.execute(v)\n",
    "\n",
    "    print('------------')"
   ]
  },
  {
   "cell_type": "markdown",
   "metadata": {},
   "source": [
    "#### INSERT EUROVISION DATA"
   ]
  },
  {
   "cell_type": "code",
   "execution_count": 12,
   "metadata": {},
   "outputs": [],
   "source": [
    "def insert_api_eu(year, tuples):\n",
    "    query_table = \"\"\"INSERT INTO API_EUROVISION (EurovisionYear, Ranking, Artist, Track, Country)\n",
    "                    VALUES (%s, %s, %s, %s, %s)\"\"\"\n",
    "    \n",
    "    tuples_year = [(year, *t) for t in tuples]\n",
    "\n",
    "    mycursor = cnx.cursor()\n",
    "    mycursor.executemany(query_table,  tuples_year)\n",
    "    print(mycursor.rowcount,'values entered')\n",
    "    cnx.commit()\n",
    "    \n",
    "    "
   ]
  },
  {
   "cell_type": "markdown",
   "metadata": {},
   "source": [
    "### 2019"
   ]
  },
  {
   "cell_type": "code",
   "execution_count": 13,
   "metadata": {},
   "outputs": [
    {
     "name": "stdout",
     "output_type": "stream",
     "text": [
      "41 values entered\n"
     ]
    }
   ],
   "source": [
    "df_api_eurovision2019 = pd.read_csv(\"../../files/Eurovision/2019/euro_ranking2019.csv\", index_col=0)\n",
    "api_eurovision2019_tuples = list(df_api_eurovision2019.itertuples(index=False, name=None))\n",
    "year19 = 2019\n",
    "insert_api_eu(year19, api_eurovision2019_tuples)"
   ]
  },
  {
   "cell_type": "markdown",
   "metadata": {},
   "source": [
    "### 2021"
   ]
  },
  {
   "cell_type": "code",
   "execution_count": 14,
   "metadata": {},
   "outputs": [
    {
     "name": "stdout",
     "output_type": "stream",
     "text": [
      "39 values entered\n"
     ]
    }
   ],
   "source": [
    "df_api_eurovision2021 = pd.read_csv(\"../../files/Eurovision/2021/euro_ranking2021.csv\", index_col=0)\n",
    "api_eurovision2021_tuples = list(df_api_eurovision2021.itertuples(index=False, name=None))\n",
    "year_21 = 2021\n",
    "insert_api_eu(year_21, api_eurovision2021_tuples)"
   ]
  },
  {
   "cell_type": "markdown",
   "metadata": {},
   "source": [
    "### 2022"
   ]
  },
  {
   "cell_type": "code",
   "execution_count": 15,
   "metadata": {},
   "outputs": [
    {
     "name": "stdout",
     "output_type": "stream",
     "text": [
      "40 values entered\n"
     ]
    }
   ],
   "source": [
    "df_api_eurovision2022 = pd.read_csv(\"../../files/Eurovision/2022/euro_ranking2022.csv\", index_col=0)\n",
    "api_eurovision2022_tuples = list(df_api_eurovision2022.itertuples(index=False, name=None))\n",
    "año_22 = 2022\n",
    "\n",
    "insert_api_eu(año_22, api_eurovision2022_tuples)"
   ]
  },
  {
   "cell_type": "markdown",
   "metadata": {},
   "source": [
    "### 2023"
   ]
  },
  {
   "cell_type": "code",
   "execution_count": 16,
   "metadata": {},
   "outputs": [
    {
     "name": "stdout",
     "output_type": "stream",
     "text": [
      "37 values entered\n"
     ]
    }
   ],
   "source": [
    "df_api_eurovision2023 = pd.read_csv(\"../../files/Eurovision/2023/euro_ranking2023.csv\", index_col=0)\n",
    "api_eurovision2023_tuples = list(df_api_eurovision2023.itertuples(index=False, name=None))\n",
    "year_23 = 2023\n",
    "\n",
    "insert_api_eu(year_23, api_eurovision2023_tuples)"
   ]
  },
  {
   "cell_type": "markdown",
   "metadata": {},
   "source": [
    "### 2024"
   ]
  },
  {
   "cell_type": "code",
   "execution_count": 17,
   "metadata": {},
   "outputs": [
    {
     "name": "stdout",
     "output_type": "stream",
     "text": [
      "37 values entered\n"
     ]
    }
   ],
   "source": [
    "df_api_eurovision2024 = pd.read_csv(\"../../files/Eurovision/2024/euro_ranking2024.csv\", index_col=0)\n",
    "api_eurovision2024_tuples = list(df_api_eurovision2024.itertuples(index=False, name=None))\n",
    "year_24 = 2024\n",
    "\n",
    "insert_api_eu(year_24, api_eurovision2024_tuples)"
   ]
  },
  {
   "cell_type": "markdown",
   "metadata": {},
   "source": [
    "## SPOTIFY TABLE CREATION AND FEEDING"
   ]
  },
  {
   "cell_type": "code",
   "execution_count": null,
   "metadata": {},
   "outputs": [],
   "source": [
    "spotify_table = {'API_Spotify' :     \"\"\"CREATE TABLE api_spotify_playlist (\n",
    "                                            Artist VARCHAR(45) NOT NULL,\n",
    "                                            Track VARCHAR(70) NOT NULL,\n",
    "                                            Popularity INT NOT NULL,\n",
    "                                            EurovisionYear YEAR NOT NULL,\n",
    "                                            Duration INT NOT NULL,\n",
    "                                            EurovisionRanking INT,\n",
    "                                            EurovisionCountry VARCHAR(3),\n",
    "                                            PRIMARY KEY (Artist, Track))\"\"\"}"
   ]
  },
  {
   "cell_type": "code",
   "execution_count": 19,
   "metadata": {},
   "outputs": [
    {
     "name": "stdout",
     "output_type": "stream",
     "text": [
      "Creating table: API_Spotify\n",
      "------------\n"
     ]
    }
   ],
   "source": [
    "for k, v in spotify_table.items():\n",
    "    print(f'Creating table: {k}')\n",
    "    mycursor.execute(v)\n",
    "\n",
    "    print('------------')"
   ]
  },
  {
   "cell_type": "markdown",
   "metadata": {},
   "source": [
    "#### INSERT SPOTIFY DATA"
   ]
  },
  {
   "cell_type": "code",
   "execution_count": 20,
   "metadata": {},
   "outputs": [],
   "source": [
    "def insert_api_spotify(year, tuples):\n",
    "    query_table = \"\"\"INSERT INTO api_spotify_playlist (Artist, Track, Popularity, EurovisionYear, Duration)\n",
    "                    VALUES (%s, %s, %s, %s, %s)\"\"\"\n",
    "    \n",
    "    tuples_year = [(t[:3] + (year,) + t[3:]) for t in tuples]\n",
    "\n",
    "    mycursor = cnx.cursor()\n",
    "    mycursor.executemany(query_table,  tuples_year)\n",
    "    print(mycursor.rowcount,'values entered')\n",
    "    cnx.commit()"
   ]
  },
  {
   "cell_type": "markdown",
   "metadata": {},
   "source": [
    "### 2019"
   ]
  },
  {
   "cell_type": "code",
   "execution_count": 21,
   "metadata": {},
   "outputs": [
    {
     "name": "stdout",
     "output_type": "stream",
     "text": [
      "42 values entered\n"
     ]
    }
   ],
   "source": [
    "df_api_spotify2019 = pd.read_csv(\"../../files/Spotify_sql/eurovision2019.csv\", index_col=0)\n",
    "api_spotify2019_tuples = list(df_api_spotify2019.itertuples(index=False, name=None))\n",
    "year19 = 2019\n",
    "insert_api_spotify(year19, api_spotify2019_tuples)"
   ]
  },
  {
   "cell_type": "markdown",
   "metadata": {},
   "source": [
    "### 2021"
   ]
  },
  {
   "cell_type": "code",
   "execution_count": 22,
   "metadata": {},
   "outputs": [
    {
     "name": "stdout",
     "output_type": "stream",
     "text": [
      "53 values entered\n"
     ]
    }
   ],
   "source": [
    "df_api_spotify2021 = pd.read_csv(\"../../files/Spotify_sql/eurovision2021.csv\", index_col=0)\n",
    "api_spotify2021_tuples = list(df_api_spotify2021.itertuples(index=False, name=None))\n",
    "year21 = 2021\n",
    "insert_api_spotify(year21, api_spotify2021_tuples)"
   ]
  },
  {
   "cell_type": "markdown",
   "metadata": {},
   "source": [
    "### 2022"
   ]
  },
  {
   "cell_type": "code",
   "execution_count": 23,
   "metadata": {},
   "outputs": [
    {
     "name": "stdout",
     "output_type": "stream",
     "text": [
      "40 values entered\n"
     ]
    }
   ],
   "source": [
    "df_api_spotify2022 = pd.read_csv(\"../../files/Spotify_sql/eurovision2022.csv\", index_col=0)\n",
    "api_spotify2022_tuples = list(df_api_spotify2022.itertuples(index=False, name=None))\n",
    "year22 = 2022\n",
    "insert_api_spotify(year22, api_spotify2022_tuples)"
   ]
  },
  {
   "cell_type": "markdown",
   "metadata": {},
   "source": [
    "### 2023"
   ]
  },
  {
   "cell_type": "code",
   "execution_count": 24,
   "metadata": {},
   "outputs": [
    {
     "name": "stdout",
     "output_type": "stream",
     "text": [
      "38 values entered\n"
     ]
    }
   ],
   "source": [
    "df_api_spotify2023 = pd.read_csv(\"../../files/Spotify_sql/eurovision2023.csv\", index_col=0)\n",
    "api_spotify2023_tuples = list(df_api_spotify2023.itertuples(index=False, name=None))\n",
    "year23 = 2023\n",
    "insert_api_spotify(year23, api_spotify2023_tuples)"
   ]
  },
  {
   "cell_type": "markdown",
   "metadata": {},
   "source": [
    "### 2024"
   ]
  },
  {
   "cell_type": "code",
   "execution_count": 25,
   "metadata": {},
   "outputs": [
    {
     "name": "stdout",
     "output_type": "stream",
     "text": [
      "37 values entered\n"
     ]
    }
   ],
   "source": [
    "df_api_spotify2024 = pd.read_csv(\"../../files/Spotify_sql/eurovision2024.csv\", index_col=0)\n",
    "api_spotify2024_tuples = list(df_api_spotify2024.itertuples(index=False, name=None))\n",
    "year24 = 2024\n",
    "insert_api_spotify(year24, api_spotify2024_tuples)"
   ]
  },
  {
   "cell_type": "markdown",
   "metadata": {},
   "source": [
    "## LAST FM DATA ARTISTS TABLE CREATION AND FEEDING"
   ]
  },
  {
   "cell_type": "code",
   "execution_count": null,
   "metadata": {},
   "outputs": [],
   "source": [
    "lastfm_artists_table = {'API_LastFM_Info_Artists' : \"\"\"CREATE TABLE api_lastfm_info_artists (\n",
    "                                                    Artist VARCHAR(45) NOT NULL,\n",
    "                                                    Listeners INT,\n",
    "                                                    Playcount INT,\n",
    "                                                    Genre1 VARCHAR(45),\n",
    "                                                    Genre2 VARCHAR(45),\n",
    "                                                    Genre3 VARCHAR(45),\n",
    "                                                    Similar_Artists1 VARCHAR(45),\n",
    "                                                    Similar_Artists2 VARCHAR(45),\n",
    "                                                    Similar_Artists3 VARCHAR(45),\n",
    "                                                    PRIMARY KEY (Artist))\"\"\" }"
   ]
  },
  {
   "cell_type": "code",
   "execution_count": 27,
   "metadata": {},
   "outputs": [
    {
     "name": "stdout",
     "output_type": "stream",
     "text": [
      "Creating table: API_LastFM_Info_Artists\n",
      "------------\n"
     ]
    }
   ],
   "source": [
    "for k, v in lastfm_artists_table.items():\n",
    "    print(f'Creating table: {k}')\n",
    "    mycursor.execute(v)\n",
    "\n",
    "    print('------------')"
   ]
  },
  {
   "cell_type": "markdown",
   "metadata": {},
   "source": [
    "#### INSERT LASTFM ARTIST DATA"
   ]
  },
  {
   "cell_type": "code",
   "execution_count": 28,
   "metadata": {},
   "outputs": [],
   "source": [
    "def insert_api_lastfm(tuples):\n",
    "    query_table = \"\"\"INSERT INTO api_lastfm_info_artists (Artist, Listeners, Playcount, Genre1, Genre2, Genre3, Similar_Artists1, Similar_Artists2, Similar_Artists3)\n",
    "                    VALUES (%s, %s, %s, %s, %s, %s, %s, %s, %s)\"\"\"\n",
    "    \n",
    "\n",
    "    mycursor = cnx.cursor()\n",
    "    mycursor.executemany(query_table, tuples)\n",
    "    print(mycursor.rowcount,'values entered')\n",
    "    cnx.commit()"
   ]
  },
  {
   "cell_type": "markdown",
   "metadata": {},
   "source": [
    "### 2019"
   ]
  },
  {
   "cell_type": "code",
   "execution_count": 29,
   "metadata": {},
   "outputs": [
    {
     "name": "stdout",
     "output_type": "stream",
     "text": [
      "5 values entered\n"
     ]
    }
   ],
   "source": [
    "df_lastfm2019_artists = pd.read_csv(\"../../files/LastFm/2019/info_artists_2019.csv\", sep=\";\")\n",
    "df_lastfm2019_artists_notnull = df_lastfm2019_artists.where(pd.notnull(df_lastfm2019_artists), None)\n",
    "api_lastfm2019_tuples = list(df_lastfm2019_artists_notnull.itertuples(index=False, name=None))\n",
    "insert_api_lastfm(api_lastfm2019_tuples)"
   ]
  },
  {
   "cell_type": "markdown",
   "metadata": {},
   "source": [
    "### 2021"
   ]
  },
  {
   "cell_type": "code",
   "execution_count": 30,
   "metadata": {},
   "outputs": [
    {
     "name": "stdout",
     "output_type": "stream",
     "text": [
      "5 values entered\n"
     ]
    }
   ],
   "source": [
    "df_lastfm2021_artists = pd.read_csv(\"../../files/LastFm/2021/info_artists_2021.csv\", sep=\";\")\n",
    "df_lastfm2021_artists_notnull = df_lastfm2021_artists.where(pd.notnull(df_lastfm2021_artists), None)\n",
    "api_lastfm2021_tuples = list(df_lastfm2021_artists_notnull.itertuples(index=False, name=None))\n",
    "insert_api_lastfm(api_lastfm2021_tuples)"
   ]
  },
  {
   "cell_type": "markdown",
   "metadata": {},
   "source": [
    "### 2022"
   ]
  },
  {
   "cell_type": "code",
   "execution_count": 31,
   "metadata": {},
   "outputs": [
    {
     "name": "stdout",
     "output_type": "stream",
     "text": [
      "5 values entered\n"
     ]
    }
   ],
   "source": [
    "df_lastfm2022_artists = pd.read_csv(\"../../files/LastFm/2022/info_artists_2022.csv\", sep=\";\")\n",
    "df_lastfm2022_artists_notnull = df_lastfm2022_artists.where(pd.notnull(df_lastfm2022_artists), None)\n",
    "api_lastfm2022_tuples = list(df_lastfm2022_artists_notnull.itertuples(index=False, name=None))\n",
    "insert_api_lastfm(api_lastfm2022_tuples)"
   ]
  },
  {
   "cell_type": "markdown",
   "metadata": {},
   "source": [
    "### 2023"
   ]
  },
  {
   "cell_type": "code",
   "execution_count": 32,
   "metadata": {},
   "outputs": [
    {
     "name": "stdout",
     "output_type": "stream",
     "text": [
      "5 values entered\n"
     ]
    }
   ],
   "source": [
    "df_lastfm2023_artists = pd.read_csv(\"../../files/LastFm/2023/info_artists_2023.csv\", sep=\";\")\n",
    "df_lastfm2023_artists_notnull = df_lastfm2023_artists.where(pd.notnull(df_lastfm2023_artists), None)\n",
    "api_lastfm2023_tuples = list(df_lastfm2023_artists_notnull.itertuples(index=False, name=None))\n",
    "insert_api_lastfm(api_lastfm2023_tuples)"
   ]
  },
  {
   "cell_type": "markdown",
   "metadata": {},
   "source": [
    "### 2024"
   ]
  },
  {
   "cell_type": "code",
   "execution_count": 33,
   "metadata": {},
   "outputs": [
    {
     "name": "stdout",
     "output_type": "stream",
     "text": [
      "5 values entered\n"
     ]
    }
   ],
   "source": [
    "df_lastfm2024_artists = pd.read_csv(\"../../files/LastFm/2024/info_artists_2024.csv\", sep=\";\")\n",
    "df_lastfm2024_artists_notnull = df_lastfm2024_artists.where(pd.notnull(df_lastfm2024_artists), None)\n",
    "api_lastfm2024_tuples = list(df_lastfm2024_artists_notnull.itertuples(index=False, name=None))\n",
    "insert_api_lastfm(api_lastfm2024_tuples)"
   ]
  },
  {
   "cell_type": "markdown",
   "metadata": {},
   "source": [
    "#### INSERT LAST FM API DATA TOP TRACKS"
   ]
  },
  {
   "cell_type": "code",
   "execution_count": null,
   "metadata": {},
   "outputs": [],
   "source": [
    "lastfm_tops_table = {'API_LastFM_Top_Tracks' : \"\"\"CREATE TABLE api_lastfm_top_tracks (\n",
    "                                                    Release_year YEAR NOT NULL,\n",
    "                                                    Artist VARCHAR(70) NOT NULL,\n",
    "                                                    Top_track VARCHAR(150),\n",
    "                                                    PRIMARY KEY (Artist))\"\"\" }"
   ]
  },
  {
   "cell_type": "code",
   "execution_count": 35,
   "metadata": {},
   "outputs": [
    {
     "name": "stdout",
     "output_type": "stream",
     "text": [
      "Creating table: API_LastFM_Top_Tracks\n",
      "------------\n"
     ]
    }
   ],
   "source": [
    "for k, v in lastfm_tops_table.items():\n",
    "    print(f'Creating table: {k}')\n",
    "    mycursor.execute(v)\n",
    "\n",
    "    print('------------')"
   ]
  },
  {
   "cell_type": "markdown",
   "metadata": {},
   "source": [
    "#### INSERT LASTFM TOP TRACKS PER ARTIST DATA"
   ]
  },
  {
   "cell_type": "code",
   "execution_count": 36,
   "metadata": {},
   "outputs": [],
   "source": [
    "def insert_api_lastfm_toptracks(tuples):\n",
    "    query_table = \"\"\"INSERT INTO api_lastfm_top_tracks (Release_year, Artist, Top_track)\n",
    "                    VALUES (%s, %s, %s)\"\"\"\n",
    "    \n",
    "\n",
    "    mycursor = cnx.cursor()\n",
    "    mycursor.executemany(query_table, tuples)\n",
    "    print(mycursor.rowcount,'values entered')\n",
    "    cnx.commit()"
   ]
  },
  {
   "cell_type": "markdown",
   "metadata": {},
   "source": [
    "### 2019"
   ]
  },
  {
   "cell_type": "code",
   "execution_count": 37,
   "metadata": {},
   "outputs": [
    {
     "name": "stdout",
     "output_type": "stream",
     "text": [
      "15 values entered\n"
     ]
    }
   ],
   "source": [
    "df_lastfm2019_top = pd.read_csv(\"../../files/LastFm/2019/top_tracks_2019.csv\", sep=\",\")\n",
    "lastfm2019_top_tuples = list(df_lastfm2019_top.itertuples(index=False, name=None))\n",
    "insert_api_lastfm_toptracks(lastfm2019_top_tuples)"
   ]
  },
  {
   "cell_type": "markdown",
   "metadata": {},
   "source": [
    "### 2021"
   ]
  },
  {
   "cell_type": "code",
   "execution_count": 38,
   "metadata": {},
   "outputs": [
    {
     "name": "stdout",
     "output_type": "stream",
     "text": [
      "15 values entered\n"
     ]
    }
   ],
   "source": [
    "df_lastfm2021_top = pd.read_csv(\"../../files/LastFm/2021/top_tracks_2021.csv\", sep=\",\")\n",
    "df_lastfm2021_top_notnull = df_lastfm2021_top.where(pd.notnull(df_lastfm2021_top), None)\n",
    "lastfm2021_top_tuples = list(df_lastfm2021_top_notnull.itertuples(index=False, name=None))\n",
    "insert_api_lastfm_toptracks(lastfm2021_top_tuples)"
   ]
  },
  {
   "cell_type": "markdown",
   "metadata": {},
   "source": [
    "### 2022"
   ]
  },
  {
   "cell_type": "code",
   "execution_count": 39,
   "metadata": {},
   "outputs": [
    {
     "name": "stdout",
     "output_type": "stream",
     "text": [
      "15 values entered\n"
     ]
    }
   ],
   "source": [
    "df_lastfm2022_top = pd.read_csv(\"../../files/LastFm/2022/top_tracks_2022.csv\", sep=\",\")\n",
    "df_lastfm2022_top_notnull = df_lastfm2022_top.where(pd.notnull(df_lastfm2022_top), None)\n",
    "lastfm2022_top_tuples = list(df_lastfm2022_top_notnull.itertuples(index=False, name=None))\n",
    "insert_api_lastfm_toptracks(lastfm2022_top_tuples)"
   ]
  },
  {
   "cell_type": "markdown",
   "metadata": {},
   "source": [
    "### 2023"
   ]
  },
  {
   "cell_type": "code",
   "execution_count": 40,
   "metadata": {},
   "outputs": [
    {
     "name": "stdout",
     "output_type": "stream",
     "text": [
      "15 values entered\n"
     ]
    }
   ],
   "source": [
    "df_lastfm2023_top = pd.read_csv(\"../../files/LastFm/2023/top_tracks_2023.csv\", sep=\",\")\n",
    "df_lastfm2023_top_notnull = df_lastfm2023_top.where(pd.notnull(df_lastfm2023_top), None)\n",
    "lastfm2023_top_tuples = list(df_lastfm2023_top_notnull.itertuples(index=False, name=None))\n",
    "insert_api_lastfm_toptracks(lastfm2023_top_tuples)"
   ]
  },
  {
   "cell_type": "markdown",
   "metadata": {},
   "source": [
    "### 2024"
   ]
  },
  {
   "cell_type": "code",
   "execution_count": 41,
   "metadata": {},
   "outputs": [
    {
     "name": "stdout",
     "output_type": "stream",
     "text": [
      "15 values entered\n"
     ]
    }
   ],
   "source": [
    "df_lastfm2024_top = pd.read_csv(\"../../files/LastFm/2024/top_tracks_2024.csv\", sep=\",\")\n",
    "df_lastfm2024_top_notnull = df_lastfm2024_top.where(pd.notnull(df_lastfm2024_top), None)\n",
    "lastfm2024_top_tuples = list(df_lastfm2024_top_notnull.itertuples(index=False, name=None))\n",
    "insert_api_lastfm_toptracks(lastfm2024_top_tuples)"
   ]
  },
  {
   "cell_type": "markdown",
   "metadata": {},
   "source": [
    "## CLOSING CONNECTION "
   ]
  },
  {
   "cell_type": "code",
   "execution_count": 42,
   "metadata": {},
   "outputs": [],
   "source": [
    "cnx.close()"
   ]
  }
 ],
 "metadata": {
  "kernelspec": {
   "display_name": "base",
   "language": "python",
   "name": "python3"
  },
  "language_info": {
   "codemirror_mode": {
    "name": "ipython",
    "version": 3
   },
   "file_extension": ".py",
   "mimetype": "text/x-python",
   "name": "python",
   "nbconvert_exporter": "python",
   "pygments_lexer": "ipython3",
   "version": "3.12.7"
  }
 },
 "nbformat": 4,
 "nbformat_minor": 2
}
