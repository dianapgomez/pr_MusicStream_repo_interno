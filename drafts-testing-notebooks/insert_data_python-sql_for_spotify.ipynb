{
 "cells": [
  {
   "cell_type": "code",
   "execution_count": 5,
   "metadata": {},
   "outputs": [],
   "source": [
    "import pandas as pd\n",
    "import mysql.connector"
   ]
  },
  {
   "cell_type": "code",
   "execution_count": 6,
   "metadata": {},
   "outputs": [],
   "source": [
    "try:\n",
    "    cnx = mysql.connector.connect(user='root', password='root',\n",
    "                              host='127.0.0.1',\n",
    "                              database ='StreamMusic2')\n",
    "    \n",
    "\n",
    "    mycursor = cnx.cursor()\n",
    "    \n",
    "\n",
    "except mysql.connector.Error as err:\n",
    "    print(err)\n",
    "    print(\"Error Code:\", err.errno)\n",
    "    print(\"SQLSTATE\", err.sqlstate)\n",
    "    print(\"Message\", err.msg)"
   ]
  },
  {
   "cell_type": "code",
   "execution_count": 4,
   "metadata": {},
   "outputs": [],
   "source": [
    "query_create_schema = \"\"\"CREATE SCHEMA StreamMusic2\"\"\"\n",
    "mycursor.execute(query_create_schema)"
   ]
  },
  {
   "cell_type": "code",
   "execution_count": 5,
   "metadata": {},
   "outputs": [],
   "source": [
    "mycursor.execute('USE StreamMusic2')"
   ]
  },
  {
   "cell_type": "code",
   "execution_count": 7,
   "metadata": {},
   "outputs": [],
   "source": [
    "dict_table_creation = {\n",
    "                        'API_Eurovision' : \"\"\"CREATE TABLE api_eurovision (\n",
    "                                            ID SMALLINT NOT NULL AUTO_INCREMENT,\n",
    "                                            EurovisionYear YEAR NOT NULL,\n",
    "                                            Ranking INT NOT NULL,\n",
    "                                            Artist VARCHAR(45) NOT NULL,                              \n",
    "                                            Track VARCHAR(70) NOT NULL,\n",
    "                                            Country VARCHAR(3) NOT NULL,\n",
    "                                            PRIMARY KEY (ID))\"\"\"}"
   ]
  },
  {
   "cell_type": "code",
   "execution_count": 8,
   "metadata": {},
   "outputs": [
    {
     "name": "stdout",
     "output_type": "stream",
     "text": [
      "Creating table: API_Eurovision\n",
      "------------\n"
     ]
    }
   ],
   "source": [
    "for k, v in dict_table_creation.items():\n",
    "    print(f'Creating table: {k}')\n",
    "    mycursor.execute(v)\n",
    "\n",
    "    print('------------')"
   ]
  },
  {
   "cell_type": "markdown",
   "metadata": {},
   "source": [
    "#### INSERT EUROVISION API DATA"
   ]
  },
  {
   "cell_type": "code",
   "execution_count": 9,
   "metadata": {},
   "outputs": [],
   "source": [
    "def insert_api_eu(year, tuples):\n",
    "    query_table = \"\"\"INSERT INTO API_EUROVISION (EurovisionYear, Ranking, Artist, Track, Country)\n",
    "                    VALUES (%s, %s, %s, %s, %s)\"\"\"\n",
    "    \n",
    "    tuples_year = [(year, *t) for t in tuples]\n",
    "\n",
    "    mycursor = cnx.cursor()\n",
    "    mycursor.executemany(query_table,  tuples_year)\n",
    "    print(mycursor.rowcount,'values entered')\n",
    "    cnx.commit()\n",
    "    \n",
    "    "
   ]
  },
  {
   "cell_type": "markdown",
   "metadata": {},
   "source": [
    "# 2019"
   ]
  },
  {
   "cell_type": "code",
   "execution_count": 10,
   "metadata": {},
   "outputs": [
    {
     "name": "stdout",
     "output_type": "stream",
     "text": [
      "41 values entered\n"
     ]
    }
   ],
   "source": [
    "df_api_eurovision2019 = pd.read_csv(\"../files/Eurovision/2019/euro_ranking2019.csv\", index_col=0)\n",
    "api_eurovision2019_tuples = list(df_api_eurovision2019.itertuples(index=False, name=None))\n",
    "year19 = 2019\n",
    "insert_api_eu(year19, api_eurovision2019_tuples)"
   ]
  },
  {
   "cell_type": "markdown",
   "metadata": {},
   "source": [
    "# 2021"
   ]
  },
  {
   "cell_type": "code",
   "execution_count": 11,
   "metadata": {},
   "outputs": [
    {
     "name": "stdout",
     "output_type": "stream",
     "text": [
      "39 values entered\n"
     ]
    }
   ],
   "source": [
    "df_api_eurovision2021 = pd.read_csv(\"../files/Eurovision/2021/euro_ranking2021.csv\", index_col=0)\n",
    "api_eurovision2021_tuples = list(df_api_eurovision2021.itertuples(index=False, name=None))\n",
    "year_21 = 2021\n",
    "insert_api_eu(year_21, api_eurovision2021_tuples)"
   ]
  },
  {
   "cell_type": "markdown",
   "metadata": {},
   "source": [
    "# 2022"
   ]
  },
  {
   "cell_type": "code",
   "execution_count": 12,
   "metadata": {},
   "outputs": [
    {
     "name": "stdout",
     "output_type": "stream",
     "text": [
      "40 values entered\n"
     ]
    }
   ],
   "source": [
    "df_api_eurovision2022 = pd.read_csv(\"../files/Eurovision/2022/euro_ranking2022.csv\", index_col=0)\n",
    "api_eurovision2022_tuples = list(df_api_eurovision2022.itertuples(index=False, name=None))\n",
    "año_22 = 2022\n",
    "\n",
    "insert_api_eu(año_22, api_eurovision2022_tuples)"
   ]
  },
  {
   "cell_type": "markdown",
   "metadata": {},
   "source": [
    "# 2023"
   ]
  },
  {
   "cell_type": "code",
   "execution_count": 13,
   "metadata": {},
   "outputs": [
    {
     "name": "stdout",
     "output_type": "stream",
     "text": [
      "37 values entered\n"
     ]
    }
   ],
   "source": [
    "df_api_eurovision2023 = pd.read_csv(\"../files/Eurovision/2023/euro_ranking2023.csv\", index_col=0)\n",
    "api_eurovision2023_tuples = list(df_api_eurovision2023.itertuples(index=False, name=None))\n",
    "year_23 = 2023\n",
    "\n",
    "insert_api_eu(year_23, api_eurovision2023_tuples)"
   ]
  },
  {
   "cell_type": "markdown",
   "metadata": {},
   "source": [
    "# 2024"
   ]
  },
  {
   "cell_type": "code",
   "execution_count": 14,
   "metadata": {},
   "outputs": [
    {
     "name": "stdout",
     "output_type": "stream",
     "text": [
      "37 values entered\n"
     ]
    }
   ],
   "source": [
    "df_api_eurovision2024 = pd.read_csv(\"../files/Eurovision/2024/euro_ranking2024.csv\", index_col=0)\n",
    "api_eurovision2024_tuples = list(df_api_eurovision2024.itertuples(index=False, name=None))\n",
    "year_24 = 2024\n",
    "\n",
    "insert_api_eu(year_24, api_eurovision2024_tuples)"
   ]
  },
  {
   "cell_type": "markdown",
   "metadata": {},
   "source": [
    "## CREATE API_SPOTIFY TABLE"
   ]
  },
  {
   "cell_type": "code",
   "execution_count": 15,
   "metadata": {},
   "outputs": [],
   "source": [
    "dict_table_creation = {'API_Spotify' :     \"\"\"CREATE TABLE api_spotify_playlist (\n",
    "                                            ID INT NOT NULL AUTO_INCREMENT,\n",
    "                                            Artist VARCHAR(45) NOT NULL,\n",
    "                                            Track VARCHAR(70) NOT NULL,\n",
    "                                            Popularity INT NOT NULL,\n",
    "                                            EurovisionYear YEAR NOT NULL,\n",
    "                                            Duration INT NOT NULL,\n",
    "                                            PRIMARY KEY (ID))\"\"\"}"
   ]
  },
  {
   "cell_type": "code",
   "execution_count": 16,
   "metadata": {},
   "outputs": [
    {
     "name": "stdout",
     "output_type": "stream",
     "text": [
      "Creating table: API_Spotify\n",
      "------------\n"
     ]
    }
   ],
   "source": [
    "for k, v in dict_table_creation.items():\n",
    "    print(f'Creating table: {k}')\n",
    "    mycursor.execute(v)\n",
    "\n",
    "    print('------------')"
   ]
  },
  {
   "cell_type": "markdown",
   "metadata": {},
   "source": [
    "#### INSERT SPOTIFY API DATA"
   ]
  },
  {
   "cell_type": "code",
   "execution_count": 17,
   "metadata": {},
   "outputs": [],
   "source": [
    "def insert_api_spotify(year, tuples):\n",
    "    query_table = \"\"\"INSERT INTO api_spotify_playlist (Artist, Track, Popularity, EurovisionYear, Duration)\n",
    "                    VALUES (%s, %s, %s, %s, %s)\"\"\"\n",
    "    \n",
    "    tuples_year = [(t[:3] + (year,) + t[3:]) for t in tuples]\n",
    "\n",
    "    mycursor = cnx.cursor()\n",
    "    mycursor.executemany(query_table,  tuples_year)\n",
    "    print(mycursor.rowcount,'values entered')\n",
    "    cnx.commit()"
   ]
  },
  {
   "cell_type": "markdown",
   "metadata": {},
   "source": [
    "# 2019"
   ]
  },
  {
   "cell_type": "code",
   "execution_count": 18,
   "metadata": {},
   "outputs": [
    {
     "name": "stdout",
     "output_type": "stream",
     "text": [
      "42 values entered\n"
     ]
    }
   ],
   "source": [
    "df_api_spotify2019 = pd.read_csv(\"../files/Spotify_sql/eurovision2019.csv\", index_col=0)\n",
    "api_spotify2019_tuples = list(df_api_spotify2019.itertuples(index=False, name=None))\n",
    "year19 = 2019\n",
    "insert_api_spotify(year19, api_spotify2019_tuples)"
   ]
  },
  {
   "cell_type": "markdown",
   "metadata": {},
   "source": [
    "# 2021"
   ]
  },
  {
   "cell_type": "code",
   "execution_count": 19,
   "metadata": {},
   "outputs": [
    {
     "name": "stdout",
     "output_type": "stream",
     "text": [
      "53 values entered\n"
     ]
    }
   ],
   "source": [
    "df_api_spotify2021 = pd.read_csv(\"../files/Spotify_sql/eurovision2021.csv\", index_col=0)\n",
    "api_spotify2021_tuples = list(df_api_spotify2021.itertuples(index=False, name=None))\n",
    "year21 = 2021\n",
    "insert_api_spotify(year21, api_spotify2021_tuples)"
   ]
  },
  {
   "cell_type": "markdown",
   "metadata": {},
   "source": [
    "# 2022"
   ]
  },
  {
   "cell_type": "code",
   "execution_count": 20,
   "metadata": {},
   "outputs": [
    {
     "name": "stdout",
     "output_type": "stream",
     "text": [
      "40 values entered\n"
     ]
    }
   ],
   "source": [
    "df_api_spotify2022 = pd.read_csv(\"../files/Spotify_sql/eurovision2022.csv\", index_col=0)\n",
    "api_spotify2022_tuples = list(df_api_spotify2022.itertuples(index=False, name=None))\n",
    "year22 = 2022\n",
    "insert_api_spotify(year22, api_spotify2022_tuples)"
   ]
  },
  {
   "cell_type": "markdown",
   "metadata": {},
   "source": [
    "# 2023"
   ]
  },
  {
   "cell_type": "code",
   "execution_count": 21,
   "metadata": {},
   "outputs": [
    {
     "name": "stdout",
     "output_type": "stream",
     "text": [
      "38 values entered\n"
     ]
    }
   ],
   "source": [
    "df_api_spotify2023 = pd.read_csv(\"../files/Spotify_sql/eurovision2023.csv\", index_col=0)\n",
    "api_spotify2023_tuples = list(df_api_spotify2023.itertuples(index=False, name=None))\n",
    "year23 = 2023\n",
    "insert_api_spotify(year23, api_spotify2023_tuples)"
   ]
  },
  {
   "cell_type": "markdown",
   "metadata": {},
   "source": [
    "# 2024"
   ]
  },
  {
   "cell_type": "code",
   "execution_count": 22,
   "metadata": {},
   "outputs": [
    {
     "name": "stdout",
     "output_type": "stream",
     "text": [
      "37 values entered\n"
     ]
    }
   ],
   "source": [
    "df_api_spotify2024 = pd.read_csv(\"../files/Spotify_sql/eurovision2024.csv\", index_col=0)\n",
    "api_spotify2024_tuples = list(df_api_spotify2024.itertuples(index=False, name=None))\n",
    "year24 = 2024\n",
    "insert_api_spotify(year24, api_spotify2024_tuples)"
   ]
  },
  {
   "cell_type": "markdown",
   "metadata": {},
   "source": [
    "#### INSERT LAST FM API DATA"
   ]
  },
  {
   "cell_type": "code",
   "execution_count": null,
   "metadata": {},
   "outputs": [],
   "source": [
    "dict_table_creation = {'API_LastFM_Info_Artists' : \"\"\"CREATE TABLE api_lastfm_info_artists (\n",
    "                                                    ID INT NOT NULL AUTO_INCREMENT,\n",
    "                                                    Artist VARCHAR(45) NOT NULL,\n",
    "                                                    Listeners INT,\n",
    "                                                    Playcount INT,\n",
    "                                                    Genre1 VARCHAR(45),\n",
    "                                                    Genre2 VARCHAR(45),\n",
    "                                                    Genre3 VARCHAR(45),\n",
    "                                                    Similar_Artists1 VARCHAR(45),\n",
    "                                                    Similar_Artists2 VARCHAR(45),\n",
    "                                                    Similar_Artists3 VARCHAR(45),\n",
    "                                                    PRIMARY KEY (ID))\"\"\" }"
   ]
  },
  {
   "cell_type": "code",
   "execution_count": 57,
   "metadata": {},
   "outputs": [
    {
     "name": "stdout",
     "output_type": "stream",
     "text": [
      "Creating table: API_LastFM_Info_Artists\n",
      "------------\n"
     ]
    }
   ],
   "source": [
    "for k, v in dict_table_creation.items():\n",
    "    print(f'Creating table: {k}')\n",
    "    mycursor.execute(v)\n",
    "\n",
    "    print('------------')"
   ]
  },
  {
   "cell_type": "code",
   "execution_count": 58,
   "metadata": {},
   "outputs": [],
   "source": [
    "def insert_api_lastfm(tuples):\n",
    "    query_table = \"\"\"INSERT INTO api_lastfm_info_artists (Artist, Listeners, Playcount, Genre1, Genre2, Genre3, Similar_Artists1, Similar_Artists2, Similar_Artists3)\n",
    "                    VALUES (%s, %s, %s, %s, %s, %s, %s, %s, %s)\"\"\"\n",
    "    \n",
    "\n",
    "    mycursor = cnx.cursor()\n",
    "    mycursor.executemany(query_table, tuples)\n",
    "    print(mycursor.rowcount,'values entered')\n",
    "    cnx.commit()"
   ]
  },
  {
   "cell_type": "code",
   "execution_count": 67,
   "metadata": {},
   "outputs": [
    {
     "data": {
      "text/html": [
       "<div>\n",
       "<style scoped>\n",
       "    .dataframe tbody tr th:only-of-type {\n",
       "        vertical-align: middle;\n",
       "    }\n",
       "\n",
       "    .dataframe tbody tr th {\n",
       "        vertical-align: top;\n",
       "    }\n",
       "\n",
       "    .dataframe thead th {\n",
       "        text-align: right;\n",
       "    }\n",
       "</style>\n",
       "<table border=\"1\" class=\"dataframe\">\n",
       "  <thead>\n",
       "    <tr style=\"text-align: right;\">\n",
       "      <th></th>\n",
       "      <th>artist</th>\n",
       "      <th>listeners</th>\n",
       "      <th>playcount</th>\n",
       "      <th>genres</th>\n",
       "      <th>genres2</th>\n",
       "      <th>genres3</th>\n",
       "      <th>similar_artists_1</th>\n",
       "      <th>similar_artists_2</th>\n",
       "      <th>similar_artists_3</th>\n",
       "    </tr>\n",
       "  </thead>\n",
       "  <tbody>\n",
       "    <tr>\n",
       "      <th>0</th>\n",
       "      <td>Duncan Laurence</td>\n",
       "      <td>573905</td>\n",
       "      <td>8395361</td>\n",
       "      <td>pop</td>\n",
       "      <td>Eurovision</td>\n",
       "      <td>soul</td>\n",
       "      <td>Cornelia Jakobs</td>\n",
       "      <td>Rosa Linn</td>\n",
       "      <td>Gjon's Tears</td>\n",
       "    </tr>\n",
       "    <tr>\n",
       "      <th>1</th>\n",
       "      <td>Keiino</td>\n",
       "      <td>65097</td>\n",
       "      <td>2086061</td>\n",
       "      <td>pop</td>\n",
       "      <td>norwegian</td>\n",
       "      <td>Eurovision</td>\n",
       "      <td>None</td>\n",
       "      <td>None</td>\n",
       "      <td>None</td>\n",
       "    </tr>\n",
       "    <tr>\n",
       "      <th>2</th>\n",
       "      <td>MARUV</td>\n",
       "      <td>85477</td>\n",
       "      <td>1950547</td>\n",
       "      <td>pop</td>\n",
       "      <td>electronic</td>\n",
       "      <td>Ukraine</td>\n",
       "      <td>LOBODA</td>\n",
       "      <td>SHLAKOBLOCHINA</td>\n",
       "      <td>None</td>\n",
       "    </tr>\n",
       "    <tr>\n",
       "      <th>3</th>\n",
       "      <td>Tamta</td>\n",
       "      <td>49634</td>\n",
       "      <td>912837</td>\n",
       "      <td>Greek</td>\n",
       "      <td>pop</td>\n",
       "      <td>Greek Pop</td>\n",
       "      <td>Eleni Foureira</td>\n",
       "      <td>Marina Satti</td>\n",
       "      <td>Andromache</td>\n",
       "    </tr>\n",
       "    <tr>\n",
       "      <th>4</th>\n",
       "      <td>Kate Miller-Heidke</td>\n",
       "      <td>137146</td>\n",
       "      <td>2222744</td>\n",
       "      <td>australian</td>\n",
       "      <td>singer-songwriter</td>\n",
       "      <td>female vocalists</td>\n",
       "      <td>Lisa Mitchell</td>\n",
       "      <td>Meg Washington</td>\n",
       "      <td>Missy Higgins</td>\n",
       "    </tr>\n",
       "  </tbody>\n",
       "</table>\n",
       "</div>"
      ],
      "text/plain": [
       "               artist  listeners  playcount      genres            genres2  \\\n",
       "0     Duncan Laurence     573905    8395361         pop         Eurovision   \n",
       "1              Keiino      65097    2086061         pop          norwegian   \n",
       "2               MARUV      85477    1950547         pop         electronic   \n",
       "3               Tamta      49634     912837       Greek                pop   \n",
       "4  Kate Miller-Heidke     137146    2222744  australian  singer-songwriter   \n",
       "\n",
       "            genres3 similar_artists_1 similar_artists_2 similar_artists_3  \n",
       "0              soul   Cornelia Jakobs         Rosa Linn      Gjon's Tears  \n",
       "1        Eurovision              None              None              None  \n",
       "2           Ukraine            LOBODA    SHLAKOBLOCHINA              None  \n",
       "3         Greek Pop    Eleni Foureira      Marina Satti        Andromache  \n",
       "4  female vocalists     Lisa Mitchell    Meg Washington     Missy Higgins  "
      ]
     },
     "execution_count": 67,
     "metadata": {},
     "output_type": "execute_result"
    }
   ],
   "source": [
    "df_api_lastfm2019_artists = pd.read_csv(\"../files/LastFm/2019/info_artists_2019.csv\", sep=\";\")\n",
    "df_api_lastfm2019_artists_notnull = df_api_lastfm2019_artists.where(pd.notnull(df_api_lastfm2019_artists), None)\n",
    "df_api_lastfm2019_artists_notnull"
   ]
  },
  {
   "cell_type": "code",
   "execution_count": 68,
   "metadata": {},
   "outputs": [
    {
     "data": {
      "text/plain": [
       "[('Duncan Laurence',\n",
       "  573905,\n",
       "  8395361,\n",
       "  'pop',\n",
       "  'Eurovision',\n",
       "  'soul',\n",
       "  'Cornelia Jakobs',\n",
       "  'Rosa Linn',\n",
       "  \"Gjon's Tears\"),\n",
       " ('Keiino',\n",
       "  65097,\n",
       "  2086061,\n",
       "  'pop',\n",
       "  'norwegian',\n",
       "  'Eurovision',\n",
       "  None,\n",
       "  None,\n",
       "  None),\n",
       " ('MARUV',\n",
       "  85477,\n",
       "  1950547,\n",
       "  'pop',\n",
       "  'electronic',\n",
       "  'Ukraine',\n",
       "  'LOBODA',\n",
       "  'SHLAKOBLOCHINA',\n",
       "  None),\n",
       " ('Tamta',\n",
       "  49634,\n",
       "  912837,\n",
       "  'Greek',\n",
       "  'pop',\n",
       "  'Greek Pop',\n",
       "  'Eleni Foureira',\n",
       "  'Marina Satti',\n",
       "  'Andromache'),\n",
       " ('Kate Miller-Heidke',\n",
       "  137146,\n",
       "  2222744,\n",
       "  'australian',\n",
       "  'singer-songwriter',\n",
       "  'female vocalists',\n",
       "  'Lisa Mitchell',\n",
       "  'Meg Washington',\n",
       "  ' Missy Higgins')]"
      ]
     },
     "execution_count": 68,
     "metadata": {},
     "output_type": "execute_result"
    }
   ],
   "source": [
    "api_lastfm2019_tuples = list(df_api_lastfm2019_artists_notnull.itertuples(index=False, name=None))\n",
    "api_lastfm2019_tuples"
   ]
  },
  {
   "cell_type": "code",
   "execution_count": 69,
   "metadata": {},
   "outputs": [
    {
     "name": "stdout",
     "output_type": "stream",
     "text": [
      "5 values entered\n"
     ]
    }
   ],
   "source": [
    "insert_api_lastfm(api_lastfm2019_tuples)"
   ]
  }
 ],
 "metadata": {
  "kernelspec": {
   "display_name": "base",
   "language": "python",
   "name": "python3"
  },
  "language_info": {
   "codemirror_mode": {
    "name": "ipython",
    "version": 3
   },
   "file_extension": ".py",
   "mimetype": "text/x-python",
   "name": "python",
   "nbconvert_exporter": "python",
   "pygments_lexer": "ipython3",
   "version": "3.12.7"
  }
 },
 "nbformat": 4,
 "nbformat_minor": 2
}
