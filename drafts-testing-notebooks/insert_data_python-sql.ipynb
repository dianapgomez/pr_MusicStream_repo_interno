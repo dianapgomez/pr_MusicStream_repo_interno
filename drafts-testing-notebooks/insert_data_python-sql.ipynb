{
 "cells": [
  {
   "cell_type": "code",
   "execution_count": null,
   "metadata": {},
   "outputs": [],
   "source": [
    "import pandas as pd\n",
    "import mysql.connector"
   ]
  },
  {
   "cell_type": "code",
   "execution_count": null,
   "metadata": {},
   "outputs": [],
   "source": [
    "try:\n",
    "    cnx = mysql.connector.connect(user='root', password='root',\n",
    "                              host='127.0.0.1',\n",
    "                              database=\"StreamMusic2\"\n",
    "                              )\n",
    "\n",
    "\n",
    "    mycursor = cnx.cursor()\n",
    "    \n",
    "\n",
    "except mysql.connector.Error as err:\n",
    "    print(err)\n",
    "    print(\"Error Code:\", err.errno)\n",
    "    print(\"SQLSTATE\", err.sqlstate)\n",
    "    print(\"Message\", err.msg)"
   ]
  },
  {
   "cell_type": "code",
   "execution_count": null,
   "metadata": {},
   "outputs": [],
   "source": [
    "query_create_schema = \"\"\"CREATE SCHEMA StreamMusic2\"\"\"\n",
    "mycursor.execute(query_create_schema)"
   ]
  },
  {
   "cell_type": "code",
   "execution_count": null,
   "metadata": {},
   "outputs": [],
   "source": [
    "mycursor.execute('USE StreamMusic2')"
   ]
  },
  {
   "cell_type": "code",
   "execution_count": null,
   "metadata": {},
   "outputs": [],
   "source": [
    "dict_table_creation = {\n",
    "                        'API_Eurovision' : \"\"\"CREATE TABLE api_eurovision (\n",
    "                                            ID SMALLINT NOT NULL AUTO_INCREMENT,\n",
    "                                            EurovisionYear YEAR NOT NULL,\n",
    "                                            Ranking INT NOT NULL,\n",
    "                                            Artist VARCHAR(45) NOT NULL,                              \n",
    "                                            Track VARCHAR(45) NOT NULL,\n",
    "                                            Country VARCHAR(3) NOT NULL,\n",
    "                                            PRIMARY KEY (ID))\"\"\"}"
   ]
  },
  {
   "cell_type": "code",
   "execution_count": null,
   "metadata": {},
   "outputs": [],
   "source": [
    "\"\"\"dict_table_creation = {\n",
    "                        'API_Eurovision' : \"\"\"CREATE TABLE api_eurovision (\n",
    "                                            ID SMALLINT NOT NULL AUTO_INCREMENT,\n",
    "                                            EurovisionYear YEAR NOT NULL,\n",
    "                                            Ranking INT NOT NULL,\n",
    "                                            Artist VARCHAR(45) NOT NULL                              \n",
    "                                            Track VARCHAR(45) NOT NULL,\n",
    "                                            Country VARCHAR(3) NOT NULL,\n",
    "                                            PRIMARY KEY (ID))\"\"\",\n",
    "                                            \n",
    "                        'API_Spotify' :     \"\"\"CREATE TABLE api_spotify_playlist (\n",
    "                                            ID INT NOT NULL AUTO_INCREMENT,\n",
    "                                            Artist VARCHAR(45) NOT NULL,\n",
    "                                            Track VARCHAR(45) NOT NULL,\n",
    "                                            Popularity INT NOT NULL,\n",
    "                                            EurovisionYear YEAR NOT NULL,\n",
    "                                            Duration INT NOT NULL,\n",
    "                                            PRIMARY KEY (ID))\"\"\",\n",
    "\n",
    "                        'API_LastFM' :      \"\"\"CREATE TABLE api_lastfm (\n",
    "                                            ID INT NOT NULL AUTO_INCREMENT,\n",
    "                                            Year INT NOT NULL,\n",
    "                                            Track VARCHAR(45) NULL,\n",
    "                                            Artist VARCHAR(45) NOT NULL,\n",
    "                                            Year_Position VARCHAR(45) NULL,\n",
    "                                            Genre VARCHAR(45) NULL,\n",
    "                                            Similar_Artists VARCHAR(45) NULL,\n",
    "                                            PRIMARY KEY (ID))\"\"\"\n",
    "\n",
    "                        }\"\"\""
   ]
  },
  {
   "cell_type": "code",
   "execution_count": null,
   "metadata": {},
   "outputs": [],
   "source": []
  },
  {
   "cell_type": "code",
   "execution_count": null,
   "metadata": {},
   "outputs": [],
   "source": [
    "for k, v in dict_table_creation.items():\n",
    "    print(f'Creating table: {k}')\n",
    "    mycursor.execute(v)\n",
    "\n",
    "    print('------------')"
   ]
  },
  {
   "cell_type": "code",
   "execution_count": null,
   "metadata": {},
   "outputs": [],
   "source": [
    "def insert_data (query, values):\n",
    "\n",
    "    "
   ]
  },
  {
   "cell_type": "markdown",
   "metadata": {},
   "source": [
    "#### INSERT EUROVISION API DATA"
   ]
  },
  {
   "cell_type": "code",
   "execution_count": null,
   "metadata": {},
   "outputs": [],
   "source": [
    "def insert_api_eu(year, tuples):\n",
    "    query_table = \"\"\"INSERT INTO API_EUROVISION (EurovisionYear, Ranking, Artist, Track, Country)\n",
    "                    VALUES (%s, %s, %s, %s, %s)\"\"\"\n",
    "    \n",
    "    tuples_year = [(year, *t) for t in tuples]\n",
    "\n",
    "    mycursor = cnx.cursor()\n",
    "    mycursor.executemany(query_table,  tuples_year)\n",
    "    print(mycursor.rowcount,'values entered')\n",
    "    cnx.commit()\n",
    "    \n",
    "    "
   ]
  },
  {
   "cell_type": "markdown",
   "metadata": {},
   "source": [
    "# 2019"
   ]
  },
  {
   "cell_type": "code",
   "execution_count": null,
   "metadata": {},
   "outputs": [],
   "source": [
    "df_api_eurovision2019 = pd.read_csv(\"../files/Eurovision/2019/euro_ranking2019.csv\", index_col=0)\n",
    "api_eurovision2019_tuples = list(df_api_eurovision2019.itertuples(index=False, name=None))\n",
    "year19 = 2019\n",
    "insert_api_eu(year19, api_eurovision2019_tuples)"
   ]
  },
  {
   "cell_type": "markdown",
   "metadata": {},
   "source": [
    "# 2021"
   ]
  },
  {
   "cell_type": "code",
   "execution_count": null,
   "metadata": {},
   "outputs": [],
   "source": [
    "df_api_eurovision2021 = pd.read_csv(\"../files/Eurovision/2021/euro_ranking2021.csv\", index_col=0)\n",
    "api_eurovision2021_tuples = list(df_api_eurovision2021.itertuples(index=False, name=None))\n",
    "year_21 = 2021\n",
    "insert_api_eu(year_21, api_eurovision2021_tuples)"
   ]
  },
  {
   "cell_type": "markdown",
   "metadata": {},
   "source": [
    "# 2022"
   ]
  },
  {
   "cell_type": "code",
   "execution_count": 50,
   "metadata": {},
   "outputs": [
    {
     "name": "stdout",
     "output_type": "stream",
     "text": [
      "40 values entered\n"
     ]
    }
   ],
   "source": [
    "df_api_eurovision2022 = pd.read_csv(\"../files/Eurovision/2022/euro_ranking2022.csv\", index_col=0)\n",
    "api_eurovision2022_tuples = list(df_api_eurovision2022.itertuples(index=False, name=None))\n",
    "año_22 = 2022\n",
    "\n",
    "insert_api_eu(año_22, api_eurovision2022_tuples)"
   ]
  },
  {
   "cell_type": "markdown",
   "metadata": {},
   "source": [
    "# 2023"
   ]
  },
  {
   "cell_type": "code",
   "execution_count": null,
   "metadata": {},
   "outputs": [
    {
     "name": "stdout",
     "output_type": "stream",
     "text": [
      "37 values entered\n"
     ]
    }
   ],
   "source": [
    "df_api_eurovision2023 = pd.read_csv(\"../files/Eurovision/2023/euro_ranking2023.csv\", index_col=0)\n",
    "api_eurovision2023_tuples = list(df_api_eurovision2023.itertuples(index=False, name=None))\n",
    "year_23 = 2023\n",
    "\n",
    "insert_api_eu(year_23, api_eurovision2023_tuples)"
   ]
  },
  {
   "cell_type": "markdown",
   "metadata": {},
   "source": [
    "# 2024"
   ]
  },
  {
   "cell_type": "code",
   "execution_count": null,
   "metadata": {},
   "outputs": [
    {
     "name": "stdout",
     "output_type": "stream",
     "text": [
      "37 values entered\n"
     ]
    }
   ],
   "source": [
    "df_api_eurovision2024 = pd.read_csv(\"../files/Eurovision/2024/euro_ranking2024.csv\", index_col=0)\n",
    "api_eurovision2024_tuples = list(df_api_eurovision2024.itertuples(index=False, name=None))\n",
    "year_24 = 2024\n",
    "\n",
    "insert_api_eu(year_24, api_eurovision2024_tuples)"
   ]
  },
  {
   "cell_type": "markdown",
   "metadata": {},
   "source": [
    "#### INSERT SPOTIFY API DATA"
   ]
  },
  {
   "cell_type": "code",
   "execution_count": null,
   "metadata": {},
   "outputs": [],
   "source": [
    "query_api_spotify = \"\"\"INSERT INTO API_SPOTIFY (Artist, Track, Popularity, EurovisionYear, Duration)\n",
    "                    VALUES (%s, %s, %s, %s, %s)\"\"\"\n",
    "\n",
    "spotify_data = [(           \n",
    "                 )]"
   ]
  },
  {
   "cell_type": "code",
   "execution_count": null,
   "metadata": {},
   "outputs": [],
   "source": [
    "insert_data('projectcibi', query_api_spotify, spotify_data)"
   ]
  },
  {
   "cell_type": "markdown",
   "metadata": {},
   "source": [
    "#### INSERT LAST FM API DATA"
   ]
  },
  {
   "cell_type": "code",
   "execution_count": null,
   "metadata": {},
   "outputs": [],
   "source": [
    "query_api_lastfm = \"\"\"INSERT INTO API_LASTFM (Year, Track, Artist, Year_Position, Genre, Similar_Artists)\n",
    "                    VALUES (%s, %s, %s, %s, %s)\"\"\"\n",
    "\n",
    "lastfm_data = [(           \n",
    "                 )]"
   ]
  },
  {
   "cell_type": "code",
   "execution_count": null,
   "metadata": {},
   "outputs": [],
   "source": [
    "insert_data('projectcibi', query_api_lastfm, lastfm_data)"
   ]
  },
  {
   "cell_type": "code",
   "execution_count": null,
   "metadata": {},
   "outputs": [],
   "source": [
    "df = pd.read_csv(\"../files/Spotify/2024/eurovision24_data.csv\",index_col=0)"
   ]
  },
  {
   "cell_type": "code",
   "execution_count": null,
   "metadata": {},
   "outputs": [],
   "source": [
    "df"
   ]
  }
 ],
 "metadata": {
  "kernelspec": {
   "display_name": "base",
   "language": "python",
   "name": "python3"
  },
  "language_info": {
   "codemirror_mode": {
    "name": "ipython",
    "version": 3
   },
   "file_extension": ".py",
   "mimetype": "text/x-python",
   "name": "python",
   "nbconvert_exporter": "python",
   "pygments_lexer": "ipython3",
   "version": "3.12.7"
  }
 },
 "nbformat": 4,
 "nbformat_minor": 2
}
