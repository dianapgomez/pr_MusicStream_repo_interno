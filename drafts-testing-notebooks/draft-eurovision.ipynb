{
 "cells": [
  {
   "cell_type": "code",
   "execution_count": null,
   "metadata": {},
   "outputs": [],
   "source": [
    "import requests\n",
    "import pandas as pd\n",
    "import json"
   ]
  },
  {
   "cell_type": "code",
   "execution_count": null,
   "metadata": {},
   "outputs": [],
   "source": []
  },
  {
   "cell_type": "code",
   "execution_count": null,
   "metadata": {},
   "outputs": [],
   "source": [
    "\n",
    "eu_data = requests.get(\"https://eurovisionapi.runasp.net/api/contests/2021/\")\n",
    "\n",
    "eu_data_json = eu_data.json()\n",
    "\n",
    "eu_data_json\n"
   ]
  },
  {
   "cell_type": "code",
   "execution_count": null,
   "metadata": {},
   "outputs": [],
   "source": [
    "id_name = []\n",
    "\n",
    "for i in eu_data_json[\"contestants\"]:\n",
    "    contestant_id = i[\"id\"]     # Extrae el ID correctamente\n",
    "    contestant_name = i[\"artist\"] # Extrae el nombre correctamente\n",
    "    song_name = i[\"song\"]\n",
    "    country = i[\"country\"]\n",
    "\n",
    "    id_name.append({\n",
    "        \"name\": contestant_name,\n",
    "        \"song\" : song_name,\n",
    "        \"country\" :country\n",
    "    })\n",
    "\n",
    "print(id_name)\n",
    "\n",
    "\n",
    "df_id_name = pd.DataFrame(id_name)\n",
    "\n",
    "df_id_name.index = range(1, len(df_id_name) + 1)\n",
    "\n",
    "df_id_name\n",
    "\n",
    "\n",
    "\n"
   ]
  },
  {
   "cell_type": "code",
   "execution_count": null,
   "metadata": {},
   "outputs": [],
   "source": [
    "def eurovision_api(year):\n",
    "\n",
    "    eu_data = requests.get(f\"https://eurovisionapi.runasp.net/api/contests/{year}/\")\n",
    "\n",
    "    eu_data_json = eu_data.json()\n",
    "\n",
    "    eu_data_json\n",
    "    id_name = []\n",
    "\n",
    "    for i in eu_data_json[\"contestants\"]:\n",
    "        \n",
    "        for idx, i in enumerate(eu_data_json[\"contestants\"], start=1):\n",
    "\n",
    "            contestant_name = i[\"artist\"] # Extrae el nombre correctamente\n",
    "            song_name = i[\"song\"]\n",
    "            country = i[\"country\"]\n",
    "\n",
    "\n",
    "            id_name.append({\n",
    "                \"ranking\": idx,\n",
    "                \"name\": contestant_name,\n",
    "                \"song\" : song_name,\n",
    "                \"country\" :country\n",
    "            })\n",
    "\n",
    "        df_id_name = pd.DataFrame(id_name)\n",
    "\n",
    "        return df_id_name\n",
    "\n",
    "ranking_2020 = eurovision_api(2021)\n",
    "ranking_2020"
   ]
  },
  {
   "cell_type": "code",
   "execution_count": null,
   "metadata": {},
   "outputs": [],
   "source": [
    "ranking_2020 = eurovision_api(2024)\n",
    "ranking_2020"
   ]
  },
  {
   "cell_type": "code",
   "execution_count": 25,
   "metadata": {},
   "outputs": [
    {
     "ename": "TypeError",
     "evalue": "'NoneType' object is not iterable",
     "output_type": "error",
     "traceback": [
      "\u001b[1;31m---------------------------------------------------------------------------\u001b[0m",
      "\u001b[1;31mTypeError\u001b[0m                                 Traceback (most recent call last)",
      "Cell \u001b[1;32mIn[25], line 21\u001b[0m\n\u001b[0;32m     14\u001b[0m     id_name\u001b[38;5;241m.\u001b[39mappend({\n\u001b[0;32m     15\u001b[0m         \n\u001b[0;32m     16\u001b[0m         \u001b[38;5;124m\"\u001b[39m\u001b[38;5;124mname\u001b[39m\u001b[38;5;124m\"\u001b[39m: contestant_name,\n\u001b[0;32m     17\u001b[0m         \u001b[38;5;124m\"\u001b[39m\u001b[38;5;124msong\u001b[39m\u001b[38;5;124m\"\u001b[39m : song_name,\n\u001b[0;32m     18\u001b[0m         \u001b[38;5;124m\"\u001b[39m\u001b[38;5;124mcountry\u001b[39m\u001b[38;5;124m\"\u001b[39m :country\n\u001b[0;32m     19\u001b[0m     })\n\u001b[0;32m     20\u001b[0m \u001b[38;5;28;01mfor\u001b[39;00m r \u001b[38;5;129;01min\u001b[39;00m eu_data_json2020[\u001b[38;5;124m\"\u001b[39m\u001b[38;5;124mrounds\u001b[39m\u001b[38;5;124m\"\u001b[39m]:\n\u001b[1;32m---> 21\u001b[0m     \u001b[38;5;28;01mfor\u001b[39;00m performances \u001b[38;5;129;01min\u001b[39;00m r[\u001b[38;5;124m\"\u001b[39m\u001b[38;5;124mperformances\u001b[39m\u001b[38;5;124m\"\u001b[39m]:\n\u001b[0;32m     22\u001b[0m         ranking \u001b[38;5;241m=\u001b[39m performances[\u001b[38;5;124m\"\u001b[39m\u001b[38;5;124mplace\u001b[39m\u001b[38;5;124m\"\u001b[39m]\n\u001b[0;32m     24\u001b[0m     ranking2020\u001b[38;5;241m.\u001b[39mappend({\n\u001b[0;32m     25\u001b[0m         \u001b[38;5;124m\"\u001b[39m\u001b[38;5;124mranking\u001b[39m\u001b[38;5;124m\"\u001b[39m : ranking\n\u001b[0;32m     26\u001b[0m     })\n",
      "\u001b[1;31mTypeError\u001b[0m: 'NoneType' object is not iterable"
     ]
    }
   ],
   "source": [
    "eu_data2020 = requests.get(\"https://eurovisionapi.runasp.net/api/contests/2020\")\n",
    "\n",
    "eu_data_json2020 = eu_data2020.json()\n",
    "id_name = []\n",
    "ranking2020 = []\n",
    "\n",
    "for i in eu_data_json2020[\"contestants\"]:\n",
    "    \n",
    "    contestant_name = i[\"artist\"] # Extrae el nombre correctamente\n",
    "    song_name = i[\"song\"]\n",
    "    country = i[\"country\"]\n",
    "\n",
    "\n",
    "    id_name.append({\n",
    "        \n",
    "        \"name\": contestant_name,\n",
    "        \"song\" : song_name,\n",
    "        \"country\" :country\n",
    "    })\n",
    "for r in eu_data_json2020[\"rounds\"]:\n",
    "    for performances in r[\"performances\"]:\n",
    "        ranking = performances[\"place\"]\n",
    "\n",
    "    ranking2020.append({\n",
    "        \"ranking\" : ranking\n",
    "    })\n",
    "\n",
    "\"\"\"df_id_name = pd.DataFrame(id_name,ranking2020)\n",
    "\n",
    "\n",
    "df_id_name\"\"\"\n"
   ]
  },
  {
   "cell_type": "code",
   "execution_count": 27,
   "metadata": {},
   "outputs": [
    {
     "ename": "TypeError",
     "evalue": "'NoneType' object is not iterable",
     "output_type": "error",
     "traceback": [
      "\u001b[1;31m---------------------------------------------------------------------------\u001b[0m",
      "\u001b[1;31mTypeError\u001b[0m                                 Traceback (most recent call last)",
      "Cell \u001b[1;32mIn[27], line 2\u001b[0m\n\u001b[0;32m      1\u001b[0m \u001b[38;5;28;01mfor\u001b[39;00m r \u001b[38;5;129;01min\u001b[39;00m eu_data_json2020[\u001b[38;5;124m\"\u001b[39m\u001b[38;5;124mrounds\u001b[39m\u001b[38;5;124m\"\u001b[39m]:\n\u001b[1;32m----> 2\u001b[0m     \u001b[38;5;28;01mfor\u001b[39;00m performances \u001b[38;5;129;01min\u001b[39;00m r[\u001b[38;5;124m\"\u001b[39m\u001b[38;5;124mperformances\u001b[39m\u001b[38;5;124m\"\u001b[39m]:\n\u001b[0;32m      3\u001b[0m         ranking \u001b[38;5;241m=\u001b[39m performances[\u001b[38;5;124m\"\u001b[39m\u001b[38;5;124mplace\u001b[39m\u001b[38;5;124m\"\u001b[39m]\n\u001b[0;32m      5\u001b[0m         ranking2020\u001b[38;5;241m.\u001b[39mappend({\n\u001b[0;32m      6\u001b[0m             \u001b[38;5;124m\"\u001b[39m\u001b[38;5;124mranking\u001b[39m\u001b[38;5;124m\"\u001b[39m : ranking\n\u001b[0;32m      7\u001b[0m     })\n",
      "\u001b[1;31mTypeError\u001b[0m: 'NoneType' object is not iterable"
     ]
    }
   ],
   "source": [
    "for r in eu_data_json2020[\"rounds\"]:\n",
    "    for performances in r[\"performances\"]:\n",
    "        ranking = performances[\"place\"]\n",
    "\n",
    "        ranking2020.append({\n",
    "            \"ranking\" : ranking\n",
    "    })"
   ]
  }
 ],
 "metadata": {
  "kernelspec": {
   "display_name": "base",
   "language": "python",
   "name": "python3"
  },
  "language_info": {
   "codemirror_mode": {
    "name": "ipython",
    "version": 3
   },
   "file_extension": ".py",
   "mimetype": "text/x-python",
   "name": "python",
   "nbconvert_exporter": "python",
   "pygments_lexer": "ipython3",
   "version": "3.12.7"
  }
 },
 "nbformat": 4,
 "nbformat_minor": 2
}
