{
 "cells": [
  {
   "cell_type": "code",
   "execution_count": 1,
   "metadata": {},
   "outputs": [],
   "source": [
    "import requests\n",
    "import pandas as pd"
   ]
  },
  {
   "cell_type": "code",
   "execution_count": null,
   "metadata": {},
   "outputs": [],
   "source": [
    "#introduce tu API\n",
    "\n",
    "MY_API_KEY = \"XXXXXX\" \n"
   ]
  },
  {
   "cell_type": "code",
   "execution_count": 4,
   "metadata": {},
   "outputs": [],
   "source": [
    "top_artistas_2019 = {\n",
    "    2019: [\"Duncan Laurence\", \"KEiiNO\", \"MARUV\", \"Tamta\", \"Kate Miller-Heidke\"]}\n"
   ]
  },
  {
   "cell_type": "code",
   "execution_count": null,
   "metadata": {},
   "outputs": [],
   "source": [
    "# Diccionario con los top 5 artistas por año\n",
    "top_artistas_por_año = {\n",
    "    2020: [\"Will Ferrell\", \"Little Big\", \"Diodato\", \"BEN & TAN\", \"The Mamas\"],\n",
    "    2021: [\"Barbara Pravi\", \"Mäneskin\", \"Efendi\", \"Tusse\", \"THE ROOP\"],\n",
    "    2022: [\"Mahmood\", \"LUM!X\", \"S10\", \"MARO\", \"Subwoolfer\"],\n",
    "    2023: [\"Loreen\", \"Alessandra\", \"Käärijä\", \"Marco Mengoni\", \"BLANKA\"],\n",
    "    2024: [\"Joost\", \"Nemo\", \"Slimane\", \"Angelina Mango\", \"Baby Lasagna\"]\n",
    "    }\n"
   ]
  },
  {
   "cell_type": "code",
   "execution_count": 5,
   "metadata": {},
   "outputs": [],
   "source": [
    "#funcion para obtener el top 3 de tracks de la api lastfm\n",
    "\n",
    "def obtener_datos_top_tracks(artista, año):\n",
    "    url = f\"http://ws.audioscrobbler.com/2.0/?method=artist.gettoptracks&artist={artista}&api_key={MY_API_KEY}&format=json\"\n",
    "    response = requests.get(url)\n",
    "\n",
    "    if response.status_code == 200:\n",
    "        datos = response.json()\n",
    "        \n",
    "        if \"toptracks\" in datos and \"track\" in datos[\"toptracks\"]:\n",
    "            return [{\"Año\": año, \"Artista\": artista, \"Track\": track[\"name\"]} for track in datos[\"toptracks\"][\"track\"][:3]]\n",
    "    return []"
   ]
  },
  {
   "cell_type": "code",
   "execution_count": 6,
   "metadata": {},
   "outputs": [],
   "source": [
    "# Recorrer los años y artistas para guardar archivos separados\n",
    "for año, artistas in top_artistas_por_año.items():\n",
    "    lista_tracks = []  # Lista para almacenar los datos de cada año\n",
    "    \n",
    "    for artista in artistas:\n",
    "        lista_tracks.extend(obtener_datos_top_tracks(artista, año))"
   ]
  },
  {
   "cell_type": "code",
   "execution_count": 7,
   "metadata": {},
   "outputs": [],
   "source": [
    " # Convertir la lista en un DataFrame\n",
    "df = pd.DataFrame(lista_tracks)\n",
    "    "
   ]
  },
  {
   "cell_type": "code",
   "execution_count": 8,
   "metadata": {},
   "outputs": [
    {
     "name": "stdout",
     "output_type": "stream",
     "text": [
      "📁 Archivo guardado: top_tracks_2019.csv\n"
     ]
    }
   ],
   "source": [
    "# Guardar cada año en un archivo CSV separado y se usa index=false para no guardar el índice en el CSV\n",
    "nombre_archivo = f\"top_tracks_{año}.csv\"\n",
    "df.to_csv(nombre_archivo, index=False)\n",
    "    \n",
    "print(f\"📁 Archivo guardado: {nombre_archivo}\")"
   ]
  },
  {
   "cell_type": "code",
   "execution_count": null,
   "metadata": {},
   "outputs": [],
   "source": []
  }
 ],
 "metadata": {
  "kernelspec": {
   "display_name": "Python 3",
   "language": "python",
   "name": "python3"
  },
  "language_info": {
   "codemirror_mode": {
    "name": "ipython",
    "version": 3
   },
   "file_extension": ".py",
   "mimetype": "text/x-python",
   "name": "python",
   "nbconvert_exporter": "python",
   "pygments_lexer": "ipython3",
   "version": "3.9.6"
  }
 },
 "nbformat": 4,
 "nbformat_minor": 2
}
