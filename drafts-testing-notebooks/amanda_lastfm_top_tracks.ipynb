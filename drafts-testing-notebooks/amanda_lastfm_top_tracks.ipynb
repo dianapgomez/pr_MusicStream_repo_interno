{
 "cells": [
  {
   "cell_type": "code",
   "execution_count": 1,
   "metadata": {},
   "outputs": [],
   "source": [
    "import requests\n",
    "import pandas as pd"
   ]
  },
  {
   "cell_type": "code",
   "execution_count": 2,
   "metadata": {},
   "outputs": [],
   "source": [
    "MY_API_KEY = \"d32caae8580221bc7c36700494b0b248\"\n"
   ]
  },
  {
   "cell_type": "code",
   "execution_count": 3,
   "metadata": {},
   "outputs": [],
   "source": [
    "# Diccionario con los top 5 artistas por año\n",
    "top_artistas_por_año = {\n",
    "    2020: [\"Will Ferrell\", \"Little Big\", \"Diodato\", \"BEN & TAN\", \"The Mamas\"],\n",
    "    2021: [\"Barbara Pravi\", \"Mäneskin\", \"Efendi\", \"Tusse\", \"THE ROOP\"],\n",
    "    2022: [\"Mahmood\", \"LUM!X\", \"S10\", \"MARO\", \"Subwoolfer\"],\n",
    "    2023: [\"Loreen\", \"Alessandra\", \"Käärijä\", \"Marco Mengoni\", \"BLANKA\"],\n",
    "    2024: [\"Joost\", \"Nemo\", \"Slimane\", \"Angelina Mango\", \"Baby Lasagna\"],}"
   ]
  },
  {
   "cell_type": "code",
   "execution_count": 4,
   "metadata": {},
   "outputs": [],
   "source": [
    "def obtener_datos_top_tracks(artista, año):\n",
    "    url = f\"http://ws.audioscrobbler.com/2.0/?method=artist.gettoptracks&artist={artista}&api_key={MY_API_KEY}&format=json\"\n",
    "    response = requests.get(url)\n",
    "\n",
    "    if response.status_code == 200:\n",
    "        datos = response.json()\n",
    "        if \"toptracks\" in datos and \"track\" in datos[\"toptracks\"]:\n",
    "            return [{\"Año\": año, \"Artista\": artista, \"Track\": track[\"name\"]} for track in datos[\"toptracks\"][\"track\"][:3]]\n",
    "    return []"
   ]
  },
  {
   "cell_type": "code",
   "execution_count": 5,
   "metadata": {},
   "outputs": [],
   "source": [
    "# Lista para almacenar los datos\n",
    "lista_tracks = []\n",
    "\n",
    "# Recorrer los años y artistas\n",
    "for año, artistas in top_artistas_por_año.items():\n",
    "    for artista in artistas:\n",
    "        lista_tracks.extend(obtener_datos_top_tracks(artista, año))"
   ]
  },
  {
   "cell_type": "code",
   "execution_count": 6,
   "metadata": {},
   "outputs": [],
   "source": [
    "# Convertir la lista de diccionarios en un DataFrame\n",
    "df = pd.DataFrame(lista_tracks)"
   ]
  },
  {
   "cell_type": "code",
   "execution_count": 7,
   "metadata": {},
   "outputs": [],
   "source": [
    "df.to_csv(\"top_tracks.csv\")\n"
   ]
  },
  {
   "cell_type": "code",
   "execution_count": 8,
   "metadata": {},
   "outputs": [
    {
     "name": "stdout",
     "output_type": "stream",
     "text": [
      "     Año         Artista                                              Track\n",
      "0   2020    Will Ferrell                              Husavik (My Hometown)\n",
      "1   2020    Will Ferrell                                     Jaja Ding Dong\n",
      "2   2020    Will Ferrell                      Double Trouble - Film Version\n",
      "3   2020      Little Big                                            Skibidi\n",
      "4   2020      Little Big                                                Uno\n",
      "..   ...             ...                                                ...\n",
      "70  2024  Angelina Mango                                 Ci pensiamo domani\n",
      "71  2024  Angelina Mango                                          melodrama\n",
      "72  2024    Baby Lasagna                                   Rim Tim Tagi Dim\n",
      "73  2024    Baby Lasagna                                             IG BOY\n",
      "74  2024    Baby Lasagna  Don’t hate yourself, but don’t love yourself t...\n",
      "\n",
      "[75 rows x 3 columns]\n"
     ]
    }
   ],
   "source": [
    "# Mostrar el DataFrame\n",
    "print(df)\n"
   ]
  }
 ],
 "metadata": {
  "kernelspec": {
   "display_name": "Python 3",
   "language": "python",
   "name": "python3"
  },
  "language_info": {
   "codemirror_mode": {
    "name": "ipython",
    "version": 3
   },
   "file_extension": ".py",
   "mimetype": "text/x-python",
   "name": "python",
   "nbconvert_exporter": "python",
   "pygments_lexer": "ipython3",
   "version": "3.9.6"
  }
 },
 "nbformat": 4,
 "nbformat_minor": 2
}
