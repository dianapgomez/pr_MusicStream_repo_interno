{
 "cells": [
  {
   "cell_type": "code",
   "execution_count": 8,
   "metadata": {},
   "outputs": [],
   "source": [
    "import pandas as pd\n",
    "import spotipy\n",
    "from spotipy.oauth2 import SpotifyClientCredentials\n",
    "\n"
   ]
  },
  {
   "cell_type": "code",
   "execution_count": null,
   "metadata": {},
   "outputs": [],
   "source": [
    "CLIENT_ID = ' '\n",
    "CLIENT_SECRET = ' '\n",
    "\n",
    "\n",
    "auth_manager = SpotifyClientCredentials(client_id=CLIENT_ID, client_secret=CLIENT_SECRET)\n",
    "sp = spotipy.Spotify(auth_manager=auth_manager)"
   ]
  },
  {
   "cell_type": "code",
   "execution_count": 14,
   "metadata": {},
   "outputs": [
    {
     "data": {
      "text/html": [
       "<div>\n",
       "<style scoped>\n",
       "    .dataframe tbody tr th:only-of-type {\n",
       "        vertical-align: middle;\n",
       "    }\n",
       "\n",
       "    .dataframe tbody tr th {\n",
       "        vertical-align: top;\n",
       "    }\n",
       "\n",
       "    .dataframe thead th {\n",
       "        text-align: right;\n",
       "    }\n",
       "</style>\n",
       "<table border=\"1\" class=\"dataframe\">\n",
       "  <thead>\n",
       "    <tr style=\"text-align: right;\">\n",
       "      <th></th>\n",
       "      <th>name</th>\n",
       "      <th>followers</th>\n",
       "      <th>spotify_popularity</th>\n",
       "      <th>genres</th>\n",
       "    </tr>\n",
       "  </thead>\n",
       "  <tbody>\n",
       "    <tr>\n",
       "      <th>0</th>\n",
       "      <td>Pitbull</td>\n",
       "      <td>11283683</td>\n",
       "      <td>84</td>\n",
       "      <td>[]</td>\n",
       "    </tr>\n",
       "    <tr>\n",
       "      <th>1</th>\n",
       "      <td>Måneskin</td>\n",
       "      <td>10130278</td>\n",
       "      <td>78</td>\n",
       "      <td>[]</td>\n",
       "    </tr>\n",
       "  </tbody>\n",
       "</table>\n",
       "</div>"
      ],
      "text/plain": [
       "       name  followers  spotify_popularity genres\n",
       "0   Pitbull   11283683                  84     []\n",
       "1  Måneskin   10130278                  78     []"
      ]
     },
     "execution_count": 14,
     "metadata": {},
     "output_type": "execute_result"
    }
   ],
   "source": [
    "#ANADIR AQUI TODOS LOS URLS:\n",
    "URLs = ['0TnOYISbd1XYRBk9myaseg','0lAWpj5szCSwM4rUMHYmrr']\n",
    "\n",
    "multipleartists = sp.artists(URLs)\n",
    "\n",
    "artists = []\n",
    "\n",
    "for artist in multipleartists['artists']:\n",
    "\n",
    "\n",
    "    name = artist['name']\n",
    "    followers= artist['followers']['total']\n",
    "    spotify_popularity = artist['popularity']\n",
    "    genres = artist['genres']\n",
    "    \n",
    "  \n",
    "    artists.append({\n",
    "        \"name\": name,\n",
    "        \"followers\": followers,\n",
    "        \"spotify_popularity\": spotify_popularity,\n",
    "        \"genres\": genres\n",
    "    })\n",
    "\n",
    "df_artists = pd.DataFrame(artists)\n",
    "df_artists\n"
   ]
  }
 ],
 "metadata": {
  "kernelspec": {
   "display_name": "base",
   "language": "python",
   "name": "python3"
  },
  "language_info": {
   "codemirror_mode": {
    "name": "ipython",
    "version": 3
   },
   "file_extension": ".py",
   "mimetype": "text/x-python",
   "name": "python",
   "nbconvert_exporter": "python",
   "pygments_lexer": "ipython3",
   "version": "3.12.7"
  }
 },
 "nbformat": 4,
 "nbformat_minor": 2
}
