{
 "cells": [
  {
   "cell_type": "code",
   "execution_count": null,
   "metadata": {},
   "outputs": [],
   "source": [
    "import requests\n",
    "import pandas as pd\n",
    "import json"
   ]
  },
  {
   "cell_type": "code",
   "execution_count": null,
   "metadata": {},
   "outputs": [],
   "source": [
    "def eurovision_api(year):\n",
    "\n",
    "    eu_data = requests.get(f\"https://eurovisionapi.runasp.net/api/contests/{year}/\")\n",
    "\n",
    "    eu_data_json = eu_data.json()\n",
    "\n",
    "    eu_data_json\n",
    "    ranking = []\n",
    "\n",
    "    for i in eu_data_json[\"contestants\"]:\n",
    "        \n",
    "        for idx, i in enumerate(eu_data_json[\"contestants\"], start=1):\n",
    "\n",
    "            contestant_name = i[\"artist\"] # Extrae el nombre correctamente\n",
    "            song_name = i[\"song\"]\n",
    "            country = i[\"country\"]\n",
    "\n",
    "\n",
    "            ranking.append({\n",
    "                \"ranking\": idx,\n",
    "                \"name\": contestant_name,\n",
    "                \"song\" : song_name,\n",
    "                \"country\" :country\n",
    "            })\n",
    "\n",
    "        df_ranking = pd.DataFrame(ranking)\n",
    "\n",
    "        return df_ranking\n",
    "\n",
    "\n",
    "\n"
   ]
  },
  {
   "cell_type": "markdown",
   "metadata": {},
   "source": [
    "# 2021"
   ]
  },
  {
   "cell_type": "code",
   "execution_count": 6,
   "metadata": {},
   "outputs": [],
   "source": [
    "ranking_2021 = eurovision_api(2021)\n",
    "ranking_2021\n",
    "ranking_2021.to_csv(\"../../files/Eurovision/2021/euro_ranking2021.csv\")\n",
    "ranking_2021.to_json(\"../../files/Eurovision/2021/euro_ranking2021.json\")"
   ]
  },
  {
   "cell_type": "markdown",
   "metadata": {},
   "source": [
    "# 2022"
   ]
  },
  {
   "cell_type": "code",
   "execution_count": 7,
   "metadata": {},
   "outputs": [],
   "source": [
    "ranking_2022 = eurovision_api(2022)\n",
    "ranking_2022\n",
    "ranking_2022.to_csv(\"../../files/Eurovision/2022/euro_ranking2022.csv\")\n",
    "ranking_2022.to_json(\"../../files/Eurovision/2022/euro_ranking2022.json\")"
   ]
  },
  {
   "cell_type": "markdown",
   "metadata": {},
   "source": [
    "# 2023"
   ]
  },
  {
   "cell_type": "code",
   "execution_count": 8,
   "metadata": {},
   "outputs": [],
   "source": [
    "ranking_2023 = eurovision_api(2023)\n",
    "ranking_2023\n",
    "ranking_2023.to_csv(\"../../files/Eurovision/2023/euro_ranking2023.csv\")\n",
    "ranking_2023.to_json(\"../../files/Eurovision/2023/euro_ranking2023.json\")"
   ]
  },
  {
   "cell_type": "markdown",
   "metadata": {},
   "source": [
    "# 2024"
   ]
  },
  {
   "cell_type": "code",
   "execution_count": 9,
   "metadata": {},
   "outputs": [],
   "source": [
    "ranking_2024 = eurovision_api(2024)\n",
    "ranking_2024\n",
    "ranking_2024.to_csv(\"../../files/Eurovision/2024/euro_ranking2024.csv\")\n",
    "ranking_2024.to_json(\"../../files/Eurovision/2024/euro_ranking2024.json\")"
   ]
  }
 ],
 "metadata": {
  "kernelspec": {
   "display_name": "base",
   "language": "python",
   "name": "python3"
  },
  "language_info": {
   "codemirror_mode": {
    "name": "ipython",
    "version": 3
   },
   "file_extension": ".py",
   "mimetype": "text/x-python",
   "name": "python",
   "nbconvert_exporter": "python",
   "pygments_lexer": "ipython3",
   "version": "3.12.7"
  }
 },
 "nbformat": 4,
 "nbformat_minor": 2
}
