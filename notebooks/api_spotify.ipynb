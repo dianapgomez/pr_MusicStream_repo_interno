{
 "cells": [
  {
   "cell_type": "code",
   "execution_count": null,
   "metadata": {},
   "outputs": [],
   "source": [
    "import pandas as pd\n",
    "import spotipy\n",
    "from spotipy.oauth2 import SpotifyClientCredentials"
   ]
  },
  {
   "cell_type": "code",
   "execution_count": null,
   "metadata": {},
   "outputs": [],
   "source": [
    "# Coloca tus credenciales aquí\n",
    "CLIENT_ID = ''\n",
    "CLIENT_SECRET = ''\n",
    "\n",
    "# Autenticación\n",
    "auth_manager = SpotifyClientCredentials(client_id=CLIENT_ID, client_secret=CLIENT_SECRET)\n",
    "sp = spotipy.Spotify(auth_manager=auth_manager)"
   ]
  },
  {
   "cell_type": "code",
   "execution_count": null,
   "metadata": {},
   "outputs": [],
   "source": [
    "class Eurovision:\n",
    "\n",
    "    def __init__(self,raw):\n",
    "        self.raw = raw\n",
    "        \n",
    "    def añadir_datos(self):\n",
    "        #Función para crear el DF con los datos de las canciones\n",
    "        eurovision_datos= []\n",
    "\n",
    "        for item in self.raw[\"tracks\"][\"items\"]:\n",
    "            track = item[\"track\"]\n",
    "            album = item[\"track\"][\"album\"]\n",
    "            artist = item[\"track\"][\"artists\"]\n",
    "            \n",
    "            eurovision_datos.append({\n",
    "                # Playlist   \n",
    "                # Info Artista  \n",
    "                \"artists_name\": artist[0][\"name\"],\n",
    "                \"artists_id\": artist[0][\"id\"],\n",
    "\n",
    "                #Info canción\n",
    "                \"track_name\": track[\"name\"],\n",
    "                \"track_id\": track[\"id\"],\n",
    "                \"popularity\": track[\"popularity\"], \n",
    "                \"album_name\": album[\"name\"],\n",
    "                \"id_album\": album[\"id\"],\n",
    "                \"album_type\": album[\"album_type\"],\n",
    "                \"release_date\": album[\"release_date\"],\n",
    "                \"duration\": track[\"duration_ms\"],\n",
    "            })\n",
    "        df_eurovision_data = pd.DataFrame(eurovision_datos)\n",
    "        return df_eurovision_data\n",
    "        \n",
    "\n",
    "    def añadir_playlist(self):\n",
    "        #Función para crear el DF con los datos de las playlist\n",
    "        eurovision_playlist =[]\n",
    "\n",
    "        for item in self.raw[\"tracks\"][\"items\"]:\n",
    "            eurovision_playlist.append({\n",
    "                # Info playlist    \n",
    "                \"playlist_name\": self.raw[\"name\"],\n",
    "                \"playlist_followers\": self.raw[\"followers\"][\"total\"],\n",
    "                \"playlist_id\": self.raw[\"id\"],\n",
    "                \"playlist_href\": self.raw[\"href\"],\n",
    "                \"playlist_uri\": self.raw[\"uri\"],\n",
    "                \"playlist_url\": self.raw[\"external_urls\"][\"spotify\"]\n",
    "         })\n",
    "            break\n",
    "\n",
    "        df_eurovision_playlist = pd.DataFrame(eurovision_playlist)\n",
    "        return df_eurovision_playlist\n",
    "\n",
    "\n"
   ]
  },
  {
   "cell_type": "markdown",
   "metadata": {},
   "source": [
    "# 2019"
   ]
  },
  {
   "cell_type": "code",
   "execution_count": null,
   "metadata": {},
   "outputs": [],
   "source": [
    "# DataFrame con los artistas, canciones y parámetros establecidos de la lista de reporducción de Eurovisión 2019\n",
    "\n",
    "info_raw19 = sp.playlist(\"https://open.spotify.com/playlist/3ZdQUt8Tmtt7oOU8UM2koe?si=eea27348cf654d21\", fields=None, market=None, additional_types='track',)\n",
    "\n",
    "eurovision_2019 = Eurovision(info_raw19)\n",
    "\n",
    "eurovision_2019.añadir_datos()\n",
    "\n"
   ]
  },
  {
   "cell_type": "code",
   "execution_count": null,
   "metadata": {},
   "outputs": [],
   "source": [
    "# DataFrame con la playlist de Eurovisión 2019\n",
    "\n",
    "eurovision_2019.añadir_playlist()"
   ]
  },
  {
   "cell_type": "code",
   "execution_count": 48,
   "metadata": {},
   "outputs": [],
   "source": [
    "# CSV y JSon de los anteriores DataFrame\n",
    "\n",
    "eurovision_2019.añadir_datos().to_csv(\"../files/2019/eurovision19_data.csv\")\n",
    "eurovision_2019.añadir_datos().to_json(\"../files/2019/eurovision19_data.json\")\n",
    "eurovision_2019.añadir_playlist().to_csv(\"../files/2019/eurovision19_playlist.csv\")\n",
    "eurovision_2019.añadir_playlist().to_json(\"../files/2019/eurovision19_playlist.json\")"
   ]
  },
  {
   "cell_type": "markdown",
   "metadata": {},
   "source": [
    "# 2020"
   ]
  },
  {
   "cell_type": "code",
   "execution_count": null,
   "metadata": {},
   "outputs": [],
   "source": [
    "# DataFrame con los artistas, canciones y parámetros establecidos de la lista de reporducción de Eurovisión 2020\n",
    "\n",
    "info_raw20 = sp.playlist(\"https://open.spotify.com/playlist/0IyJJbmF3vp5nX6j4FFeDO?si=f42ab240e0ab4268\", fields=None, market=None, additional_types='track',)\n",
    "\n",
    "eurovision_2020 = Eurovision(info_raw20)\n",
    "\n",
    "eurovision_2020.añadir_datos()\n",
    "\n"
   ]
  },
  {
   "cell_type": "code",
   "execution_count": null,
   "metadata": {},
   "outputs": [],
   "source": [
    "# DataFrame con la playlist de Eurovisión 2020\n",
    "\n",
    "eurovision_2020.añadir_playlist()"
   ]
  },
  {
   "cell_type": "code",
   "execution_count": 47,
   "metadata": {},
   "outputs": [],
   "source": [
    "# CSV y JSon de los anteriores DataFrame\n",
    "\n",
    "eurovision_2020.añadir_datos().to_csv(\"../files/2020/eurovision20_data.csv\")\n",
    "eurovision_2020.añadir_datos().to_json(\"../files/2020/eurovision20_data.json\")\n",
    "eurovision_2020.añadir_playlist().to_csv(\"../files/2020/eurovision20_playlist.csv\")\n",
    "eurovision_2020.añadir_playlist().to_json(\"../files/2020/eurovision20_playlist.json\")"
   ]
  },
  {
   "cell_type": "markdown",
   "metadata": {},
   "source": [
    "# 2021"
   ]
  },
  {
   "cell_type": "code",
   "execution_count": null,
   "metadata": {},
   "outputs": [],
   "source": [
    "# DataFrame con los artistas, canciones y parámetros establecidos de la lista de reporducción de Eurovisión 2021\n",
    "\n",
    "info_raw21 = sp.playlist(\"https://open.spotify.com/playlist/5h0sQpJnLVzgy5iOH1UNcl?si=3a1d926528484506\", fields=None, market=None, additional_types='track',)\n",
    "\n",
    "eurovision_2021 = Eurovision(info_raw21)\n",
    "\n",
    "eurovision_2021.añadir_datos()"
   ]
  },
  {
   "cell_type": "code",
   "execution_count": null,
   "metadata": {},
   "outputs": [],
   "source": [
    "# DataFrame con la playlist de Eurovisión 2021\n",
    "\n",
    "eurovision_2021.añadir_playlist()"
   ]
  },
  {
   "cell_type": "code",
   "execution_count": 46,
   "metadata": {},
   "outputs": [],
   "source": [
    "# CSV y JSon de los anteriores DataFrame\n",
    "\n",
    "eurovision_2021.añadir_datos().to_csv(\"../files/2021/eurovision21_data.csv\")\n",
    "eurovision_2021.añadir_datos().to_json(\"../files/2021/eurovision21_data.json\")\n",
    "eurovision_2021.añadir_playlist().to_csv(\"../files/2021/eurovision21_playlist.csv\")\n",
    "eurovision_2021.añadir_playlist().to_json(\"../files/2021/eurovision21_playlist.json\")"
   ]
  },
  {
   "cell_type": "markdown",
   "metadata": {},
   "source": [
    "# 2022"
   ]
  },
  {
   "cell_type": "code",
   "execution_count": null,
   "metadata": {},
   "outputs": [],
   "source": [
    "# DataFrame con los artistas, canciones y parámetros establecidos de la lista de reporducción de Eurovisión 2022\n",
    "\n",
    "info_raw22 = sp.playlist(\"https://open.spotify.com/playlist/61fyG82H3Cha91cgKgQT6S?si=o-Xs3DfHRZyRuR8qaY9mxAW\", fields=None, market=None, additional_types='track',)\n",
    "\n",
    "eurovision_2022 = Eurovision(info_raw22)\n",
    "\n",
    "eurovision_2022.añadir_datos()"
   ]
  },
  {
   "cell_type": "code",
   "execution_count": null,
   "metadata": {},
   "outputs": [],
   "source": [
    "# DataFrame con la playlist de Eurovisión 2022\n",
    "\n",
    "eurovision_2022.añadir_playlist()"
   ]
  },
  {
   "cell_type": "code",
   "execution_count": 44,
   "metadata": {},
   "outputs": [],
   "source": [
    "# CSV y JSon de los anteriores DataFrame\n",
    "\n",
    "eurovision_2022.añadir_datos().to_csv(\"../files/2022/eurovision22_data.csv\")\n",
    "eurovision_2022.añadir_datos().to_json(\"../files/2022/eurovision22_data.json\")\n",
    "eurovision_2022.añadir_playlist().to_csv(\"../files/2022/eurovision22_playlist.csv\")\n",
    "eurovision_2022.añadir_playlist().to_json(\"../files/2022/eurovision22_playlist.json\")"
   ]
  },
  {
   "cell_type": "markdown",
   "metadata": {},
   "source": [
    "# 2023"
   ]
  },
  {
   "cell_type": "code",
   "execution_count": null,
   "metadata": {},
   "outputs": [],
   "source": [
    "# DataFrame con los artistas, canciones y parámetros establecidos de la lista de reporducción de Eurovisión 2023\n",
    "\n",
    "\n",
    "info_raw23 = sp.playlist(\"https://open.spotify.com/playlist/61fyG82H3Cha91cgKgQT6S?si=o-Xs3DfHRZyRuR8qaY9mxAW\", fields=None, market=None, additional_types='track',)\n",
    "\n",
    "eurovision_2023 = Eurovision(info_raw23)\n",
    "\n",
    "eurovision_2023.añadir_datos()"
   ]
  },
  {
   "cell_type": "code",
   "execution_count": null,
   "metadata": {},
   "outputs": [],
   "source": [
    "# DataFrame con la playlist de Eurovisión 2023\n",
    "\n",
    "eurovision_2023.añadir_playlist()"
   ]
  },
  {
   "cell_type": "code",
   "execution_count": 43,
   "metadata": {},
   "outputs": [],
   "source": [
    "# CSV y JSon de los anteriores DataFrame\n",
    "\n",
    "eurovision_2023.añadir_datos().to_csv(\"../files/2023/eurovision23_data.csv\")\n",
    "eurovision_2023.añadir_datos().to_json(\"../files/2023/eurovision23_data.json\")\n",
    "eurovision_2023.añadir_playlist().to_csv(\"../files/2023/eurovision23_playlist.csv\")\n",
    "eurovision_2023.añadir_playlist().to_json(\"../files/2023/eurovision23_playlist.json\")"
   ]
  },
  {
   "cell_type": "markdown",
   "metadata": {},
   "source": [
    "# 2024"
   ]
  },
  {
   "cell_type": "code",
   "execution_count": null,
   "metadata": {},
   "outputs": [],
   "source": [
    "# DataFrame con los artistas, canciones y parámetros establecidos de la lista de reporducción de Eurovisión 2024\n",
    "\n",
    "info_raw24 = sp.playlist(\"https://open.spotify.com/playlist/2HMW5JNZNh9HLfIHNzY0DP?si=f29ed55294394682\", fields=None, market=None, additional_types='track',)\n",
    "\n",
    "eurovision_2024 = Eurovision(info_raw24)\n",
    "\n",
    "eurovision_2024.añadir_datos()"
   ]
  },
  {
   "cell_type": "code",
   "execution_count": null,
   "metadata": {},
   "outputs": [],
   "source": [
    "# DataFrame con la playlist de Eurovisión 2024\n",
    "\n",
    "eurovision_2024.añadir_playlist()"
   ]
  },
  {
   "cell_type": "code",
   "execution_count": 41,
   "metadata": {},
   "outputs": [],
   "source": [
    "# CSV y JSon de los anteriores DataFrame\n",
    "\n",
    "eurovision_2024.añadir_datos().to_csv(\"../files/2024/eurovision24_data.csv\")\n",
    "eurovision_2024.añadir_datos().to_json(\"../files/2024/eurovision24_data.json\")\n",
    "eurovision_2024.añadir_playlist().to_csv(\"../files/2024/eurovision24_playlist.csv\")\n",
    "eurovision_2024.añadir_playlist().to_json(\"../files/2024/eurovision24_playlist.json\")"
   ]
  }
 ],
 "metadata": {
  "kernelspec": {
   "display_name": "base",
   "language": "python",
   "name": "python3"
  },
  "language_info": {
   "codemirror_mode": {
    "name": "ipython",
    "version": 3
   },
   "file_extension": ".py",
   "mimetype": "text/x-python",
   "name": "python",
   "nbconvert_exporter": "python",
   "pygments_lexer": "ipython3",
   "version": "3.12.7"
  }
 },
 "nbformat": 4,
 "nbformat_minor": 2
}
