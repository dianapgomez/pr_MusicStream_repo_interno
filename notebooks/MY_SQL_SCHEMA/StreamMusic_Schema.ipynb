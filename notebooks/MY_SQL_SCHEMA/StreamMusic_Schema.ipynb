{
 "cells": [
  {
   "cell_type": "markdown",
   "metadata": {},
   "source": [
    "# IMPORT PANDAS AND MYSQL CONNECTOR"
   ]
  },
  {
   "cell_type": "code",
   "execution_count": 10,
   "metadata": {},
   "outputs": [],
   "source": [
    "import pandas as pd\n",
    "import mysql.connector"
   ]
  },
  {
   "cell_type": "markdown",
   "metadata": {},
   "source": [
    "# MYSQL SERVER CONNECTION"
   ]
  },
  {
   "cell_type": "code",
   "execution_count": 11,
   "metadata": {},
   "outputs": [],
   "source": [
    "try:\n",
    "    cnx = mysql.connector.connect(user='root', password='root',\n",
    "                              host='127.0.0.1')\n",
    "    \n",
    "\n",
    "    mycursor = cnx.cursor()\n",
    "    \n",
    "\n",
    "except mysql.connector.Error as err:\n",
    "    print(err)\n",
    "    print(\"Error Code:\", err.errno)\n",
    "    print(\"SQLSTATE\", err.sqlstate)\n",
    "    print(\"Message\", err.msg)"
   ]
  },
  {
   "cell_type": "markdown",
   "metadata": {},
   "source": [
    "## SCHEMA CREATION"
   ]
  },
  {
   "cell_type": "code",
   "execution_count": 12,
   "metadata": {},
   "outputs": [],
   "source": [
    "query_create_schema = \"\"\"CREATE SCHEMA StreamMusic\"\"\"\n",
    "mycursor.execute(query_create_schema)"
   ]
  },
  {
   "cell_type": "markdown",
   "metadata": {},
   "source": [
    "## CURSOR CREATION"
   ]
  },
  {
   "cell_type": "code",
   "execution_count": 13,
   "metadata": {},
   "outputs": [],
   "source": [
    "mycursor.execute('USE StreamMusic')"
   ]
  },
  {
   "cell_type": "markdown",
   "metadata": {},
   "source": [
    "## EUROVISION TABLE CREATION AND FEEDING"
   ]
  },
  {
   "cell_type": "code",
   "execution_count": 14,
   "metadata": {},
   "outputs": [],
   "source": [
    "eurovision_table = {  'API_Eurovision' : \"\"\"CREATE TABLE api_eurovision (\n",
    "                                            ID SMALLINT NOT NULL AUTO_INCREMENT,\n",
    "                                            EurovisionYear YEAR NOT NULL,\n",
    "                                            Ranking INT NOT NULL,\n",
    "                                            Artist VARCHAR(45) NOT NULL,                              \n",
    "                                            Track VARCHAR(70) NOT NULL,\n",
    "                                            Country VARCHAR(3) NOT NULL,\n",
    "                                            PRIMARY KEY (ID))\"\"\"}"
   ]
  },
  {
   "cell_type": "code",
   "execution_count": 15,
   "metadata": {},
   "outputs": [
    {
     "name": "stdout",
     "output_type": "stream",
     "text": [
      "Creating table: API_Eurovision\n",
      "------------\n"
     ]
    }
   ],
   "source": [
    "for k, v in eurovision_table.items():\n",
    "    print(f'Creating table: {k}')\n",
    "    mycursor.execute(v)\n",
    "\n",
    "    print('------------')"
   ]
  },
  {
   "cell_type": "markdown",
   "metadata": {},
   "source": [
    "#### INSERT EUROVISION DATA"
   ]
  },
  {
   "cell_type": "code",
   "execution_count": 16,
   "metadata": {},
   "outputs": [],
   "source": [
    "def insert_api_eu(year, tuples):\n",
    "    query_table = \"\"\"INSERT INTO API_EUROVISION (EurovisionYear, Ranking, Artist, Track, Country)\n",
    "                    VALUES (%s, %s, %s, %s, %s)\"\"\"\n",
    "    \n",
    "    tuples_year = [(year, *t) for t in tuples]\n",
    "\n",
    "    mycursor = cnx.cursor()\n",
    "    mycursor.executemany(query_table,  tuples_year)\n",
    "    print(mycursor.rowcount,'values entered')\n",
    "    cnx.commit()\n",
    "    \n",
    "    "
   ]
  },
  {
   "cell_type": "markdown",
   "metadata": {},
   "source": [
    "### 2019"
   ]
  },
  {
   "cell_type": "code",
   "execution_count": 17,
   "metadata": {},
   "outputs": [
    {
     "name": "stdout",
     "output_type": "stream",
     "text": [
      "41 values entered\n"
     ]
    }
   ],
   "source": [
    "df_api_eurovision2019 = pd.read_csv(\"../../files/Eurovision/2019/euro_ranking2019.csv\", index_col=0)\n",
    "api_eurovision2019_tuples = list(df_api_eurovision2019.itertuples(index=False, name=None))\n",
    "year19 = 2019\n",
    "insert_api_eu(year19, api_eurovision2019_tuples)"
   ]
  },
  {
   "cell_type": "markdown",
   "metadata": {},
   "source": [
    "### 2021"
   ]
  },
  {
   "cell_type": "code",
   "execution_count": 18,
   "metadata": {},
   "outputs": [
    {
     "name": "stdout",
     "output_type": "stream",
     "text": [
      "39 values entered\n"
     ]
    }
   ],
   "source": [
    "df_api_eurovision2021 = pd.read_csv(\"../../files/Eurovision/2021/euro_ranking2021.csv\", index_col=0)\n",
    "api_eurovision2021_tuples = list(df_api_eurovision2021.itertuples(index=False, name=None))\n",
    "year_21 = 2021\n",
    "insert_api_eu(year_21, api_eurovision2021_tuples)"
   ]
  },
  {
   "cell_type": "markdown",
   "metadata": {},
   "source": [
    "### 2022"
   ]
  },
  {
   "cell_type": "code",
   "execution_count": 19,
   "metadata": {},
   "outputs": [
    {
     "name": "stdout",
     "output_type": "stream",
     "text": [
      "40 values entered\n"
     ]
    }
   ],
   "source": [
    "df_api_eurovision2022 = pd.read_csv(\"../../files/Eurovision/2022/euro_ranking2022.csv\", index_col=0)\n",
    "api_eurovision2022_tuples = list(df_api_eurovision2022.itertuples(index=False, name=None))\n",
    "año_22 = 2022\n",
    "\n",
    "insert_api_eu(año_22, api_eurovision2022_tuples)"
   ]
  },
  {
   "cell_type": "markdown",
   "metadata": {},
   "source": [
    "### 2023"
   ]
  },
  {
   "cell_type": "code",
   "execution_count": 20,
   "metadata": {},
   "outputs": [
    {
     "name": "stdout",
     "output_type": "stream",
     "text": [
      "37 values entered\n"
     ]
    }
   ],
   "source": [
    "df_api_eurovision2023 = pd.read_csv(\"../../files/Eurovision/2023/euro_ranking2023.csv\", index_col=0)\n",
    "api_eurovision2023_tuples = list(df_api_eurovision2023.itertuples(index=False, name=None))\n",
    "year_23 = 2023\n",
    "\n",
    "insert_api_eu(year_23, api_eurovision2023_tuples)"
   ]
  },
  {
   "cell_type": "markdown",
   "metadata": {},
   "source": [
    "### 2024"
   ]
  },
  {
   "cell_type": "code",
   "execution_count": 21,
   "metadata": {},
   "outputs": [
    {
     "name": "stdout",
     "output_type": "stream",
     "text": [
      "37 values entered\n"
     ]
    }
   ],
   "source": [
    "df_api_eurovision2024 = pd.read_csv(\"../../files/Eurovision/2024/euro_ranking2024.csv\", index_col=0)\n",
    "api_eurovision2024_tuples = list(df_api_eurovision2024.itertuples(index=False, name=None))\n",
    "year_24 = 2024\n",
    "\n",
    "insert_api_eu(year_24, api_eurovision2024_tuples)"
   ]
  },
  {
   "cell_type": "markdown",
   "metadata": {},
   "source": [
    "## SPOTIFY TABLE CREATION AND FEEDING"
   ]
  },
  {
   "cell_type": "code",
   "execution_count": 22,
   "metadata": {},
   "outputs": [],
   "source": [
    "spotify_table = {'API_Spotify' :     \"\"\"CREATE TABLE api_spotify_playlist (\n",
    "                                            ID INT NOT NULL AUTO_INCREMENT,\n",
    "                                            Artist VARCHAR(45) NOT NULL,\n",
    "                                            Track VARCHAR(70) NOT NULL,\n",
    "                                            Popularity INT NOT NULL,\n",
    "                                            EurovisionYear YEAR NOT NULL,\n",
    "                                            Duration INT NOT NULL,\n",
    "                                            PRIMARY KEY (ID))\"\"\"}"
   ]
  },
  {
   "cell_type": "code",
   "execution_count": 23,
   "metadata": {},
   "outputs": [
    {
     "name": "stdout",
     "output_type": "stream",
     "text": [
      "Creating table: API_Spotify\n"
     ]
    },
    {
     "name": "stdout",
     "output_type": "stream",
     "text": [
      "------------\n"
     ]
    }
   ],
   "source": [
    "for k, v in spotify_table.items():\n",
    "    print(f'Creating table: {k}')\n",
    "    mycursor.execute(v)\n",
    "\n",
    "    print('------------')"
   ]
  },
  {
   "cell_type": "markdown",
   "metadata": {},
   "source": [
    "#### INSERT SPOTIFY DATA"
   ]
  },
  {
   "cell_type": "code",
   "execution_count": 24,
   "metadata": {},
   "outputs": [],
   "source": [
    "def insert_api_spotify(year, tuples):\n",
    "    query_table = \"\"\"INSERT INTO api_spotify_playlist (Artist, Track, Popularity, EurovisionYear, Duration)\n",
    "                    VALUES (%s, %s, %s, %s, %s)\"\"\"\n",
    "    \n",
    "    tuples_year = [(t[:3] + (year,) + t[3:]) for t in tuples]\n",
    "\n",
    "    mycursor = cnx.cursor()\n",
    "    mycursor.executemany(query_table,  tuples_year)\n",
    "    print(mycursor.rowcount,'values entered')\n",
    "    cnx.commit()"
   ]
  },
  {
   "cell_type": "markdown",
   "metadata": {},
   "source": [
    "### 2019"
   ]
  },
  {
   "cell_type": "code",
   "execution_count": 25,
   "metadata": {},
   "outputs": [
    {
     "name": "stdout",
     "output_type": "stream",
     "text": [
      "42 values entered\n"
     ]
    }
   ],
   "source": [
    "df_api_spotify2019 = pd.read_csv(\"../../files/Spotify_sql/eurovision2019.csv\", index_col=0)\n",
    "api_spotify2019_tuples = list(df_api_spotify2019.itertuples(index=False, name=None))\n",
    "year19 = 2019\n",
    "insert_api_spotify(year19, api_spotify2019_tuples)"
   ]
  },
  {
   "cell_type": "markdown",
   "metadata": {},
   "source": [
    "### 2021"
   ]
  },
  {
   "cell_type": "code",
   "execution_count": 26,
   "metadata": {},
   "outputs": [
    {
     "name": "stdout",
     "output_type": "stream",
     "text": [
      "53 values entered\n"
     ]
    }
   ],
   "source": [
    "df_api_spotify2021 = pd.read_csv(\"../../files/Spotify_sql/eurovision2021.csv\", index_col=0)\n",
    "api_spotify2021_tuples = list(df_api_spotify2021.itertuples(index=False, name=None))\n",
    "year21 = 2021\n",
    "insert_api_spotify(year21, api_spotify2021_tuples)"
   ]
  },
  {
   "cell_type": "markdown",
   "metadata": {},
   "source": [
    "### 2022"
   ]
  },
  {
   "cell_type": "code",
   "execution_count": 27,
   "metadata": {},
   "outputs": [
    {
     "name": "stdout",
     "output_type": "stream",
     "text": [
      "40 values entered\n"
     ]
    }
   ],
   "source": [
    "df_api_spotify2022 = pd.read_csv(\"../../files/Spotify_sql/eurovision2022.csv\", index_col=0)\n",
    "api_spotify2022_tuples = list(df_api_spotify2022.itertuples(index=False, name=None))\n",
    "year22 = 2022\n",
    "insert_api_spotify(year22, api_spotify2022_tuples)"
   ]
  },
  {
   "cell_type": "markdown",
   "metadata": {},
   "source": [
    "### 2023"
   ]
  },
  {
   "cell_type": "code",
   "execution_count": 28,
   "metadata": {},
   "outputs": [
    {
     "name": "stdout",
     "output_type": "stream",
     "text": [
      "38 values entered\n"
     ]
    }
   ],
   "source": [
    "df_api_spotify2023 = pd.read_csv(\"../../files/Spotify_sql/eurovision2023.csv\", index_col=0)\n",
    "api_spotify2023_tuples = list(df_api_spotify2023.itertuples(index=False, name=None))\n",
    "year23 = 2023\n",
    "insert_api_spotify(year23, api_spotify2023_tuples)"
   ]
  },
  {
   "cell_type": "markdown",
   "metadata": {},
   "source": [
    "### 2024"
   ]
  },
  {
   "cell_type": "code",
   "execution_count": 29,
   "metadata": {},
   "outputs": [
    {
     "name": "stdout",
     "output_type": "stream",
     "text": [
      "37 values entered\n"
     ]
    }
   ],
   "source": [
    "df_api_spotify2024 = pd.read_csv(\"../../files/Spotify_sql/eurovision2024.csv\", index_col=0)\n",
    "api_spotify2024_tuples = list(df_api_spotify2024.itertuples(index=False, name=None))\n",
    "year24 = 2024\n",
    "insert_api_spotify(year24, api_spotify2024_tuples)"
   ]
  },
  {
   "cell_type": "markdown",
   "metadata": {},
   "source": [
    "## LAST FM DATA ARTISTS TABLE CREATION AND FEEDING"
   ]
  },
  {
   "cell_type": "code",
   "execution_count": 30,
   "metadata": {},
   "outputs": [],
   "source": [
    "lastfm_artists_table = {'API_LastFM_Info_Artists' : \"\"\"CREATE TABLE api_lastfm_info_artists (\n",
    "                                                    ID INT NOT NULL AUTO_INCREMENT,\n",
    "                                                    Artist VARCHAR(45) NOT NULL,\n",
    "                                                    Listeners INT,\n",
    "                                                    Playcount INT,\n",
    "                                                    Genre1 VARCHAR(45),\n",
    "                                                    Genre2 VARCHAR(45),\n",
    "                                                    Genre3 VARCHAR(45),\n",
    "                                                    Similar_Artists1 VARCHAR(45),\n",
    "                                                    Similar_Artists2 VARCHAR(45),\n",
    "                                                    Similar_Artists3 VARCHAR(45),\n",
    "                                                    PRIMARY KEY (ID))\"\"\" }"
   ]
  },
  {
   "cell_type": "code",
   "execution_count": 31,
   "metadata": {},
   "outputs": [
    {
     "name": "stdout",
     "output_type": "stream",
     "text": [
      "Creating table: API_LastFM_Info_Artists\n",
      "------------\n"
     ]
    }
   ],
   "source": [
    "for k, v in lastfm_artists_table.items():\n",
    "    print(f'Creating table: {k}')\n",
    "    mycursor.execute(v)\n",
    "\n",
    "    print('------------')"
   ]
  },
  {
   "cell_type": "markdown",
   "metadata": {},
   "source": [
    "#### INSERT LASTFM ARTIST DATA"
   ]
  },
  {
   "cell_type": "code",
   "execution_count": 32,
   "metadata": {},
   "outputs": [],
   "source": [
    "def insert_api_lastfm(tuples):\n",
    "    query_table = \"\"\"INSERT INTO api_lastfm_info_artists (Artist, Listeners, Playcount, Genre1, Genre2, Genre3, Similar_Artists1, Similar_Artists2, Similar_Artists3)\n",
    "                    VALUES (%s, %s, %s, %s, %s, %s, %s, %s, %s)\"\"\"\n",
    "    \n",
    "\n",
    "    mycursor = cnx.cursor()\n",
    "    mycursor.executemany(query_table, tuples)\n",
    "    print(mycursor.rowcount,'values entered')\n",
    "    cnx.commit()"
   ]
  },
  {
   "cell_type": "markdown",
   "metadata": {},
   "source": [
    "### 2019"
   ]
  },
  {
   "cell_type": "code",
   "execution_count": 33,
   "metadata": {},
   "outputs": [
    {
     "name": "stdout",
     "output_type": "stream",
     "text": [
      "5 values entered\n"
     ]
    }
   ],
   "source": [
    "df_lastfm2019_artists = pd.read_csv(\"../../files/LastFm/2019/info_artists_2019.csv\", sep=\";\")\n",
    "df_lastfm2019_artists_notnull = df_lastfm2019_artists.where(pd.notnull(df_lastfm2019_artists), None)\n",
    "api_lastfm2019_tuples = list(df_lastfm2019_artists_notnull.itertuples(index=False, name=None))\n",
    "insert_api_lastfm(api_lastfm2019_tuples)"
   ]
  },
  {
   "cell_type": "markdown",
   "metadata": {},
   "source": [
    "### 2021"
   ]
  },
  {
   "cell_type": "code",
   "execution_count": 34,
   "metadata": {},
   "outputs": [
    {
     "name": "stdout",
     "output_type": "stream",
     "text": [
      "5 values entered\n"
     ]
    }
   ],
   "source": [
    "df_lastfm2021_artists = pd.read_csv(\"../../files/LastFm/2021/info_artists_2021.csv\", sep=\";\")\n",
    "df_lastfm2021_artists_notnull = df_lastfm2021_artists.where(pd.notnull(df_lastfm2021_artists), None)\n",
    "api_lastfm2021_tuples = list(df_lastfm2021_artists_notnull.itertuples(index=False, name=None))\n",
    "insert_api_lastfm(api_lastfm2021_tuples)"
   ]
  },
  {
   "cell_type": "markdown",
   "metadata": {},
   "source": [
    "### 2022"
   ]
  },
  {
   "cell_type": "code",
   "execution_count": 35,
   "metadata": {},
   "outputs": [
    {
     "name": "stdout",
     "output_type": "stream",
     "text": [
      "5 values entered\n"
     ]
    }
   ],
   "source": [
    "df_lastfm2022_artists = pd.read_csv(\"../../files/LastFm/2022/info_artists_2022.csv\", sep=\";\")\n",
    "df_lastfm2022_artists_notnull = df_lastfm2022_artists.where(pd.notnull(df_lastfm2022_artists), None)\n",
    "api_lastfm2022_tuples = list(df_lastfm2022_artists_notnull.itertuples(index=False, name=None))\n",
    "insert_api_lastfm(api_lastfm2022_tuples)"
   ]
  },
  {
   "cell_type": "markdown",
   "metadata": {},
   "source": [
    "### 2023"
   ]
  },
  {
   "cell_type": "code",
   "execution_count": 36,
   "metadata": {},
   "outputs": [
    {
     "name": "stdout",
     "output_type": "stream",
     "text": [
      "5 values entered\n"
     ]
    }
   ],
   "source": [
    "df_lastfm2023_artists = pd.read_csv(\"../../files/LastFm/2023/info_artists_2023.csv\", sep=\";\")\n",
    "df_lastfm2023_artists_notnull = df_lastfm2023_artists.where(pd.notnull(df_lastfm2023_artists), None)\n",
    "api_lastfm2023_tuples = list(df_lastfm2023_artists_notnull.itertuples(index=False, name=None))\n",
    "insert_api_lastfm(api_lastfm2023_tuples)"
   ]
  },
  {
   "cell_type": "markdown",
   "metadata": {},
   "source": [
    "### 2024"
   ]
  },
  {
   "cell_type": "code",
   "execution_count": 37,
   "metadata": {},
   "outputs": [
    {
     "name": "stdout",
     "output_type": "stream",
     "text": [
      "5 values entered\n"
     ]
    }
   ],
   "source": [
    "df_lastfm2024_artists = pd.read_csv(\"../../files/LastFm/2024/info_artists_2024.csv\", sep=\";\")\n",
    "df_lastfm2024_artists_notnull = df_lastfm2024_artists.where(pd.notnull(df_lastfm2024_artists), None)\n",
    "api_lastfm2024_tuples = list(df_lastfm2024_artists_notnull.itertuples(index=False, name=None))\n",
    "insert_api_lastfm(api_lastfm2024_tuples)"
   ]
  },
  {
   "cell_type": "markdown",
   "metadata": {},
   "source": [
    "#### INSERT LAST FM API DATA TOP TRACKS"
   ]
  },
  {
   "cell_type": "code",
   "execution_count": 38,
   "metadata": {},
   "outputs": [],
   "source": [
    "lastfm_tops_table = {'API_LastFM_Top_Tracks' : \"\"\"CREATE TABLE api_lastfm_top_tracks (\n",
    "                                                    ID INT NOT NULL AUTO_INCREMENT,\n",
    "                                                    Release_year YEAR NOT NULL,\n",
    "                                                    Artist VARCHAR(70) NOT NULL,\n",
    "                                                    Top_track VARCHAR(150),\n",
    "                                                    PRIMARY KEY (ID))\"\"\" }"
   ]
  },
  {
   "cell_type": "code",
   "execution_count": 39,
   "metadata": {},
   "outputs": [
    {
     "name": "stdout",
     "output_type": "stream",
     "text": [
      "Creating table: API_LastFM_Top_Tracks\n",
      "------------\n"
     ]
    }
   ],
   "source": [
    "for k, v in lastfm_tops_table.items():\n",
    "    print(f'Creating table: {k}')\n",
    "    mycursor.execute(v)\n",
    "\n",
    "    print('------------')"
   ]
  },
  {
   "cell_type": "markdown",
   "metadata": {},
   "source": [
    "#### INSERT LASTFM TOP TRACKS PER ARTIST DATA"
   ]
  },
  {
   "cell_type": "code",
   "execution_count": 40,
   "metadata": {},
   "outputs": [],
   "source": [
    "def insert_api_lastfm_toptracks(tuples):\n",
    "    query_table = \"\"\"INSERT INTO api_lastfm_top_tracks (Release_year, Artist, Top_track)\n",
    "                    VALUES (%s, %s, %s)\"\"\"\n",
    "    \n",
    "\n",
    "    mycursor = cnx.cursor()\n",
    "    mycursor.executemany(query_table, tuples)\n",
    "    print(mycursor.rowcount,'values entered')\n",
    "    cnx.commit()"
   ]
  },
  {
   "cell_type": "markdown",
   "metadata": {},
   "source": [
    "### 2019"
   ]
  },
  {
   "cell_type": "code",
   "execution_count": 41,
   "metadata": {},
   "outputs": [
    {
     "name": "stdout",
     "output_type": "stream",
     "text": [
      "15 values entered\n"
     ]
    }
   ],
   "source": [
    "df_lastfm2019_top = pd.read_csv(\"../../files/LastFm/2019/top_tracks_2019.csv\", sep=\",\")\n",
    "lastfm2019_top_tuples = list(df_lastfm2019_top.itertuples(index=False, name=None))\n",
    "insert_api_lastfm_toptracks(lastfm2019_top_tuples)"
   ]
  },
  {
   "cell_type": "markdown",
   "metadata": {},
   "source": [
    "### 2021"
   ]
  },
  {
   "cell_type": "code",
   "execution_count": 42,
   "metadata": {},
   "outputs": [
    {
     "name": "stdout",
     "output_type": "stream",
     "text": [
      "15 values entered\n"
     ]
    }
   ],
   "source": [
    "df_lastfm2021_top = pd.read_csv(\"../../files/LastFm/2021/top_tracks_2021.csv\", sep=\",\")\n",
    "df_lastfm2021_top_notnull = df_lastfm2021_top.where(pd.notnull(df_lastfm2021_top), None)\n",
    "lastfm2021_top_tuples = list(df_lastfm2021_top_notnull.itertuples(index=False, name=None))\n",
    "insert_api_lastfm_toptracks(lastfm2021_top_tuples)"
   ]
  },
  {
   "cell_type": "markdown",
   "metadata": {},
   "source": [
    "### 2022"
   ]
  },
  {
   "cell_type": "code",
   "execution_count": 43,
   "metadata": {},
   "outputs": [
    {
     "name": "stdout",
     "output_type": "stream",
     "text": [
      "15 values entered\n"
     ]
    }
   ],
   "source": [
    "df_lastfm2022_top = pd.read_csv(\"../../files/LastFm/2022/top_tracks_2022.csv\", sep=\",\")\n",
    "df_lastfm2022_top_notnull = df_lastfm2022_top.where(pd.notnull(df_lastfm2022_top), None)\n",
    "lastfm2022_top_tuples = list(df_lastfm2022_top_notnull.itertuples(index=False, name=None))\n",
    "insert_api_lastfm_toptracks(lastfm2022_top_tuples)"
   ]
  },
  {
   "cell_type": "markdown",
   "metadata": {},
   "source": [
    "### 2023"
   ]
  },
  {
   "cell_type": "code",
   "execution_count": 44,
   "metadata": {},
   "outputs": [
    {
     "ename": "DatabaseError",
     "evalue": "1265 (01000): Data truncated for column 'Release_year' at row 8",
     "output_type": "error",
     "traceback": [
      "\u001b[1;31m---------------------------------------------------------------------------\u001b[0m",
      "\u001b[1;31mMySQLInterfaceError\u001b[0m                       Traceback (most recent call last)",
      "File \u001b[1;32mc:\\Users\\panac\\anaconda3\\Lib\\site-packages\\mysql\\connector\\connection_cext.py:755\u001b[0m, in \u001b[0;36mCMySQLConnection.cmd_query\u001b[1;34m(self, query, raw, buffered, raw_as_string, **kwargs)\u001b[0m\n\u001b[0;32m    754\u001b[0m         query \u001b[38;5;241m=\u001b[39m query\u001b[38;5;241m.\u001b[39mencode(\u001b[38;5;124m\"\u001b[39m\u001b[38;5;124mutf-8\u001b[39m\u001b[38;5;124m\"\u001b[39m)\n\u001b[1;32m--> 755\u001b[0m     \u001b[38;5;28mself\u001b[39m\u001b[38;5;241m.\u001b[39m_cmysql\u001b[38;5;241m.\u001b[39mquery(\n\u001b[0;32m    756\u001b[0m         query,\n\u001b[0;32m    757\u001b[0m         raw\u001b[38;5;241m=\u001b[39mraw,\n\u001b[0;32m    758\u001b[0m         buffered\u001b[38;5;241m=\u001b[39mbuffered,\n\u001b[0;32m    759\u001b[0m         raw_as_string\u001b[38;5;241m=\u001b[39mraw_as_string,\n\u001b[0;32m    760\u001b[0m         query_attrs\u001b[38;5;241m=\u001b[39m\u001b[38;5;28mself\u001b[39m\u001b[38;5;241m.\u001b[39mquery_attrs,\n\u001b[0;32m    761\u001b[0m     )\n\u001b[0;32m    762\u001b[0m \u001b[38;5;28;01mexcept\u001b[39;00m MySQLInterfaceError \u001b[38;5;28;01mas\u001b[39;00m err:\n",
      "\u001b[1;31mMySQLInterfaceError\u001b[0m: Data truncated for column 'Release_year' at row 8",
      "\nThe above exception was the direct cause of the following exception:\n",
      "\u001b[1;31mDatabaseError\u001b[0m                             Traceback (most recent call last)",
      "Cell \u001b[1;32mIn[44], line 4\u001b[0m\n\u001b[0;32m      2\u001b[0m df_lastfm2023_top_notnull \u001b[38;5;241m=\u001b[39m df_lastfm2023_top\u001b[38;5;241m.\u001b[39mwhere(pd\u001b[38;5;241m.\u001b[39mnotnull(df_lastfm2023_top), \u001b[38;5;28;01mNone\u001b[39;00m)\n\u001b[0;32m      3\u001b[0m lastfm2023_top_tuples \u001b[38;5;241m=\u001b[39m \u001b[38;5;28mlist\u001b[39m(df_lastfm2023_top_notnull\u001b[38;5;241m.\u001b[39mitertuples(index\u001b[38;5;241m=\u001b[39m\u001b[38;5;28;01mFalse\u001b[39;00m, name\u001b[38;5;241m=\u001b[39m\u001b[38;5;28;01mNone\u001b[39;00m))\n\u001b[1;32m----> 4\u001b[0m insert_api_lastfm_toptracks(lastfm2023_top_tuples)\n",
      "Cell \u001b[1;32mIn[40], line 7\u001b[0m, in \u001b[0;36minsert_api_lastfm_toptracks\u001b[1;34m(tuples)\u001b[0m\n\u001b[0;32m      2\u001b[0m query_table \u001b[38;5;241m=\u001b[39m \u001b[38;5;124m\"\"\"\u001b[39m\u001b[38;5;124mINSERT INTO api_lastfm_top_tracks (Release_year, Artist, Top_track)\u001b[39m\n\u001b[0;32m      3\u001b[0m \u001b[38;5;124m                VALUES (\u001b[39m\u001b[38;5;132;01m%s\u001b[39;00m\u001b[38;5;124m, \u001b[39m\u001b[38;5;132;01m%s\u001b[39;00m\u001b[38;5;124m, \u001b[39m\u001b[38;5;132;01m%s\u001b[39;00m\u001b[38;5;124m)\u001b[39m\u001b[38;5;124m\"\"\"\u001b[39m\n\u001b[0;32m      6\u001b[0m mycursor \u001b[38;5;241m=\u001b[39m cnx\u001b[38;5;241m.\u001b[39mcursor()\n\u001b[1;32m----> 7\u001b[0m mycursor\u001b[38;5;241m.\u001b[39mexecutemany(query_table, tuples)\n\u001b[0;32m      8\u001b[0m \u001b[38;5;28mprint\u001b[39m(mycursor\u001b[38;5;241m.\u001b[39mrowcount,\u001b[38;5;124m'\u001b[39m\u001b[38;5;124mvalues entered\u001b[39m\u001b[38;5;124m'\u001b[39m)\n\u001b[0;32m      9\u001b[0m cnx\u001b[38;5;241m.\u001b[39mcommit()\n",
      "File \u001b[1;32mc:\\Users\\panac\\anaconda3\\Lib\\site-packages\\mysql\\connector\\cursor_cext.py:469\u001b[0m, in \u001b[0;36mCMySQLCursor.executemany\u001b[1;34m(self, operation, seq_params)\u001b[0m\n\u001b[0;32m    467\u001b[0m     \u001b[38;5;28;01mif\u001b[39;00m stmt \u001b[38;5;129;01mis\u001b[39;00m \u001b[38;5;129;01mnot\u001b[39;00m \u001b[38;5;28;01mNone\u001b[39;00m:\n\u001b[0;32m    468\u001b[0m         \u001b[38;5;28mself\u001b[39m\u001b[38;5;241m.\u001b[39m_executed \u001b[38;5;241m=\u001b[39m stmt\n\u001b[1;32m--> 469\u001b[0m         \u001b[38;5;28;01mreturn\u001b[39;00m \u001b[38;5;28mself\u001b[39m\u001b[38;5;241m.\u001b[39mexecute(cast(\u001b[38;5;28mstr\u001b[39m, stmt))\n\u001b[0;32m    471\u001b[0m rowcnt \u001b[38;5;241m=\u001b[39m \u001b[38;5;241m0\u001b[39m\n\u001b[0;32m    472\u001b[0m \u001b[38;5;28;01mtry\u001b[39;00m:\n\u001b[0;32m    473\u001b[0m     \u001b[38;5;66;03m# When processing read ops (e.g., SELECT), rowcnt is updated\u001b[39;00m\n\u001b[0;32m    474\u001b[0m     \u001b[38;5;66;03m# based on self._rowcount. For write ops (e.g., INSERT) is\u001b[39;00m\n\u001b[0;32m    475\u001b[0m     \u001b[38;5;66;03m# updated based on self._affected_rows.\u001b[39;00m\n\u001b[0;32m    476\u001b[0m     \u001b[38;5;66;03m# The variable self._description is None for write ops, that's\u001b[39;00m\n\u001b[0;32m    477\u001b[0m     \u001b[38;5;66;03m# why we use it as indicator for updating rowcnt.\u001b[39;00m\n",
      "File \u001b[1;32mc:\\Users\\panac\\anaconda3\\Lib\\site-packages\\mysql\\connector\\cursor_cext.py:351\u001b[0m, in \u001b[0;36mCMySQLCursor.execute\u001b[1;34m(self, operation, params, map_results)\u001b[0m\n\u001b[0;32m    343\u001b[0m \u001b[38;5;28mself\u001b[39m\u001b[38;5;241m.\u001b[39m_executed \u001b[38;5;241m=\u001b[39m (\n\u001b[0;32m    344\u001b[0m     \u001b[38;5;28mself\u001b[39m\u001b[38;5;241m.\u001b[39m_stmt_partition[\u001b[38;5;124m\"\u001b[39m\u001b[38;5;124msingle_stmts\u001b[39m\u001b[38;5;124m\"\u001b[39m]\u001b[38;5;241m.\u001b[39mpopleft()\n\u001b[0;32m    345\u001b[0m     \u001b[38;5;28;01mif\u001b[39;00m map_results\n\u001b[0;32m    346\u001b[0m     \u001b[38;5;28;01melse\u001b[39;00m \u001b[38;5;28mself\u001b[39m\u001b[38;5;241m.\u001b[39m_stmt_partition[\u001b[38;5;124m\"\u001b[39m\u001b[38;5;124mmappable_stmt\u001b[39m\u001b[38;5;124m\"\u001b[39m]\n\u001b[0;32m    347\u001b[0m )\n\u001b[0;32m    349\u001b[0m \u001b[38;5;28;01mtry\u001b[39;00m:\n\u001b[0;32m    350\u001b[0m     \u001b[38;5;28mself\u001b[39m\u001b[38;5;241m.\u001b[39m_handle_result(\n\u001b[1;32m--> 351\u001b[0m         \u001b[38;5;28mself\u001b[39m\u001b[38;5;241m.\u001b[39m_connection\u001b[38;5;241m.\u001b[39mcmd_query(\n\u001b[0;32m    352\u001b[0m             \u001b[38;5;28mself\u001b[39m\u001b[38;5;241m.\u001b[39m_stmt_partition[\u001b[38;5;124m\"\u001b[39m\u001b[38;5;124mmappable_stmt\u001b[39m\u001b[38;5;124m\"\u001b[39m],\n\u001b[0;32m    353\u001b[0m             raw\u001b[38;5;241m=\u001b[39m\u001b[38;5;28mself\u001b[39m\u001b[38;5;241m.\u001b[39m_raw,\n\u001b[0;32m    354\u001b[0m             buffered\u001b[38;5;241m=\u001b[39m\u001b[38;5;28mself\u001b[39m\u001b[38;5;241m.\u001b[39m_buffered,\n\u001b[0;32m    355\u001b[0m             raw_as_string\u001b[38;5;241m=\u001b[39m\u001b[38;5;28mself\u001b[39m\u001b[38;5;241m.\u001b[39m_raw_as_string,\n\u001b[0;32m    356\u001b[0m         )\n\u001b[0;32m    357\u001b[0m     )\n\u001b[0;32m    358\u001b[0m \u001b[38;5;28;01mexcept\u001b[39;00m MySQLInterfaceError \u001b[38;5;28;01mas\u001b[39;00m err:\n\u001b[0;32m    359\u001b[0m     \u001b[38;5;28;01mraise\u001b[39;00m get_mysql_exception(\n\u001b[0;32m    360\u001b[0m         msg\u001b[38;5;241m=\u001b[39merr\u001b[38;5;241m.\u001b[39mmsg, errno\u001b[38;5;241m=\u001b[39merr\u001b[38;5;241m.\u001b[39merrno, sqlstate\u001b[38;5;241m=\u001b[39merr\u001b[38;5;241m.\u001b[39msqlstate\n\u001b[0;32m    361\u001b[0m     ) \u001b[38;5;28;01mfrom\u001b[39;00m \u001b[38;5;21;01merr\u001b[39;00m\n",
      "File \u001b[1;32mc:\\Users\\panac\\anaconda3\\Lib\\site-packages\\mysql\\connector\\opentelemetry\\context_propagation.py:97\u001b[0m, in \u001b[0;36mwith_context_propagation.<locals>.wrapper\u001b[1;34m(cnx, *args, **kwargs)\u001b[0m\n\u001b[0;32m     95\u001b[0m \u001b[38;5;66;03m# pylint: disable=possibly-used-before-assignment\u001b[39;00m\n\u001b[0;32m     96\u001b[0m \u001b[38;5;28;01mif\u001b[39;00m \u001b[38;5;129;01mnot\u001b[39;00m OTEL_ENABLED \u001b[38;5;129;01mor\u001b[39;00m \u001b[38;5;129;01mnot\u001b[39;00m cnx\u001b[38;5;241m.\u001b[39motel_context_propagation:\n\u001b[1;32m---> 97\u001b[0m     \u001b[38;5;28;01mreturn\u001b[39;00m method(cnx, \u001b[38;5;241m*\u001b[39margs, \u001b[38;5;241m*\u001b[39m\u001b[38;5;241m*\u001b[39mkwargs)\n\u001b[0;32m     99\u001b[0m current_span \u001b[38;5;241m=\u001b[39m trace\u001b[38;5;241m.\u001b[39mget_current_span()\n\u001b[0;32m    100\u001b[0m tp_header \u001b[38;5;241m=\u001b[39m \u001b[38;5;28;01mNone\u001b[39;00m\n",
      "File \u001b[1;32mc:\\Users\\panac\\anaconda3\\Lib\\site-packages\\mysql\\connector\\connection_cext.py:763\u001b[0m, in \u001b[0;36mCMySQLConnection.cmd_query\u001b[1;34m(self, query, raw, buffered, raw_as_string, **kwargs)\u001b[0m\n\u001b[0;32m    755\u001b[0m     \u001b[38;5;28mself\u001b[39m\u001b[38;5;241m.\u001b[39m_cmysql\u001b[38;5;241m.\u001b[39mquery(\n\u001b[0;32m    756\u001b[0m         query,\n\u001b[0;32m    757\u001b[0m         raw\u001b[38;5;241m=\u001b[39mraw,\n\u001b[1;32m   (...)\u001b[0m\n\u001b[0;32m    760\u001b[0m         query_attrs\u001b[38;5;241m=\u001b[39m\u001b[38;5;28mself\u001b[39m\u001b[38;5;241m.\u001b[39mquery_attrs,\n\u001b[0;32m    761\u001b[0m     )\n\u001b[0;32m    762\u001b[0m \u001b[38;5;28;01mexcept\u001b[39;00m MySQLInterfaceError \u001b[38;5;28;01mas\u001b[39;00m err:\n\u001b[1;32m--> 763\u001b[0m     \u001b[38;5;28;01mraise\u001b[39;00m get_mysql_exception(\n\u001b[0;32m    764\u001b[0m         err\u001b[38;5;241m.\u001b[39merrno, msg\u001b[38;5;241m=\u001b[39merr\u001b[38;5;241m.\u001b[39mmsg, sqlstate\u001b[38;5;241m=\u001b[39merr\u001b[38;5;241m.\u001b[39msqlstate\n\u001b[0;32m    765\u001b[0m     ) \u001b[38;5;28;01mfrom\u001b[39;00m \u001b[38;5;21;01merr\u001b[39;00m\n\u001b[0;32m    766\u001b[0m \u001b[38;5;28;01mexcept\u001b[39;00m \u001b[38;5;167;01mAttributeError\u001b[39;00m \u001b[38;5;28;01mas\u001b[39;00m err:\n\u001b[0;32m    767\u001b[0m     addr \u001b[38;5;241m=\u001b[39m (\n\u001b[0;32m    768\u001b[0m         \u001b[38;5;28mself\u001b[39m\u001b[38;5;241m.\u001b[39m_unix_socket \u001b[38;5;28;01mif\u001b[39;00m \u001b[38;5;28mself\u001b[39m\u001b[38;5;241m.\u001b[39m_unix_socket \u001b[38;5;28;01melse\u001b[39;00m \u001b[38;5;124mf\u001b[39m\u001b[38;5;124m\"\u001b[39m\u001b[38;5;132;01m{\u001b[39;00m\u001b[38;5;28mself\u001b[39m\u001b[38;5;241m.\u001b[39m_host\u001b[38;5;132;01m}\u001b[39;00m\u001b[38;5;124m:\u001b[39m\u001b[38;5;132;01m{\u001b[39;00m\u001b[38;5;28mself\u001b[39m\u001b[38;5;241m.\u001b[39m_port\u001b[38;5;132;01m}\u001b[39;00m\u001b[38;5;124m\"\u001b[39m\n\u001b[0;32m    769\u001b[0m     )\n",
      "\u001b[1;31mDatabaseError\u001b[0m: 1265 (01000): Data truncated for column 'Release_year' at row 8"
     ]
    }
   ],
   "source": [
    "df_lastfm2023_top = pd.read_csv(\"../../files/LastFm/2023/top_tracks_2023.csv\", sep=\",\")\n",
    "df_lastfm2023_top_notnull = df_lastfm2023_top.where(pd.notnull(df_lastfm2023_top), None)\n",
    "lastfm2023_top_tuples = list(df_lastfm2023_top_notnull.itertuples(index=False, name=None))\n",
    "insert_api_lastfm_toptracks(lastfm2023_top_tuples)"
   ]
  },
  {
   "cell_type": "markdown",
   "metadata": {},
   "source": [
    "### 2024"
   ]
  },
  {
   "cell_type": "code",
   "execution_count": null,
   "metadata": {},
   "outputs": [
    {
     "name": "stdout",
     "output_type": "stream",
     "text": [
      "15 values entered\n"
     ]
    }
   ],
   "source": [
    "df_lastfm2024_top = pd.read_csv(\"../../files/LastFm/2024/top_tracks_2024.csv\", sep=\",\")\n",
    "df_lastfm2024_top_notnull = df_lastfm2024_top.where(pd.notnull(df_lastfm2024_top), None)\n",
    "lastfm2024_top_tuples = list(df_lastfm2024_top_notnull.itertuples(index=False, name=None))\n",
    "insert_api_lastfm_toptracks(lastfm2024_top_tuples)"
   ]
  },
  {
   "cell_type": "markdown",
   "metadata": {},
   "source": [
    "## CLOSING CONNECTION "
   ]
  },
  {
   "cell_type": "code",
   "execution_count": null,
   "metadata": {},
   "outputs": [],
   "source": [
    "cnx.close()"
   ]
  }
 ],
 "metadata": {
  "kernelspec": {
   "display_name": "base",
   "language": "python",
   "name": "python3"
  },
  "language_info": {
   "codemirror_mode": {
    "name": "ipython",
    "version": 3
   },
   "file_extension": ".py",
   "mimetype": "text/x-python",
   "name": "python",
   "nbconvert_exporter": "python",
   "pygments_lexer": "ipython3",
   "version": "3.12.7"
  }
 },
 "nbformat": 4,
 "nbformat_minor": 2
}
