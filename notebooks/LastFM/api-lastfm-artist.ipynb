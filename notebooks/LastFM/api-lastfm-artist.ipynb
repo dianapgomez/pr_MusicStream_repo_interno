{
 "cells": [
  {
   "cell_type": "code",
   "execution_count": 1,
   "metadata": {},
   "outputs": [],
   "source": [
    "# ARTIST INFO CODIGO LIMPIO 25 FEB 2025"
   ]
  },
  {
   "cell_type": "code",
   "execution_count": 2,
   "metadata": {},
   "outputs": [
    {
     "name": "stderr",
     "output_type": "stream",
     "text": [
      "/Users/isabelgarcia/Library/Python/3.9/lib/python/site-packages/urllib3/__init__.py:35: NotOpenSSLWarning: urllib3 v2 only supports OpenSSL 1.1.1+, currently the 'ssl' module is compiled with 'LibreSSL 2.8.3'. See: https://github.com/urllib3/urllib3/issues/3020\n",
      "  warnings.warn(\n"
     ]
    }
   ],
   "source": [
    "import pandas as pd\n",
    "import requests\n",
    "import json\n",
    "import re  # Importar el módulo para limpiar HTML"
   ]
  },
  {
   "cell_type": "code",
   "execution_count": null,
   "metadata": {},
   "outputs": [],
   "source": [
    "api_key = \"XXXXXXXXXXXXXXXXXXXXXX\"\n",
    "share_secret = \"XXXXXXXXXXXXXXXXXX\"\n"
   ]
  },
  {
   "cell_type": "markdown",
   "metadata": {},
   "source": [
    "- Sacamos informacion del artista desde last.fm y nos lo muestra en un DataFrame.\n",
    "- Información extraida: nombre, url, reproducciones, artistas similares, generos y resumen de la biografia."
   ]
  },
  {
   "cell_type": "code",
   "execution_count": 5,
   "metadata": {},
   "outputs": [],
   "source": [
    "#  Lista de los 5 artistas más populares de la playlist de Eurovisión 2022\n",
    "lista_artistas_eurovision = [\"Mahmood\", \"LUM!X\", \"S10\", \"MARO\", \"Subwoolfer\"]"
   ]
  },
  {
   "cell_type": "code",
   "execution_count": 6,
   "metadata": {},
   "outputs": [
    {
     "data": {
      "text/html": [
       "<div>\n",
       "<style scoped>\n",
       "    .dataframe tbody tr th:only-of-type {\n",
       "        vertical-align: middle;\n",
       "    }\n",
       "\n",
       "    .dataframe tbody tr th {\n",
       "        vertical-align: top;\n",
       "    }\n",
       "\n",
       "    .dataframe thead th {\n",
       "        text-align: right;\n",
       "    }\n",
       "</style>\n",
       "<table border=\"1\" class=\"dataframe\">\n",
       "  <thead>\n",
       "    <tr style=\"text-align: right;\">\n",
       "      <th></th>\n",
       "      <th>artista</th>\n",
       "      <th>url</th>\n",
       "      <th>oyentes</th>\n",
       "      <th>reproducciones</th>\n",
       "      <th>generos</th>\n",
       "      <th>artistas_similares</th>\n",
       "      <th>biografia_resumen</th>\n",
       "    </tr>\n",
       "  </thead>\n",
       "  <tbody>\n",
       "    <tr>\n",
       "      <th>0</th>\n",
       "      <td>Mahmood</td>\n",
       "      <td>https://www.last.fm/music/Mahmood</td>\n",
       "      <td>213811</td>\n",
       "      <td>8652431</td>\n",
       "      <td>pop, italian, rnb</td>\n",
       "      <td>Elodie, Angelina Mango, Rose Villain</td>\n",
       "      <td>Alessandro Mahmoud (born 12 September 1992 in ...</td>\n",
       "    </tr>\n",
       "    <tr>\n",
       "      <th>1</th>\n",
       "      <td>LUM!X</td>\n",
       "      <td>https://www.last.fm/music/LUM%21X</td>\n",
       "      <td>202859</td>\n",
       "      <td>2598088</td>\n",
       "      <td>dance, austrian, Eurovision</td>\n",
       "      <td>R3hab, Tungevaag, B3nte</td>\n",
       "      <td>LUM!X is an Austrian DJ and producer. Luca Mic...</td>\n",
       "    </tr>\n",
       "    <tr>\n",
       "      <th>2</th>\n",
       "      <td>S10</td>\n",
       "      <td>https://www.last.fm/music/S10</td>\n",
       "      <td>85114</td>\n",
       "      <td>3568678</td>\n",
       "      <td>pop, dutch, seen live</td>\n",
       "      <td>Froukje, Merol, Cornelia Jakobs</td>\n",
       "      <td>Stien den Hollander, better known as S10, is a...</td>\n",
       "    </tr>\n",
       "    <tr>\n",
       "      <th>3</th>\n",
       "      <td>Maro</td>\n",
       "      <td>https://www.last.fm/music/Maro</td>\n",
       "      <td>183131</td>\n",
       "      <td>2769510</td>\n",
       "      <td>pop, portuguese, Eurovision</td>\n",
       "      <td>Iolanda, Salvador Sobral, Cláudia Pascoal</td>\n",
       "      <td>There are two artists that go by the name Maro...</td>\n",
       "    </tr>\n",
       "    <tr>\n",
       "      <th>4</th>\n",
       "      <td>Subwoolfer</td>\n",
       "      <td>https://www.last.fm/music/Subwoolfer</td>\n",
       "      <td>66905</td>\n",
       "      <td>900344</td>\n",
       "      <td>pop, Eurovision Song Contest, norwegian</td>\n",
       "      <td>KEiiNO, THE ROOP, Efendi</td>\n",
       "      <td>Subwoolfer will be competing in the Melodi Gra...</td>\n",
       "    </tr>\n",
       "  </tbody>\n",
       "</table>\n",
       "</div>"
      ],
      "text/plain": [
       "      artista                                   url oyentes reproducciones  \\\n",
       "0     Mahmood     https://www.last.fm/music/Mahmood  213811        8652431   \n",
       "1       LUM!X     https://www.last.fm/music/LUM%21X  202859        2598088   \n",
       "2         S10         https://www.last.fm/music/S10   85114        3568678   \n",
       "3        Maro        https://www.last.fm/music/Maro  183131        2769510   \n",
       "4  Subwoolfer  https://www.last.fm/music/Subwoolfer   66905         900344   \n",
       "\n",
       "                                   generos  \\\n",
       "0                        pop, italian, rnb   \n",
       "1              dance, austrian, Eurovision   \n",
       "2                    pop, dutch, seen live   \n",
       "3              pop, portuguese, Eurovision   \n",
       "4  pop, Eurovision Song Contest, norwegian   \n",
       "\n",
       "                          artistas_similares  \\\n",
       "0       Elodie, Angelina Mango, Rose Villain   \n",
       "1                    R3hab, Tungevaag, B3nte   \n",
       "2            Froukje, Merol, Cornelia Jakobs   \n",
       "3  Iolanda, Salvador Sobral, Cláudia Pascoal   \n",
       "4                   KEiiNO, THE ROOP, Efendi   \n",
       "\n",
       "                                   biografia_resumen  \n",
       "0  Alessandro Mahmoud (born 12 September 1992 in ...  \n",
       "1  LUM!X is an Austrian DJ and producer. Luca Mic...  \n",
       "2  Stien den Hollander, better known as S10, is a...  \n",
       "3  There are two artists that go by the name Maro...  \n",
       "4  Subwoolfer will be competing in the Melodi Gra...  "
      ]
     },
     "metadata": {},
     "output_type": "display_data"
    }
   ],
   "source": [
    "# Primero hago la funcion para un unico artista: \n",
    "\n",
    "def obtener_info_artista(artist_name, api_key):  #esta funcion para sacar info del artista con ARTIST_NAME y API_KEY: devuelve un diccionario con sus datos.\n",
    "\n",
    "\n",
    "    # Endpoint de la API de Last.fm\n",
    "    url = f\"http://ws.audioscrobbler.com/2.0/?method=artist.getinfo&artist={artist_name}&api_key={api_key}&format=json\"\n",
    "    \n",
    "    # Hago la llamada a la API\n",
    "    response = requests.get(url)  # hago la llamada a la api.\n",
    "    info_artist = response.json()  # y la respuesta de la llamada la convierto en json.\n",
    "\n",
    "    # compruebo la respuesta de la API\n",
    "    if \"error\" in info_artist:\n",
    "        print(f\"Error en la API: {info_artist['message']}\")\n",
    "        return pd.DataFrame()   # si hay error dime el error y dame un DATAFRAME vacio.\n",
    "\n",
    "    # información del artista\n",
    "    nombre = info_artist[\"artist\"].get(\"name\")\n",
    "    url = info_artist[\"artist\"].get(\"url\") \n",
    "    oyentes = info_artist[\"artist\"][\"stats\"].get(\"listeners\")\n",
    "    reproducciones = info_artist[\"artist\"][\"stats\"].get(\"playcount\")\n",
    "\n",
    "    #resumen de la biografía y limpiar etiquetas HTML\n",
    "    bio_summary = info_artist[\"artist\"][\"bio\"].get(\"summary\")\n",
    "    bio_summary_clean = re.sub(r\"<.*?>\", \"\", bio_summary)  # Eliminar etiquetas HTML\n",
    "\n",
    "    # géneros musicales\n",
    "    generos = [tag[\"name\"] for tag in info_artist[\"artist\"][\"tags\"][\"tag\"][:3]] # limito a tres generos del artista\n",
    "    generos_texto = \", \".join(generos)  # utilizo este codigo para que aparezca como cadena de texto y no como lista con corchetes y comillas.\n",
    "\n",
    "    #artistas similares\n",
    "    artistas_similares = [artista[\"name\"] for artista in info_artist[\"artist\"][\"similar\"][\"artist\"][:3]]  # limito a tres artistas similares\n",
    "    artistas_similares_texto = \", \".join(artistas_similares)   # igual que en genero lo convierto en cadena de texto.\n",
    "\n",
    "    return {                    # me devuelve un diccionario con todos los datos que le he pedido del artista.\n",
    "        \"artista\": nombre,\n",
    "        \"url\":url,\n",
    "        \"oyentes\": oyentes,\n",
    "        \"reproducciones\": reproducciones,\n",
    "        \"generos\": generos_texto,\n",
    "        \"artistas_similares\": artistas_similares_texto,\n",
    "        \"biografia_resumen\": bio_summary_clean\n",
    "    }\n",
    "\n",
    "\n",
    "#  la información de VARIOS artistas y la almacena en un DataFrame.\n",
    "\n",
    "def obtener_info_varios_artistas(lista_artistas, api_key):\n",
    "   \n",
    "    datos_artistas = []\n",
    "\n",
    "    for artista in lista_artistas:\n",
    "        info = obtener_info_artista(artista, api_key)  # llamo a la funcion para obtener los datos para cada artista, que itere\n",
    "        if info:  # Solo agregar si la consulta fue ok\n",
    "            datos_artistas.append(info)\n",
    "\n",
    "    \n",
    "    df_artistas = pd.DataFrame(datos_artistas)   # Creo DataFrame con todos los artistas\n",
    "    return df_artistas   # return el DataFrame de todos los artistas.\n",
    "    \n",
    "\"\"\"df_artistas_eurovision = obtener_info_varios_artistas(lista_artistas_eurovision, api_key)\n",
    "\n",
    "print(df_artistas_eurovision.head())\"\"\"  #lo inhabilito porque es otra forma de sacar el dataframe pero se ve peor.\n",
    "\n",
    "# DataFrame con la información de todos los artistas truco de CHATGPT\n",
    "from IPython.display import display  # Importar display para Jupyter\n",
    "\n",
    "df_artistas_eurovision = obtener_info_varios_artistas(lista_artistas_eurovision, api_key)\n",
    "display(df_artistas_eurovision)  # ✅ Mejor visualización en Jupyter\n",
    "\n"
   ]
  },
  {
   "cell_type": "code",
   "execution_count": 8,
   "metadata": {},
   "outputs": [
    {
     "name": "stdout",
     "output_type": "stream",
     "text": [
      "✅ Archivo guardado: artistas_eurovision_2022.csv\n"
     ]
    }
   ],
   "source": [
    "# Para convertirlo a CSV.\n",
    "\n",
    "df_artistas_eurovision.to_csv(\"artistas_eurovision_2022.csv\", index=False)\n",
    "print(\"✅ Archivo guardado: artistas_eurovision_2022.csv\")"
   ]
  },
  {
   "cell_type": "code",
   "execution_count": null,
   "metadata": {},
   "outputs": [],
   "source": []
  },
  {
   "cell_type": "code",
   "execution_count": null,
   "metadata": {},
   "outputs": [],
   "source": []
  }
 ],
 "metadata": {
  "kernelspec": {
   "display_name": "Python 3",
   "language": "python",
   "name": "python3"
  },
  "language_info": {
   "codemirror_mode": {
    "name": "ipython",
    "version": 3
   },
   "file_extension": ".py",
   "mimetype": "text/x-python",
   "name": "python",
   "nbconvert_exporter": "python",
   "pygments_lexer": "ipython3",
   "version": "3.9.6"
  }
 },
 "nbformat": 4,
 "nbformat_minor": 2
}
