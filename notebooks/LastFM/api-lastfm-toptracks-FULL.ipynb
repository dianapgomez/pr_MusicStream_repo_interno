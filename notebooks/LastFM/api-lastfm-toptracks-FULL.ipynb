{
 "cells": [
  {
   "cell_type": "markdown",
   "metadata": {},
   "source": [
    "# Below, the code is presented both step-by-step and complete "
   ]
  },
  {
   "cell_type": "markdown",
   "metadata": {},
   "source": [
    "# Step-by-step:\n"
   ]
  },
  {
   "cell_type": "code",
   "execution_count": 24,
   "metadata": {},
   "outputs": [],
   "source": [
    "import requests\n",
    "import pandas as pd"
   ]
  },
  {
   "cell_type": "code",
   "execution_count": null,
   "metadata": {},
   "outputs": [],
   "source": [
    "MY_API_KEY = \"XXXXX\""
   ]
  },
  {
   "cell_type": "code",
   "execution_count": 46,
   "metadata": {},
   "outputs": [],
   "source": [
    "# Dictionary w/top 5 artists per year\n",
    "\n",
    "top_artists_by_year = {\n",
    "    2019: [\"Duncan\", \"KEiiNO\", \"MARUV\", \"Tamta\", \"Kate Miller-Heidke\"],\n",
    "    2021: [\"Barbara Pravi\", \"Mäneskin\", \"Efendi\", \"Tusse\", \"THE ROOP\"],\n",
    "    2022: [\"Mahmood\", \"LUM!X\", \"S10\", \"MARO\", \"Subwoolfer\"],\n",
    "    2023: [\"Loreen\", \"Alessandra\", \"Käärijä\", \"Marco Mengoni\", \"BLANKA\"],\n",
    "    2024: [\"Joost\", \"Nemo\", \"Slimane\", \"Angelina Mango\", \"Baby Lasagna\"],}"
   ]
  },
  {
   "cell_type": "code",
   "execution_count": null,
   "metadata": {},
   "outputs": [
    {
     "data": {
      "text/plain": [
       "[(2019, ['Duncan', 'KEiiNO', 'MARUV', 'Tamta', 'Kate Miller-Heidke']),\n",
       " (2021, ['Barbara Pravi', 'Mäneskin', 'Efendi', 'Tusse', 'THE ROOP']),\n",
       " (2022, ['Mahmood', 'LUM!X', 'S10', 'MARO', 'Subwoolfer']),\n",
       " (2023, ['Loreen', 'Alessandra', 'Käärijä', 'Marco Mengoni', 'BLANKA']),\n",
       " (2024, ['Joost', 'Nemo', 'Slimane', 'Angelina Mango', 'Baby Lasagna'])]"
      ]
     },
     "execution_count": 47,
     "metadata": {},
     "output_type": "execute_result"
    }
   ],
   "source": [
    "#just confirming\n",
    "\n",
    "lista_top_artists= list(top_artists_by_year.items())\n",
    "lista_top_artists"
   ]
  },
  {
   "cell_type": "code",
   "execution_count": null,
   "metadata": {},
   "outputs": [],
   "source": [
    "def get_top_tracks(artist, year): #year parameter included for future artist/year association in DataFrame o CSV.\n",
    "  \n",
    "    url = f\"http://ws.audioscrobbler.com/2.0/?method=artist.gettoptracks&artist={artist}&api_key={MY_API_KEY}&format=json\"\n",
    "    response = requests.get(url)\n",
    "\n",
    "    if response.status_code == 200:\n",
    "        data_tracks = response.json()\n",
    "        if \"toptracks\" in data_tracks and \"track\" in data_tracks[\"toptracks\"]:\n",
    "            return [{\"Artist\": artist, \"Year\": year, \"Track\": track[\"name\"]} for track in data_tracks[\"toptracks\"][\"track\"][:3]]\n",
    "        else:\n",
    "            print(f\"❌ Error fetching data for {artist} ({year}): {response.status_code}\")\n",
    "\n"
   ]
  },
  {
   "cell_type": "code",
   "execution_count": null,
   "metadata": {},
   "outputs": [
    {
     "name": "stdout",
     "output_type": "stream",
     "text": [
      "📁 Data successfully saved to 'all_top_tracks.csv'\n"
     ]
    }
   ],
   "source": [
    "# Store all data in a single list\n",
    "all_tracks = []\n",
    "\n",
    "# Iterate through years and artists\n",
    "for year, artists in top_artists_by_year.items():\n",
    "    for artist in artists:\n",
    "        all_tracks.extend(get_top_tracks(artist, year))\n",
    "\n",
    "# Convert the list to a DataFrame\n",
    "df = pd.DataFrame(all_tracks)\n",
    "\n",
    "# Save to a single CSV file\n",
    "df.to_csv(\"all_top_tracks.csv\", index=False)\n",
    "\n",
    "print(\"📁 Data successfully saved to 'all_top_tracks.csv'\")"
   ]
  },
  {
   "cell_type": "markdown",
   "metadata": {},
   "source": [
    "## Complete:"
   ]
  },
  {
   "cell_type": "code",
   "execution_count": null,
   "metadata": {},
   "outputs": [
    {
     "name": "stdout",
     "output_type": "stream",
     "text": [
      "📁 Data successfully saved to 'all_top_tracks.csv'\n"
     ]
    }
   ],
   "source": [
    "import requests\n",
    "import pandas as pd\n",
    "\n",
    "MY_API_KEY = \"d32caae8580221bc7c36700494b0b248\"\n",
    "\n",
    "top_artists_by_year = {\n",
    "    2019: [\"Duncan\", \"KEiiNO\", \"MARUV\", \"Tamta\", \"Kate Miller-Heidke\"],\n",
    "    2021: [\"Barbara Pravi\", \"Mäneskin\", \"Efendi\", \"Tusse\", \"THE ROOP\"],\n",
    "    2022: [\"Mahmood\", \"LUM!X\", \"S10\", \"MARO\", \"Subwoolfer\"],\n",
    "    2023: [\"Loreen\", \"Alessandra\", \"Käärijä\", \"Marco Mengoni\", \"BLANKA\"],\n",
    "    2024: [\"Joost\", \"Nemo\", \"Slimane\", \"Angelina Mango\", \"Baby Lasagna\"],}\n",
    "\n",
    "\n",
    "def get_top_tracks(artist, year): \n",
    "  \n",
    "    url = f\"http://ws.audioscrobbler.com/2.0/?method=artist.gettoptracks&artist={artist}&api_key={MY_API_KEY}&format=json\"\n",
    "    response = requests.get(url)\n",
    "\n",
    "    if response.status_code == 200:\n",
    "        data_tracks = response.json()\n",
    "        if \"toptracks\" in data_tracks and \"track\" in data_tracks[\"toptracks\"]:\n",
    "            return [{\"Artist\": artist, \"Year\": year, \"Track\": track[\"name\"]} for track in data_tracks[\"toptracks\"][\"track\"][:3]]\n",
    "        else:\n",
    "            print(f\"❌ Error fetching data for {artist} ({year}): {response.status_code}\")\n",
    "            \n",
    "\n",
    "all_tracks = []\n",
    "\n",
    "for year, artists in top_artists_by_year.items():\n",
    "    for artist in artists:\n",
    "        all_tracks.extend(get_top_tracks(artist, year))\n",
    "\n",
    "df = pd.DataFrame(all_tracks)\n",
    "\n",
    "df.to_csv(\"all_top_tracks.csv\", index=False)\n",
    "\n",
    "print(\"📁 Data successfully saved to 'all_top_tracks.csv'\")\n"
   ]
  }
 ],
 "metadata": {
  "kernelspec": {
   "display_name": "Python 3",
   "language": "python",
   "name": "python3"
  },
  "language_info": {
   "codemirror_mode": {
    "name": "ipython",
    "version": 3
   },
   "file_extension": ".py",
   "mimetype": "text/x-python",
   "name": "python",
   "nbconvert_exporter": "python",
   "pygments_lexer": "ipython3",
   "version": "3.9.6"
  }
 },
 "nbformat": 4,
 "nbformat_minor": 2
}
