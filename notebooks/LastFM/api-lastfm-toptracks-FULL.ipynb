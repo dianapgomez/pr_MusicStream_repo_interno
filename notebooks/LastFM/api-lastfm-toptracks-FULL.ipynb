{
 "cells": [
  {
   "cell_type": "markdown",
   "metadata": {},
   "source": [
    "# Below, the code is presented both step-by-step and complete "
   ]
  },
  {
   "cell_type": "markdown",
   "metadata": {},
   "source": [
    "# Step-by-step:\n"
   ]
  },
  {
   "cell_type": "code",
   "execution_count": null,
   "metadata": {},
   "outputs": [],
   "source": [
    "import requests\n",
    "import pandas as pd"
   ]
  },
  {
   "cell_type": "code",
   "execution_count": null,
   "metadata": {},
   "outputs": [],
   "source": [
    "MY_API_KEY = \"XXXXX\""
   ]
  },
  {
   "cell_type": "code",
   "execution_count": null,
   "metadata": {},
   "outputs": [],
   "source": [
    "# Dictionary w/top 5 artists per year\n",
    "\n",
    "top_artists_by_year = {\n",
    "    2020: [\"Will Ferrell\", \"Little Big\", \"Diodato\", \"BEN & TAN\", \"The Mamas\"],\n",
    "    2021: [\"Barbara Pravi\", \"Mäneskin\", \"Efendi\", \"Tusse\", \"THE ROOP\"],\n",
    "    2022: [\"Mahmood\", \"LUM!X\", \"S10\", \"MARO\", \"Subwoolfer\"],\n",
    "    2023: [\"Loreen\", \"Alessandra\", \"Käärijä\", \"Marco Mengoni\", \"BLANKA\"],\n",
    "    2024: [\"Joost\", \"Nemo\", \"Slimane\", \"Angelina Mango\", \"Baby Lasagna\"],}"
   ]
  },
  {
   "cell_type": "code",
   "execution_count": null,
   "metadata": {},
   "outputs": [],
   "source": [
    "# fetching top 3 tracks per artist\n",
    "\n",
    "def get_top_tracks(artist, year):\n",
    "    url = f\"http://ws.audioscrobbler.com/2.0/?method=artist.gettoptracks&artist={artist}&api_key={MY_API_KEY}&format=json\"\n",
    "    response = requests.get(url)\n",
    "\n",
    "    if response.status_code == 200:\n",
    "        data = response.json()\n",
    "        \n",
    "        if \"toptracks\" in data and \"track\" in data[\"toptracks\"]:\n",
    "            return [{\"Artist\": artist, \"Year\": year, \"Track\": track[\"name\"]} for track in data[\"toptracks\"][\"track\"][:3]]\n",
    "    return []\n"
   ]
  },
  {
   "cell_type": "code",
   "execution_count": null,
   "metadata": {},
   "outputs": [],
   "source": [
    "# List to store all data\n",
    "\n",
    "all_data = []\n",
    "\n",
    "# Loop through years and artists to fetch data\n",
    "for year, artists in top_artists_by_year.items():\n",
    "    for artist in artists:\n",
    "        all_data.extend(get_top_tracks(artist, year))"
   ]
  },
  {
   "cell_type": "code",
   "execution_count": null,
   "metadata": {},
   "outputs": [],
   "source": [
    "# Convert the list into a DataFrame\n",
    "\n",
    "df_total = pd.DataFrame(all_data)"
   ]
  },
  {
   "cell_type": "code",
   "execution_count": null,
   "metadata": {},
   "outputs": [],
   "source": [
    "# Save to a single CSV file\n",
    "\n",
    "final_file = \"top_tracks_2020_2024.csv\"\n",
    "df_total.to_csv(final_file, index=False)\n",
    "\n",
    "print(f\"📁 File saved: {final_file}\")"
   ]
  },
  {
   "cell_type": "markdown",
   "metadata": {},
   "source": [
    "## Complete:"
   ]
  },
  {
   "cell_type": "code",
   "execution_count": null,
   "metadata": {},
   "outputs": [],
   "source": [
    "import requests\n",
    "import pandas as pd\n",
    "\n",
    "MY_API_KEY = \"XXXX\"\n",
    "\n",
    "top_artists_by_year = {\n",
    "    2020: [\"Will Ferrell\", \"Little Big\", \"Diodato\", \"BEN & TAN\", \"The Mamas\"],\n",
    "    2021: [\"Barbara Pravi\", \"Mäneskin\", \"Efendi\", \"Tusse\", \"THE ROOP\"],\n",
    "    2022: [\"Mahmood\", \"LUM!X\", \"S10\", \"MARO\", \"Subwoolfer\"],\n",
    "    2023: [\"Loreen\", \"Alessandra\", \"Käärijä\", \"Marco Mengoni\", \"BLANKA\"],\n",
    "    2024: [\"Joost\", \"Nemo\", \"Slimane\", \"Angelina Mango\", \"Baby Lasagna\"],\n",
    "}\n",
    "\n",
    "def get_top_tracks(artist, year):\n",
    "    url = f\"http://ws.audioscrobbler.com/2.0/?method=artist.gettoptracks&artist={artist}&api_key={MY_API_KEY}&format=json\"\n",
    "    response = requests.get(url)\n",
    "\n",
    "    if response.status_code == 200:\n",
    "        data = response.json()\n",
    "        \n",
    "        if \"toptracks\" in data and \"track\" in data[\"toptracks\"]:\n",
    "            return [{\"Artist\": artist, \"Year\": year, \"Track\": track[\"name\"]} for track in data[\"toptracks\"][\"track\"][:3]]\n",
    "    return []\n",
    "\n",
    "all_data = []\n",
    "\n",
    "for year, artists in top_artists_by_year.items():\n",
    "    for artist in artists:\n",
    "        all_data.extend(get_top_tracks(artist, year))\n",
    "\n",
    "df_total = pd.DataFrame(all_data)\n",
    "\n",
    "final_file = \"top_tracks_2020_2024.csv\"\n",
    "df_total.to_csv(final_file, index=False)\n",
    "\n",
    "print(f\"📁 File saved: {final_file}\")"
   ]
  }
 ],
 "metadata": {
  "language_info": {
   "name": "python"
  }
 },
 "nbformat": 4,
 "nbformat_minor": 2
}
