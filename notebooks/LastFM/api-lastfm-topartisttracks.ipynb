{
 "cells": [
  {
   "cell_type": "code",
   "execution_count": null,
   "metadata": {},
   "outputs": [
    {
     "name": "stdout",
     "output_type": "stream",
     "text": [
      "📁 Archivo guardado: top_tracks_2020.csv\n",
      "📁 Archivo guardado: top_tracks_2021.csv\n",
      "📁 Archivo guardado: top_tracks_2022.csv\n",
      "📁 Archivo guardado: top_tracks_2023.csv\n",
      "📁 Archivo guardado: top_tracks_2024.csv\n"
     ]
    }
   ],
   "source": [
    "import requests\n",
    "import pandas as pd\n",
    "\n",
    "MY_API_KEY = \"XXXXXXXXXX\" #(introducir API KEY)\n",
    "\n",
    "# Diccionario con los top 5 artistas por año extraído de Spotify\n",
    "top_artistas_por_año = {\n",
    "    2020: [\"Will Ferrell\", \"Little Big\", \"Diodato\", \"BEN & TAN\", \"The Mamas\"],\n",
    "    2021: [\"Barbara Pravi\", \"Mäneskin\", \"Efendi\", \"Tusse\", \"THE ROOP\"],\n",
    "    2022: [\"Mahmood\", \"LUM!X\", \"S10\", \"MARO\", \"Subwoolfer\"],\n",
    "    2023: [\"Loreen\", \"Alessandra\", \"Käärijä\", \"Marco Mengoni\", \"BLANKA\"],\n",
    "    2024: [\"Joost\", \"Nemo\", \"Slimane\", \"Angelina Mango\", \"Baby Lasagna\"],\n",
    "}\n",
    "\n",
    "def obtener_datos_top_tracks(artista, año):\n",
    "    #Obtiene los 3 top tracks del artista desde Lastfm API\n",
    "    url = f\"http://ws.audioscrobbler.com/2.0/?method=artist.gettoptracks&artist={artista}&api_key={MY_API_KEY}&format=json\"\n",
    "    response = requests.get(url)\n",
    "\n",
    "    if response.status_code == 200:\n",
    "        datos = response.json()\n",
    "        \n",
    "        if \"toptracks\" in datos and \"track\" in datos[\"toptracks\"]:\n",
    "            return [{\"Año\": año, \"Artista\": artista, \"Track\": track[\"name\"]} for track in datos[\"toptracks\"][\"track\"][:3]]\n",
    "    return []\n",
    "\n",
    "# Iterar los años y artistas para guardar archivos separados\n",
    "for año, artistas in top_artistas_por_año.items():\n",
    "    lista_tracks = []  # Lista para almacenar los datos de cada año\n",
    "    \n",
    "    for artista in artistas:\n",
    "        lista_tracks.extend(obtener_datos_top_tracks(artista, año))\n",
    "    \n",
    "    # Convertir la lista en un DataFrame\n",
    "    df = pd.DataFrame(lista_tracks)\n",
    "    \n",
    "    # Guardar cada año en un archivo CSV separado y se agrega index=False para eliminar el indice \n",
    "    nombre_archivo = f\"top_tracks_{año}.csv\"\n",
    "    df.to_csv(nombre_archivo, index=False)\n",
    "    \n",
    "    print(f\"📁 Archivo guardado: {nombre_archivo}\") \n",
    "    #el output de cada archivo csv está en la carpeta files>lastfm"
   ]
  }
 ],
 "metadata": {
  "kernelspec": {
   "display_name": "Python 3",
   "language": "python",
   "name": "python3"
  },
  "language_info": {
   "codemirror_mode": {
    "name": "ipython",
    "version": 3
   },
   "file_extension": ".py",
   "mimetype": "text/x-python",
   "name": "python",
   "nbconvert_exporter": "python",
   "pygments_lexer": "ipython3",
   "version": "3.9.6"
  }
 },
 "nbformat": 4,
 "nbformat_minor": 2
}
