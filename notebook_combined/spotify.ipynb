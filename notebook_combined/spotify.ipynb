{
 "cells": [
  {
   "cell_type": "markdown",
   "metadata": {},
   "source": [
    "#### Spotify API:\n",
    "- API connection\n",
    "- Data sorting\n",
    "- Data to CSV"
   ]
  },
  {
   "cell_type": "code",
   "execution_count": null,
   "metadata": {},
   "outputs": [],
   "source": [
    "# API connection\n",
    "\n",
    "import pandas as pd\n",
    "import spotipy\n",
    "from spotipy.oauth2 import SpotifyClientCredentials\n",
    "\n",
    "\n",
    "CLIENT_ID = '3f8cc110d1534d4ba1cd6d063cf114e3'\n",
    "CLIENT_SECRET = '2c63ffda0e7d4247aaa719de974460bf'\n",
    "\n",
    "\n",
    "auth_manager = SpotifyClientCredentials(client_id=CLIENT_ID, client_secret=CLIENT_SECRET)\n",
    "sp = spotipy.Spotify(auth_manager=auth_manager)"
   ]
  },
  {
   "cell_type": "code",
   "execution_count": null,
   "metadata": {},
   "outputs": [],
   "source": [
    "# Data sorting\n",
    "\n",
    "spotify_data = []\n",
    "\n",
    "def data_extraction_s(list_url):\n",
    "\n",
    "    for url in list_url:\n",
    "\n",
    "        playlist = sp.playlist(url, fields=None, market=None, additional_types= 'track')\n",
    "\n",
    "        \n",
    "        for item in playlist[\"tracks\"][\"items\"]:\n",
    "            track = item[\"track\"]\n",
    "            artist = item[\"track\"][\"artists\"]\n",
    "            eurovisionyear = playlist['name']\n",
    "\n",
    "            spotify_data.append({\n",
    "                \"artists_name\": artist[0][\"name\"].title(),\n",
    "                \"track_name\": track[\"name\"].title(),\n",
    "                \"popularity\": track[\"popularity\"],\n",
    "                \"duration\": track[\"duration_ms\"],\n",
    "                \"eurovision_year\" : eurovisionyear.title()\n",
    "                })\n",
    "        \n",
    "        "
   ]
  },
  {
   "cell_type": "code",
   "execution_count": null,
   "metadata": {},
   "outputs": [],
   "source": [
    "# Data to CSV\n",
    "\n",
    "raw_data_s = data_extraction_s([\n",
    "    \"https://open.spotify.com/playlist/3ZdQUt8Tmtt7oOU8UM2koe?si=eea27348cf654d21\", \n",
    "    \"https://open.spotify.com/playlist/5h0sQpJnLVzgy5iOH1UNcl?si=3a1d926528484506\", \n",
    "    \"https://open.spotify.com/playlist/3EBtzzGyrlDUr1QvXVGz0h?si=DMNkLRIjQE6THtHUYc-oQw\",\n",
    "    \"https://open.spotify.com/playlist/61fyG82H3Cha91cgKgQT6S?si=o-Xs3DfHRZyRuR8qaY9mxAW\",\n",
    "    \"https://open.spotify.com/playlist/2HMW5JNZNh9HLfIHNzY0DP?si=f29ed55294394682\"\n",
    "    ])\n",
    "\n",
    "df_spotify = pd.DataFrame(spotify_data)\n",
    "df_spotify\n",
    "\n",
    "df_spotify.to_csv('Spotify_data.csv')\n"
   ]
  },
  {
   "cell_type": "code",
   "execution_count": null,
   "metadata": {},
   "outputs": [],
   "source": [
    "df_spotify"
   ]
  },
  {
   "cell_type": "markdown",
   "metadata": {},
   "source": [
    "#### Eurovision API:\n",
    "- Api connection & Sorting\n",
    "- Data to CSV"
   ]
  },
  {
   "cell_type": "code",
   "execution_count": null,
   "metadata": {},
   "outputs": [],
   "source": [
    "import requests\n",
    "import pandas as pd\n",
    "import json"
   ]
  },
  {
   "cell_type": "code",
   "execution_count": null,
   "metadata": {},
   "outputs": [],
   "source": [
    "# API connection & Sorting\n",
    "\n",
    "eurovision_data = []\n",
    "def data_extraction_e(list_years):\n",
    "\n",
    "    eu_data = requests.get(f\"https://eurovisionapi.runasp.net/api/contests/{list_years}/\")\n",
    "\n",
    "    eu_data_json = eu_data.json()\n",
    "    \n",
    "    if 'contestants' in eu_data_json:\n",
    "        \n",
    "        for idx, i in enumerate(eu_data_json[\"contestants\"], start=1):\n",
    "\n",
    "            contestant_name = i[\"artist\"]\n",
    "            song_name = i[\"song\"]\n",
    "            country = i[\"country\"]\n",
    "\n",
    "            eurovision_data.append({\n",
    "                \"Ranking\": idx,\n",
    "                \"Artist\": contestant_name.title(),\n",
    "                \"Track\": song_name.title(),\n",
    "                \"Country\": country.upper(),\n",
    "                \"Eurovision_Year\": list_years\n",
    "                })"
   ]
  },
  {
   "cell_type": "code",
   "execution_count": null,
   "metadata": {},
   "outputs": [],
   "source": [
    "# Data to CSV\n",
    "\n",
    "eurovision_years= [2019,2021,2022,2023,2024]\n",
    "\n",
    "for year in eurovision_years:\n",
    "    raw_data_e = data_extraction_e(year)\n",
    "df_eurovision = pd.DataFrame(eurovision_data)\n",
    "df_eurovision\n",
    "\n",
    "df_eurovision.to_csv('Eurovision_data.csv', index=False)\n"
   ]
  },
  {
   "cell_type": "markdown",
   "metadata": {},
   "source": [
    "#### MySQL Data Base\n",
    "- MySQL connection\n",
    "- Schema Creation and Use\n",
    "- Tables Creation"
   ]
  },
  {
   "cell_type": "code",
   "execution_count": null,
   "metadata": {},
   "outputs": [],
   "source": [
    "# MySQL connection\n",
    "\n",
    "import mysql.connector\n",
    "\n",
    "try:\n",
    "    cnx = mysql.connector.connect(user='root', password='#23Janeiro23#',\n",
    "                              host='127.0.0.1')\n",
    "    \n",
    "\n",
    "    mycursor = cnx.cursor()\n",
    "    \n",
    "\n",
    "except mysql.connector.Error as err:\n",
    "    print(err)\n",
    "    print(\"Error Code:\", err.errno)\n",
    "    print(\"SQLSTATE\", err.sqlstate)\n",
    "    print(\"Message\", err.msg)"
   ]
  },
  {
   "cell_type": "code",
   "execution_count": 19,
   "metadata": {},
   "outputs": [],
   "source": [
    "# Schema Creation and Use\n",
    "\n",
    "query_create_schema = \"\"\"CREATE SCHEMA StreamMusic\"\"\"\n",
    "mycursor.execute(query_create_schema)\n",
    "mycursor.execute('USE StreamMusic')"
   ]
  },
  {
   "cell_type": "code",
   "execution_count": 20,
   "metadata": {},
   "outputs": [
    {
     "name": "stdout",
     "output_type": "stream",
     "text": [
      "Table created: API_Eurovision\n",
      "------------\n",
      "Table created: API_Spotify_Eurovision\n",
      "------------\n",
      "Table created: API_LastFM_Info_Artists\n",
      "------------\n",
      "Table created: API_LastFM_Top_Tracks\n",
      "------------\n"
     ]
    }
   ],
   "source": [
    "# Tables creation\n",
    "\n",
    "\n",
    "the_tables = {  'API_Eurovision' :          \"\"\"CREATE TABLE api_eurovision (\n",
    "                                                EurovisionYear YEAR NOT NULL,\n",
    "                                                Ranking INT NOT NULL,\n",
    "                                                Artist VARCHAR(45) NOT NULL,                              \n",
    "                                                Track VARCHAR(70) NOT NULL,\n",
    "                                                Country VARCHAR(3) NOT NULL)\"\"\",\n",
    "                                                \n",
    "                'API_Spotify_Eurovision' :    \"\"\"CREATE TABLE api_spotify_merged_eurovision (\n",
    "                                                Artist VARCHAR(45),\n",
    "                                                Track VARCHAR(70),\n",
    "                                                Spotify_Duration INT,\n",
    "                                                Spotify_EurovisionYear VARCHAR(25),\n",
    "                                                Spotify_Popularity INT,\n",
    "                                                Eurovision_Ranking INT,\n",
    "                                                Eurovision_Country CHAR(2),\n",
    "                                                PRIMARY KEY (Artist, Track)\n",
    "                                                )\"\"\", \n",
    "                \n",
    "                'API_LastFM_Info_Artists' :  \"\"\"CREATE TABLE api_lastfm_info_artists (\n",
    "                                                Artist VARCHAR(45),\n",
    "                                                Listeners INT,\n",
    "                                                Playcount INT,\n",
    "                                                Genre1 VARCHAR(45),\n",
    "                                                Genre2 VARCHAR(45),\n",
    "                                                Genre3 VARCHAR(45),\n",
    "                                                Similar_Artists1 VARCHAR(45),\n",
    "                                                Similar_Artists2 VARCHAR(45),\n",
    "                                                Similar_Artists3 VARCHAR(45),\n",
    "                                                PRIMARY KEY (Artist),\n",
    "                                                CONSTRAINT fk_artists_from_s\n",
    "                                                        FOREIGN KEY (Artist)\n",
    "                                                        REFERENCES  api_spotify_merged_eurovision (Artist)\n",
    "                                                        ON UPDATE CASCADE\n",
    "                                                        ON DELETE CASCADE\n",
    "                                                )\"\"\",\n",
    "                \n",
    "                'API_LastFM_Top_Tracks' :    \"\"\"CREATE TABLE api_lastfm_top_tracks (\n",
    "                                                Artist VARCHAR(70) NOT NULL,\n",
    "                                                Release_year YEAR NOT NULL,\n",
    "                                                Top_track VARCHAR(150),\n",
    "                                                PRIMARY KEY (Artist),\n",
    "                                                CONSTRAINT fk_tracks_from_s\n",
    "                                                        FOREIGN KEY (Artist)\n",
    "                                                        REFERENCES  api_spotify_merged_eurovision (Artist)\n",
    "                                                        ON UPDATE CASCADE\n",
    "                                                        ON DELETE CASCADE\n",
    "                                                )\"\"\" \n",
    "                }\n",
    "\n",
    "\n",
    "\n",
    "for k, v in the_tables.items():\n",
    "        print(f'Table created: {k}')\n",
    "        mycursor.execute(v)\n",
    "\n",
    "        print('------------')\n",
    "\n"
   ]
  },
  {
   "cell_type": "markdown",
   "metadata": {},
   "source": [
    "#### Data Import\n",
    "\n",
    "- Method\n",
    "- Queries\n",
    "- Data Import"
   ]
  },
  {
   "cell_type": "code",
   "execution_count": null,
   "metadata": {},
   "outputs": [],
   "source": [
    "# Data Import Method\n",
    "\n",
    "def data_import(query,values):\n",
    "\n",
    "    mycursor = cnx.cursor()\n",
    "    mycursor.executemany(query, values)\n",
    "    print(mycursor.rowcount,'values entered')\n",
    "    cnx.commit()\n",
    " "
   ]
  },
  {
   "cell_type": "code",
   "execution_count": null,
   "metadata": {},
   "outputs": [],
   "source": [
    "# Data Import Queries \n",
    "\n",
    "query_s_e_import =            \"\"\" INSERT INTO api_spotify_playlist (Artist, Track, Spotify_Duration, Spotify_EurovisionYear, Spotify_Popularity, Eurovision_Ranking, Eurovision_Country)\n",
    "                                VALUES (%s, %s, %s, %s, %s) \"\"\"\n",
    "\n",
    "query_l_artist_import =     \"\"\" INSERT INTO api_lastfm_info_artists (Artist, Listeners, Playcount, Genre1, Genre2, Genre3, Similar_Artists1, Similar_Artists2, Similar_Artists3)\n",
    "                                VALUES (%s, %s, %s, %s, %s, %s, %s, %s, %s) \"\"\"\n",
    "\n",
    "query_l_toptracks_import =  \"\"\" INSERT INTO api_lastfm_top_tracks (Release_year, Artist, Top_track)\n",
    "                                VALUES (%s, %s, %s) \"\"\"\n",
    "\n"
   ]
  },
  {
   "cell_type": "code",
   "execution_count": null,
   "metadata": {},
   "outputs": [],
   "source": [
    "# Eurovision Data Import\n",
    "\n",
    "e_file = pd.read_csv('Eurovision_data.csv',index_col=0)\n",
    "\n",
    "e_values = list(e_file.itertuples(index=False, name=None))\n",
    "eurovisionimp = data_import(query_e_import, e_values)"
   ]
  },
  {
   "cell_type": "code",
   "execution_count": null,
   "metadata": {},
   "outputs": [],
   "source": [
    "# Spotify Data Import\n",
    "\n",
    "s_file = pd.read_csv('Spotify_data.csv',index_col=0)\n",
    "\n",
    "s_values = list(s_file.itertuples(index = False, name = None))\n",
    "spotifyimp = data_import(query_s_import, s_values)"
   ]
  }
 ],
 "metadata": {
  "kernelspec": {
   "display_name": "base",
   "language": "python",
   "name": "python3"
  },
  "language_info": {
   "codemirror_mode": {
    "name": "ipython",
    "version": 3
   },
   "file_extension": ".py",
   "mimetype": "text/x-python",
   "name": "python",
   "nbconvert_exporter": "python",
   "pygments_lexer": "ipython3",
   "version": "3.12.7"
  }
 },
 "nbformat": 4,
 "nbformat_minor": 2
}
