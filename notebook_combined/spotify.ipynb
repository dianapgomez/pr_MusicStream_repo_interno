{
 "cells": [
  {
   "cell_type": "markdown",
   "metadata": {},
   "source": [
    "#### Spotify API:\n",
    "- API connection\n",
    "- Data sorting\n",
    "- Data to CSV"
   ]
  },
  {
   "cell_type": "code",
   "execution_count": 32,
   "metadata": {},
   "outputs": [],
   "source": [
    "# API connection\n",
    "\n",
    "import pandas as pd\n",
    "import spotipy\n",
    "from spotipy.oauth2 import SpotifyClientCredentials\n",
    "\n",
    "\n",
    "CLIENT_ID = '3f8cc110d1534d4ba1cd6d063cf114e3'\n",
    "CLIENT_SECRET = '2c63ffda0e7d4247aaa719de974460bf'\n",
    "\n",
    "\n",
    "auth_manager = SpotifyClientCredentials(client_id=CLIENT_ID, client_secret=CLIENT_SECRET)\n",
    "sp = spotipy.Spotify(auth_manager=auth_manager)"
   ]
  },
  {
   "cell_type": "code",
   "execution_count": 33,
   "metadata": {},
   "outputs": [],
   "source": [
    "# Data sorting\n",
    "\n",
    "spotify_data = []\n",
    "\n",
    "def data_extraction_s(list_url):\n",
    "\n",
    "    for url in list_url:\n",
    "\n",
    "        playlist = sp.playlist(url, fields=None, market=None, additional_types= 'track')\n",
    "\n",
    "        \n",
    "        for item in playlist[\"tracks\"][\"items\"]:\n",
    "            track = item[\"track\"]\n",
    "            artist = item[\"track\"][\"artists\"]\n",
    "            eurovisionyear = playlist['name']\n",
    "\n",
    "            spotify_data.append({\n",
    "                \"Artist\": artist[0][\"name\"].title(),\n",
    "                \"Track\": track[\"name\"].title(),\n",
    "                \"Spotify_Duration\": track[\"duration_ms\"],\n",
    "                \"Spotify_EurovisionYear\" : eurovisionyear.title(),\n",
    "                \"Spotify_Popularity\": track[\"popularity\"]\n",
    "                })\n",
    "        \n",
    "        "
   ]
  },
  {
   "cell_type": "code",
   "execution_count": 34,
   "metadata": {},
   "outputs": [],
   "source": [
    "# Data to CSV\n",
    "\n",
    "raw_data_s = data_extraction_s([\n",
    "    \"https://open.spotify.com/playlist/3ZdQUt8Tmtt7oOU8UM2koe?si=eea27348cf654d21\", \n",
    "    \"https://open.spotify.com/playlist/5h0sQpJnLVzgy5iOH1UNcl?si=3a1d926528484506\", \n",
    "    \"https://open.spotify.com/playlist/3EBtzzGyrlDUr1QvXVGz0h?si=DMNkLRIjQE6THtHUYc-oQw\",\n",
    "    \"https://open.spotify.com/playlist/61fyG82H3Cha91cgKgQT6S?si=o-Xs3DfHRZyRuR8qaY9mxAW\",\n",
    "    \"https://open.spotify.com/playlist/2HMW5JNZNh9HLfIHNzY0DP?si=f29ed55294394682\"\n",
    "    ])\n",
    "\n",
    "df_spotify = pd.DataFrame(spotify_data)\n",
    "df_spotify\n",
    "\n",
    "df_spotify.to_csv('Spotify_data.csv')\n"
   ]
  },
  {
   "cell_type": "code",
   "execution_count": 35,
   "metadata": {},
   "outputs": [
    {
     "data": {
      "text/html": [
       "<div>\n",
       "<style scoped>\n",
       "    .dataframe tbody tr th:only-of-type {\n",
       "        vertical-align: middle;\n",
       "    }\n",
       "\n",
       "    .dataframe tbody tr th {\n",
       "        vertical-align: top;\n",
       "    }\n",
       "\n",
       "    .dataframe thead th {\n",
       "        text-align: right;\n",
       "    }\n",
       "</style>\n",
       "<table border=\"1\" class=\"dataframe\">\n",
       "  <thead>\n",
       "    <tr style=\"text-align: right;\">\n",
       "      <th></th>\n",
       "      <th>Artist</th>\n",
       "      <th>Track</th>\n",
       "      <th>Spotify_Duration</th>\n",
       "      <th>Spotify_EurovisionYear</th>\n",
       "      <th>Spotify_Popularity</th>\n",
       "    </tr>\n",
       "  </thead>\n",
       "  <tbody>\n",
       "    <tr>\n",
       "      <th>0</th>\n",
       "      <td>Chingiz</td>\n",
       "      <td>Truth - Radio Edit</td>\n",
       "      <td>209411</td>\n",
       "      <td>Eurovision 2019</td>\n",
       "      <td>0</td>\n",
       "    </tr>\n",
       "    <tr>\n",
       "      <th>1</th>\n",
       "      <td>John Lundvik</td>\n",
       "      <td>Too Late For Love</td>\n",
       "      <td>178133</td>\n",
       "      <td>Eurovision 2019</td>\n",
       "      <td>0</td>\n",
       "    </tr>\n",
       "    <tr>\n",
       "      <th>2</th>\n",
       "      <td>Kate Miller-Heidke</td>\n",
       "      <td>Zero Gravity</td>\n",
       "      <td>177443</td>\n",
       "      <td>Eurovision 2019</td>\n",
       "      <td>38</td>\n",
       "    </tr>\n",
       "    <tr>\n",
       "      <th>3</th>\n",
       "      <td>Michela</td>\n",
       "      <td>Chameleon</td>\n",
       "      <td>179698</td>\n",
       "      <td>Eurovision 2019</td>\n",
       "      <td>0</td>\n",
       "    </tr>\n",
       "    <tr>\n",
       "      <th>4</th>\n",
       "      <td>Mahmood</td>\n",
       "      <td>Soldi</td>\n",
       "      <td>195476</td>\n",
       "      <td>Eurovision 2019</td>\n",
       "      <td>0</td>\n",
       "    </tr>\n",
       "    <tr>\n",
       "      <th>...</th>\n",
       "      <td>...</td>\n",
       "      <td>...</td>\n",
       "      <td>...</td>\n",
       "      <td>...</td>\n",
       "      <td>...</td>\n",
       "    </tr>\n",
       "    <tr>\n",
       "      <th>205</th>\n",
       "      <td>Fahree</td>\n",
       "      <td>Özünlə Apar</td>\n",
       "      <td>182090</td>\n",
       "      <td>Eurovision 2024</td>\n",
       "      <td>40</td>\n",
       "    </tr>\n",
       "    <tr>\n",
       "      <th>206</th>\n",
       "      <td>Sarah Bonnici</td>\n",
       "      <td>Loop</td>\n",
       "      <td>179727</td>\n",
       "      <td>Eurovision 2024</td>\n",
       "      <td>42</td>\n",
       "    </tr>\n",
       "    <tr>\n",
       "      <th>207</th>\n",
       "      <td>Megara</td>\n",
       "      <td>11:11</td>\n",
       "      <td>180087</td>\n",
       "      <td>Eurovision 2024</td>\n",
       "      <td>39</td>\n",
       "    </tr>\n",
       "    <tr>\n",
       "      <th>208</th>\n",
       "      <td>Natalia Barbu</td>\n",
       "      <td>In The Middle</td>\n",
       "      <td>178853</td>\n",
       "      <td>Eurovision 2024</td>\n",
       "      <td>37</td>\n",
       "    </tr>\n",
       "    <tr>\n",
       "      <th>209</th>\n",
       "      <td>Hera Björk</td>\n",
       "      <td>Scared Of Heights</td>\n",
       "      <td>183657</td>\n",
       "      <td>Eurovision 2024</td>\n",
       "      <td>36</td>\n",
       "    </tr>\n",
       "  </tbody>\n",
       "</table>\n",
       "<p>210 rows × 5 columns</p>\n",
       "</div>"
      ],
      "text/plain": [
       "                 Artist               Track  Spotify_Duration  \\\n",
       "0               Chingiz  Truth - Radio Edit            209411   \n",
       "1          John Lundvik   Too Late For Love            178133   \n",
       "2    Kate Miller-Heidke        Zero Gravity            177443   \n",
       "3               Michela           Chameleon            179698   \n",
       "4               Mahmood               Soldi            195476   \n",
       "..                  ...                 ...               ...   \n",
       "205              Fahree         Özünlə Apar            182090   \n",
       "206       Sarah Bonnici                Loop            179727   \n",
       "207              Megara               11:11            180087   \n",
       "208       Natalia Barbu       In The Middle            178853   \n",
       "209          Hera Björk   Scared Of Heights            183657   \n",
       "\n",
       "    Spotify_EurovisionYear  Spotify_Popularity  \n",
       "0          Eurovision 2019                   0  \n",
       "1          Eurovision 2019                   0  \n",
       "2          Eurovision 2019                  38  \n",
       "3          Eurovision 2019                   0  \n",
       "4          Eurovision 2019                   0  \n",
       "..                     ...                 ...  \n",
       "205        Eurovision 2024                  40  \n",
       "206        Eurovision 2024                  42  \n",
       "207        Eurovision 2024                  39  \n",
       "208        Eurovision 2024                  37  \n",
       "209        Eurovision 2024                  36  \n",
       "\n",
       "[210 rows x 5 columns]"
      ]
     },
     "execution_count": 35,
     "metadata": {},
     "output_type": "execute_result"
    }
   ],
   "source": [
    "df_spotify"
   ]
  },
  {
   "cell_type": "markdown",
   "metadata": {},
   "source": [
    "#### LastFM API: INGLEEEEEEESSSSSSSSSS!!!!!!!\n",
    "\n",
    "\n",
    "- Artists\n",
    "- Track"
   ]
  },
  {
   "cell_type": "code",
   "execution_count": 36,
   "metadata": {},
   "outputs": [],
   "source": [
    "import pandas as pd\n",
    "import requests\n",
    "import json\n",
    "import re  "
   ]
  },
  {
   "cell_type": "code",
   "execution_count": null,
   "metadata": {},
   "outputs": [],
   "source": [
    "most_popular_from_spotify = [\"Chanel\", \"Loreen\", \"Måneskin\", \"Sam Ryder\", \"Käärijä\"]"
   ]
  },
  {
   "cell_type": "markdown",
   "metadata": {},
   "source": [
    "#### Eurovision API:\n",
    "- Api connection & Sorting\n",
    "- Data to CSV"
   ]
  },
  {
   "cell_type": "code",
   "execution_count": 5,
   "metadata": {},
   "outputs": [],
   "source": [
    "import requests\n",
    "import pandas as pd\n",
    "import json"
   ]
  },
  {
   "cell_type": "code",
   "execution_count": 6,
   "metadata": {},
   "outputs": [],
   "source": [
    "# API connection & Sorting\n",
    "\n",
    "eurovision_data = []\n",
    "def data_extraction_e(list_years):\n",
    "\n",
    "    eu_data = requests.get(f\"https://eurovisionapi.runasp.net/api/contests/{list_years}/\")\n",
    "\n",
    "    eu_data_json = eu_data.json()\n",
    "    \n",
    "    if 'contestants' in eu_data_json:\n",
    "        \n",
    "        for idx, i in enumerate(eu_data_json[\"contestants\"], start=1):\n",
    "\n",
    "            contestant_name = i[\"artist\"]\n",
    "            song_name = i[\"song\"]\n",
    "            country = i[\"country\"]\n",
    "\n",
    "            eurovision_data.append({\n",
    "                \"Ranking\": idx,\n",
    "                \"Artist\": contestant_name.title(),\n",
    "                \"Track\": song_name.title(),\n",
    "                \"Country\": country.upper(),\n",
    "                \"Eurovision_Year\": list_years\n",
    "                })"
   ]
  },
  {
   "cell_type": "code",
   "execution_count": 7,
   "metadata": {},
   "outputs": [],
   "source": [
    "# Data to CSV\n",
    "\n",
    "eurovision_years= [2019,2021,2022,2023,2024]\n",
    "\n",
    "for year in eurovision_years:\n",
    "    raw_data_e = data_extraction_e(year)\n",
    "df_eurovision = pd.DataFrame(eurovision_data)\n",
    "df_eurovision\n",
    "\n",
    "df_eurovision.to_csv('Eurovision_data.csv', index=False)\n"
   ]
  },
  {
   "cell_type": "markdown",
   "metadata": {},
   "source": [
    "#### MySQL Data Base\n",
    "- MySQL connection\n",
    "- Schema Creation and Use\n",
    "- Tables Creation"
   ]
  },
  {
   "cell_type": "code",
   "execution_count": null,
   "metadata": {},
   "outputs": [],
   "source": [
    "# MySQL connection\n",
    "\n",
    "import mysql.connector\n",
    "\n",
    "try:\n",
    "    cnx = mysql.connector.connect(user='root', password='',\n",
    "                              host='127.0.0.1')\n",
    "    \n",
    "\n",
    "    mycursor = cnx.cursor()\n",
    "    \n",
    "\n",
    "except mysql.connector.Error as err:\n",
    "    print(err)\n",
    "    print(\"Error Code:\", err.errno)\n",
    "    print(\"SQLSTATE\", err.sqlstate)\n",
    "    print(\"Message\", err.msg)"
   ]
  },
  {
   "cell_type": "code",
   "execution_count": 19,
   "metadata": {},
   "outputs": [],
   "source": [
    "# Schema Creation and Use\n",
    "\n",
    "query_create_schema = \"\"\"CREATE SCHEMA StreamMusic\"\"\"\n",
    "mycursor.execute(query_create_schema)\n",
    "mycursor.execute('USE StreamMusic')"
   ]
  },
  {
   "cell_type": "code",
   "execution_count": null,
   "metadata": {},
   "outputs": [
    {
     "name": "stdout",
     "output_type": "stream",
     "text": [
      "Table created: API_Eurovision\n",
      "------------\n",
      "Table created: API_Spotify_Eurovision\n",
      "------------\n",
      "Table created: API_LastFM_Info_Artists\n",
      "------------\n",
      "Table created: API_LastFM_Top_Tracks\n",
      "------------\n"
     ]
    }
   ],
   "source": [
    "# Tables creation\n",
    "\n",
    "\n",
    "the_tables = {  'API_Eurovision' :          \"\"\"CREATE TABLE api_eurovision (\n",
    "                                                Ranking INT NOT NULL,\n",
    "                                                Artist VARCHAR(45) NOT NULL,                              \n",
    "                                                Track VARCHAR(70) NOT NULL,\n",
    "                                                Country VARCHAR(3) NOT NULL,\n",
    "                                                Eurovision_Year YEAR NOT NULL)\"\"\",\n",
    "                                                \n",
    "                'API_Spotify_Eurovision' :    \"\"\"CREATE TABLE api_spotify_merged_eurovision (\n",
    "                                                Artist VARCHAR(45),\n",
    "                                                Track VARCHAR(70),\n",
    "                                                Spotify_Duration INT,\n",
    "                                                Spotify_EurovisionYear VARCHAR(25),\n",
    "                                                Spotify_Popularity VARCHAR(10),\n",
    "                                                Eurovision_Ranking INT,\n",
    "                                                Eurovision_Country CHAR(2),\n",
    "                                                PRIMARY KEY (Artist, Track)\n",
    "                                                )\"\"\", \n",
    "                \n",
    "                'API_LastFM_Info_Artists' :  \"\"\"CREATE TABLE api_lastfm_info_artists (\n",
    "                                                Artist VARCHAR(45),\n",
    "                                                Listeners INT,\n",
    "                                                Playcount INT,\n",
    "                                                Genre1 VARCHAR(45),\n",
    "                                                Genre2 VARCHAR(45),\n",
    "                                                Genre3 VARCHAR(45),\n",
    "                                                Similar_Artists1 VARCHAR(45),\n",
    "                                                Similar_Artists2 VARCHAR(45),\n",
    "                                                Similar_Artists3 VARCHAR(45),\n",
    "                                                PRIMARY KEY (Artist),\n",
    "                                                CONSTRAINT fk_artists_from_s\n",
    "                                                        FOREIGN KEY (Artist)\n",
    "                                                        REFERENCES  api_spotify_merged_eurovision (Artist)\n",
    "                                                        ON UPDATE CASCADE\n",
    "                                                        ON DELETE CASCADE\n",
    "                                                )\"\"\",\n",
    "                \n",
    "                'API_LastFM_Top_Tracks' :    \"\"\"CREATE TABLE api_lastfm_top_tracks (\n",
    "                                                Artist VARCHAR(70) NOT NULL,\n",
    "                                                Release_year YEAR NOT NULL,\n",
    "                                                Top_track VARCHAR(150),\n",
    "                                                PRIMARY KEY (Artist),\n",
    "                                                CONSTRAINT fk_tracks_from_s\n",
    "                                                        FOREIGN KEY (Artist)\n",
    "                                                        REFERENCES  api_spotify_merged_eurovision (Artist)\n",
    "                                                        ON UPDATE CASCADE\n",
    "                                                        ON DELETE CASCADE\n",
    "                                                )\"\"\" \n",
    "                }\n",
    "\n",
    "\n",
    "\n",
    "for k, v in the_tables.items():\n",
    "        print(f'Table created: {k}')\n",
    "        mycursor.execute(v)\n",
    "\n",
    "        print('------------')\n",
    "\n"
   ]
  },
  {
   "cell_type": "markdown",
   "metadata": {},
   "source": [
    "#### Data Import\n",
    "\n",
    "- Method\n",
    "- Queries\n",
    "- Data Import"
   ]
  },
  {
   "cell_type": "code",
   "execution_count": 11,
   "metadata": {},
   "outputs": [],
   "source": [
    "# Data Import Method\n",
    "\n",
    "def data_import(query,values):\n",
    "\n",
    "    mycursor = cnx.cursor()\n",
    "    mycursor.executemany(query, values)\n",
    "    print(mycursor.rowcount,'values entered')\n",
    "    cnx.commit()\n",
    " "
   ]
  },
  {
   "cell_type": "code",
   "execution_count": null,
   "metadata": {},
   "outputs": [],
   "source": [
    "# Data Import Queries \n",
    "query_e_import =            \"\"\" INSERT INTO API_EUROVISION (Ranking, Artist, Track, Country, EurovisionYear)\n",
    "                                VALUES (%s, %s, %s, %s, %s) \"\"\"\n",
    "\n",
    "query_s_e_import =            \"\"\" INSERT INTO api_spotify_merged_eurovision (Artist, Track, Spotify_Duration, Spotify_EurovisionYear, Spotify_Popularity,)\n",
    "                                VALUES (%s, %s, %s, %s, %s) \"\"\"\n",
    "\n",
    "query_l_artist_import =     \"\"\" INSERT INTO api_lastfm_info_artists (Artist, Listeners, Playcount, Genre1, Genre2, Genre3, Similar_Artists1, Similar_Artists2, Similar_Artists3)\n",
    "                                VALUES (%s, %s, %s, %s, %s, %s, %s, %s, %s) \"\"\"\n",
    "\n",
    "query_l_toptracks_import =  \"\"\" INSERT INTO api_lastfm_top_tracks (Release_year, Artist, Top_track)\n",
    "                                VALUES (%s, %s, %s) \"\"\"\n",
    "\n"
   ]
  },
  {
   "cell_type": "code",
   "execution_count": 25,
   "metadata": {},
   "outputs": [
    {
     "name": "stdout",
     "output_type": "stream",
     "text": [
      "194 values entered\n"
     ]
    }
   ],
   "source": [
    "# Eurovision Data Import\n",
    "\n",
    "e_file = pd.read_csv('Eurovision_data.csv')\n",
    "\n",
    "e_values = list(e_file.itertuples(index=False, name=None))\n",
    "eurovisionimp = data_import(query_e_import, e_values)"
   ]
  },
  {
   "cell_type": "code",
   "execution_count": 26,
   "metadata": {},
   "outputs": [
    {
     "name": "stdout",
     "output_type": "stream",
     "text": [
      "208 values entered\n"
     ]
    }
   ],
   "source": [
    "# Spotify Data Import\n",
    "\n",
    "s_file = pd.read_csv('Spotify_data.csv',index_col=0)\n",
    "\n",
    "s_values = list(s_file.itertuples(index = False, name=None))\n",
    "spotifyimp = data_import(query_s_e_import, s_values) "
   ]
  },
  {
   "cell_type": "code",
   "execution_count": null,
   "metadata": {},
   "outputs": [],
   "source": [
    "# LastFM Artists Import\n",
    "\n",
    "# l_file = pd.read_csv(,index_col=0)\n",
    "\n"
   ]
  }
 ],
 "metadata": {
  "kernelspec": {
   "display_name": "base",
   "language": "python",
   "name": "python3"
  },
  "language_info": {
   "codemirror_mode": {
    "name": "ipython",
    "version": 3
   },
   "file_extension": ".py",
   "mimetype": "text/x-python",
   "name": "python",
   "nbconvert_exporter": "python",
   "pygments_lexer": "ipython3",
   "version": "3.12.7"
  }
 },
 "nbformat": 4,
 "nbformat_minor": 2
}
