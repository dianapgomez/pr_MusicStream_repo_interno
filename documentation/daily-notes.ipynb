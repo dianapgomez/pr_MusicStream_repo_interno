{
 "cells": [
  {
   "cell_type": "markdown",
   "metadata": {},
   "source": [
    "*24/02/2025* \n",
    "\n",
    "To be discussed:\n",
    "- How does the team feels about Cibi using english on daily notes\n",
    "- If team agrees on the use of kanban for all tasks, also confirm with Cesar if this can be used as table of \n",
    "- Ensure to work only as agreed, and communicate and have agreement on any changes. Remind yourself of team work.\n",
    "- Need of creating a persona for our client, as sampled in kanban.\n"
   ]
  },
  {
   "cell_type": "markdown",
   "metadata": {},
   "source": [
    "*21/02/2025* Client definition & search parameters\n",
    "\n",
    "Agreed on:\n",
    "\n",
    "- Andrea passing Scrum master hat to Cibi.\n",
    "- Client request has been determinate:\n",
    "    Headhunter que está buscando al próximo gran éxito de Eurovisión\n",
    "- Narrowed search pararameters for data extraction, started working on it\n",
    "\n",
    "\n",
    "To be worked on over the weekend:\n",
    "\n",
    "- @diana to complete code in parameters\n",
    "- @andrea to create persona for our client\n",
    "- @cibi to organize repo and include methods and class if needed in the data extraction file"
   ]
  },
  {
   "cell_type": "markdown",
   "metadata": {},
   "source": [
    "*20/02/2025* Initial project meeting\n",
    "\n",
    "Agreed on:\n",
    "- Andrea to be Scrum master, Working agreements. [Find here](https://github.com/dianapgomez/pr_MusicStream_repo_interno/wiki/MusicStream-%E2%80%90-Team-1)\n",
    "- Diana created repo and shared with team\n",
    "- Decided initial work scope with Cesar's approval using playlist endpoint.\n",
    "    \n",
    "    ¿Qué 5 generos fueron los más escuchados en las playlist de Eurovision de 2019 a 2024? \n",
    "\n",
    "    Fechas del 2019 al 2024\n",
    "    - Géneros más escuchados por año\n",
    "    - Listado de géneros presentados por año\n",
    "    - Canciones más escuchadas por año\n",
    "\n",
    "To be woked on today:\n",
    "- Data export for each year, analize possible parameters to be used\n",
    "    2019 - Diana\n",
    "    2020 - Amanda\n",
    "    2021 - Andrea\n",
    "    2022 - Isabel\n",
    "    2023 - Cibi\n",
    "\n",
    "- Learn Spotify Web and last.fm API's"
   ]
  }
 ],
 "metadata": {
  "language_info": {
   "name": "python"
  }
 },
 "nbformat": 4,
 "nbformat_minor": 2
}
