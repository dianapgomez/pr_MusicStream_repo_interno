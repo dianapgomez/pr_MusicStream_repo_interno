{
 "cells": [
  {
   "cell_type": "markdown",
   "metadata": {},
   "source": [
    "*25/02/2025*\n",
    "\n",
    "To be discussed:\n",
    "- Shall we get Cesar to review or progress?\n",
    "- What are the next steps about the mySQL looking like?\n",
    "- Any blockers? Feedback? Helo needed?"
   ]
  },
  {
   "cell_type": "markdown",
   "metadata": {},
   "source": [
    "*24/02/2025* Work review and team split\n",
    "\n",
    "Agreed on:\n",
    "- The codes will be done in English, ok for comments in Spanish\n",
    "- We will use kanban as official as tasks mgnt / table.\n",
    "- Team is ok with Cibi writting the notes in English\n",
    "- All practing and help is welcome, and can be added in the individual files as reference\n",
    "\n",
    "Day notes:\n",
    "- Quick review of repo and kanban\n",
    "- Remind to communicate any changes on tasks\n",
    "- Buyer persona to be decided later on\n",
    "- Quick review of pin point of deliverbles\n",
    "- Team presented the progressed items from the weekend\n",
    "- Team devided in 2 groups\n",
    "    G1 - Diana & Cibi to complete Spotify parameters from the playlist endpoint, done.\n",
    "    G2 - Amanda, Andrea and Isabel to analyze lastfm endpoint and possible useful data.\n",
    "\n",
    "To be done today:\n",
    "- Amanda (lastfm) to polish and push data extraction to the repo\n",
    "- Diana (Spotify) to export data in csv and json formats, and push it and notebook to the repo\n",
    "- Cibi to work on daily notes and try researching about artist endpoint\n",
    "- Team to understand the pathway to reach the 5 most popular artists on each year of the Eurovision edition.\n",
    "\n",
    "- STATUS REVIEW:\n",
    "\n",
    "    Sesión 1: Planificación del Proyecto  - DONE\n",
    "\n",
    "    Sesión 2, Sesión 3, Sesión 4, Sesión 5: Extracción de Datos\n",
    "    Extraer datos de la API de Spotify. - IN PROGRESS, MISSING ARTIST ENDPOINT\n",
    "    Extraer datos de la API de last.fm. - IN PROGRESS, INITIAL STAGE\n",
    "    Almacenar los datos extraídos en una estructura temporal antes de insertarlos en la base de datos.\n",
    "    Documentar el proceso de extracción de datos y cualquier desafío encontrado para el Sprint Review\n"
   ]
  },
  {
   "cell_type": "markdown",
   "metadata": {},
   "source": [
    "*21/02/2025* Client definition & search parameters\n",
    "\n",
    "Agreed on:\n",
    "\n",
    "- Andrea passing Scrum master hat to Cibi.\n",
    "- Client request has been determinate:\n",
    "    Headhunter que está buscando al próximo gran éxito de Eurovisión\n",
    "- Narrowed search pararameters for data extraction, started working on it\n",
    "\n",
    "\n",
    "To be worked on over the weekend:\n",
    "\n",
    "- @diana to complete code in parameters\n",
    "- @andrea to create persona for our client\n",
    "- @cibi to organize repo and include methods and class if needed in the data extraction file"
   ]
  },
  {
   "cell_type": "markdown",
   "metadata": {},
   "source": [
    "*20/02/2025* Initial project meeting\n",
    "\n",
    "Agreed on:\n",
    "- Andrea to be Scrum master, Working agreements. [Find here](https://github.com/dianapgomez/pr_MusicStream_repo_interno/wiki/MusicStream-%E2%80%90-Team-1)\n",
    "- Diana created repo and shared with team\n",
    "- Decided initial work scope with Cesar's approval using playlist endpoint.\n",
    "    \n",
    "    ¿Qué 5 generos fueron los más escuchados en las playlist de Eurovision de 2019 a 2024? \n",
    "\n",
    "    Fechas del 2019 al 2024\n",
    "    - Géneros más escuchados por año\n",
    "    - Listado de géneros presentados por año\n",
    "    - Canciones más escuchadas por año\n",
    "\n",
    "To be woked on today:\n",
    "- Data export for each year, analize possible parameters to be used\n",
    "    2019 - Diana\n",
    "    2020 - Amanda\n",
    "    2021 - Andrea\n",
    "    2022 - Isabel\n",
    "    2023 - Cibi\n",
    "\n",
    "- Learn Spotify Web and last.fm API's"
   ]
  }
 ],
 "metadata": {
  "language_info": {
   "name": "python"
  }
 },
 "nbformat": 4,
 "nbformat_minor": 2
}
