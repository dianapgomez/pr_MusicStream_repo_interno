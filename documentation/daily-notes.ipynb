{
 "cells": [
  {
   "cell_type": "markdown",
   "metadata": {},
   "source": [
    "03/03/2025 DAILY:\n",
    "\n",
    "- Realizamos cambio de la persona que tomara notas, Andrea reemplaza a Diana en esta funcion.\n",
    "- Revisamos la fecha del proximo, es el martes 11/03/2025, para esta fecha debemos tener la base de datos estructurada y con los datos incorporadoas en la misma.\n",
    "- En esta sesion debatimos sobre como crear la base de datos, desde si hacerlo en SQL o Python hasta la estructura de la misma."
   ]
  },
  {
   "cell_type": "markdown",
   "metadata": {},
   "source": [
    "*27/02/2025* Sprint review\n",
    "\n",
    "- Feedbacks, struggles, blockers and where are we at?\n",
    "- What are we hopping for next sprint?\n",
    "- Remind to have final codes in English\n",
    "- New scrum master volunteer - not reall a volunteer: ISA!\n",
    "- Diana: API Eurovision - Extracted data from winners, except from 2020. She is going to push in the repo.\n",
    "- Isa to upload csc from artists.\n",
    "- Link to review/ edit  [presentation](https://www.canva.com/design/DAGgM8dB9g8/xIXSgB246rhNP5DG0-Pnbg/edit)\n",
    "\n",
    "\n",
    "*SPRINT REVIEW POINT*\n",
    "\n",
    "- Dont mention what we are going to do a different project\n",
    "- Blocker: Time spent to understand the project after changes and to understand the API's.\n",
    "- Technical blocker: Comprehension of the returned data and what would be useful to be extracted.\n",
    "- Started together with spotify to understand where to go, then we split into 2 groupt to explore data from different apis. Since we are missing some intel from lastfm and spotify, we decided to head to a third API.\n",
    "- Feedbacks? Were able to progess well and achieve the goals with maturity and became more relaxed after understanding the API's. \n",
    "- Positive: Clear communicacion, respected working time, harmony between all (work and fun), professional, documentation and organizacion. Comprehension and help between team with blockers, personal issues...\n",
    "\n",
    "NEXT STEPS:\n",
    " - Compare data and create table to compare profiles:\n",
    "        - Single/Group?\n",
    "        - Background (trayectoria)\n",
    "        - Musical genre\n",
    "        - M/F\n",
    "        - Similar artists = FK from Last fm\n",
    "        - Singer country\n",
    "        - Song idiom?\n",
    "\n",
    "- Compare data from API's:\n",
    "    - Eurovisio winners vs popularity in spotify \n",
    "\n"
   ]
  },
  {
   "cell_type": "markdown",
   "metadata": {},
   "source": [
    "*26/02/2025* Next steps\n",
    "\n",
    "- Extract data from lastfm (artist/tracks)\n",
    "- Extract artist data from spotify\n",
    "- Extract 3 most popular tracks from the top artists to know if those are listed in the eurovision\n",
    "- Year are: 2020 to 2024\n",
    "\n",
    "WORKING TODAY:\n",
    "- Exporting remaining data from lastfm and spotify.\n",
    "- Started working on ppt [presentation](https://www.canva.com/design/DAGgM8dB9g8/xIXSgB246rhNP5DG0-Pnbg/edit?utm_content=DAGgM8dB9g8&utm_campaign=designshare&utm_medium=link2&utm_source=sharebutton).\n",
    "\n"
   ]
  },
  {
   "cell_type": "markdown",
   "metadata": {},
   "source": [
    "*25/02/2025* 2 groups, working to extract Artists info\n",
    "\n",
    "UPDATES:\n",
    "\n",
    "Diana tried 2019 csv to see the popularity. Interesting data came out, where winners were not necessarely the most popular.\n",
    "Searched popularity definition inside spotify api:\n",
    "        *In artists*: The popularity of the artist. The value will be between 0 and 100, with 100 being the most popular. The artist's popularity is calculated from the popularity of all the artist's tracks.\n",
    "\n",
    "        *In track*: The popularity of the track. The value will be between 0 and 100, with 100 being the most popular.\n",
    "        The popularity of a track is a value between 0 and 100, with 100 being the most popular. The popularity is calculated by algorithm and is based, in the most part, on the total number of plays the track has had and how recent those plays are.\n",
    "        Generally speaking, songs that are being played a lot now will have a higher popularity than songs that were played a lot in the past. Duplicate tracks (e.g. the same track from a single and an album) are rated independently. Artist and album popularity is derived mathematically from track popularity. Note: the popularity value may lag actual popularity by a few days: the value is not updated in real time.\n",
    "\n",
    "Cesar has validated any changes that we decided need related to endpoints and how we are goind it.\n",
    "Team split:\n",
    "- G1: Diana and Cibi, to extract top 5 artists id's\n",
    "- G2: Amanda, Andrea, Isabel, to extract artist data from lastfm\n",
    "\n",
    "TO BE COMPLETE TODAY:\n",
    "- Polish codes and push to the repo.\n"
   ]
  },
  {
   "cell_type": "markdown",
   "metadata": {},
   "source": [
    "*24/02/2025* Work review and team split\n",
    "\n",
    "Agreed on:\n",
    "- The codes will be done in English, ok for comments in Spanish\n",
    "- We will use kanban as official as tasks mgnt / table.\n",
    "- Team is ok with Cibi writting the notes in English\n",
    "- All practing and help is welcome, and can be added in the individual files as reference\n",
    "\n",
    "Day notes:\n",
    "- Quick review of repo and kanban\n",
    "- Remind to communicate any changes on tasks\n",
    "- Buyer persona to be decided later on\n",
    "- Quick review of pin point of deliverbles\n",
    "- Team presented the progressed items from the weekend\n",
    "- Team devided in 2 groups\n",
    "    G1 - Diana & Cibi to complete Spotify parameters from the playlist endpoint, done.\n",
    "    G2 - Amanda, Andrea and Isabel to analyze lastfm endpoint and possible useful data.\n",
    "\n",
    "To be done today:\n",
    "- Amanda (lastfm) to polish and push data extraction to the repo\n",
    "- Diana (Spotify) to export data in csv and json formats, and push it and notebook to the repo\n",
    "- Cibi to work on daily notes and try researching about artist endpoint\n",
    "- Team to understand the pathway to reach the 5 most popular artists on each year of the Eurovision edition.\n",
    "\n",
    "- STATUS REVIEW:\n",
    "\n",
    "    Sesión 1: Planificación del Proyecto  - DONE\n",
    "\n",
    "    Sesión 2, Sesión 3, Sesión 4, Sesión 5: Extracción de Datos\n",
    "    Extraer datos de la API de Spotify. - IN PROGRESS, MISSING ARTIST ENDPOINT\n",
    "    Extraer datos de la API de last.fm. - IN PROGRESS, INITIAL STAGE\n",
    "    Almacenar los datos extraídos en una estructura temporal antes de insertarlos en la base de datos.\n",
    "    Documentar el proceso de extracción de datos y cualquier desafío encontrado para el Sprint Review\n"
   ]
  },
  {
   "cell_type": "markdown",
   "metadata": {},
   "source": [
    "*21/02/2025* Client definition & search parameters\n",
    "\n",
    "Agreed on:\n",
    "\n",
    "- Andrea passing Scrum master hat to Cibi.\n",
    "- Client request has been determinate:\n",
    "    Headhunter que está buscando al próximo gran éxito de Eurovisión\n",
    "- Narrowed search pararameters for data extraction, started working on it\n",
    "\n",
    "\n",
    "To be worked on over the weekend:\n",
    "\n",
    "- @diana to complete code in parameters\n",
    "- @andrea to create persona for our client\n",
    "- @cibi to organize repo and include methods and class if needed in the data extraction file"
   ]
  },
  {
   "cell_type": "markdown",
   "metadata": {},
   "source": [
    "*20/02/2025* Initial project meeting\n",
    "\n",
    "Agreed on:\n",
    "- Andrea to be Scrum master, Working agreements. [Find here](https://github.com/dianapgomez/pr_MusicStream_repo_interno/wiki/MusicStream-%E2%80%90-Team-1)\n",
    "- Diana created repo and shared with team\n",
    "- Decided initial work scope with Cesar's approval using playlist endpoint.\n",
    "    \n",
    "    ¿Qué 5 generos fueron los más escuchados en las playlist de Eurovision de 2019 a 2024? \n",
    "\n",
    "    Fechas del 2019 al 2024\n",
    "    - Géneros más escuchados por año\n",
    "    - Listado de géneros presentados por año\n",
    "    - Canciones más escuchadas por año\n",
    "\n",
    "To be woked on today:\n",
    "- Data export for each year, analize possible parameters to be used\n",
    "    2019 - Diana\n",
    "    2020 - Amanda\n",
    "    2021 - Andrea\n",
    "    2022 - Isabel\n",
    "    2023 - Cibi\n",
    "\n",
    "- Learn Spotify Web and last.fm API's"
   ]
  }
 ],
 "metadata": {
  "kernelspec": {
   "display_name": "Python 3",
   "language": "python",
   "name": "python3"
  },
  "language_info": {
   "name": "python",
   "version": "3.9.6"
  }
 },
 "nbformat": 4,
 "nbformat_minor": 2
}
