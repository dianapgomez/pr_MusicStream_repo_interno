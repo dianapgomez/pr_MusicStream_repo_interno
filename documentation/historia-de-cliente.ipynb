{
 "cells": [
  {
   "cell_type": "markdown",
   "metadata": {},
   "source": [
    "# Historia de Cliente\n",
    "\n",
    "## Cliente: Discográfica Adalab\n",
    "**Industria:** Música / Entretenimiento  \n",
    "**Objetivo:** Identificar patrones en los artistas con musicas ganadoras y en el top 5 de Eurovisión entre los años 2020-2024 para buscar un artista que tenga mayores probabilidades de ganar en Eurovisión 2026.\n",
    "\n",
    "---\n",
    "\n",
    "### 1. Quién es el cliente:\n",
    "**Discográfica Adalab** es una productora de música, con un enfoque en artistas emergentes de diversos géneros musicales.\n",
    "\n",
    "### 2. Objetivo del Cliente:\n",
    "El cliente quiere usar los datos de Spotify (Playlist de Eurovisión) para identificar qué características tienen los artistas con canciones ganadoras y las que llegan al top 5. Su objetivo es entender patrones en géneros, tipo de artista, y otros aspectos clave para producir una canción que tenga más probabilidades de ganar en Eurovisión 2027.  \n",
    "Su meta es estar a la vanguardia de la industria y descubrir tendencias clave en la música que podrían hacer a sus artistas favoritos los próximos ganadores de Eurovisión.\n",
    "\n",
    "### 3. Datos:\n",
    "**Datos de Eurovisión:** Posiblemente extraídos de varias fuentes, con los resultados de las canciones ganadoras y del top 5 en los últimos años (canción, país, votos...).  \n",
    "**Datos de Spotify:** Utilizando la API de Spotify, el cliente puede acceder a detalles de las canciones como:\n",
    "\n",
    "- Género musical\n",
    "- Canción era conocida (fecha de lanzamiento)\n",
    "- Grupo, dúo o solista\n",
    "- Popularidad del artista\n",
    "- Artista conocido antes (fecha)\n",
    "- ¿Cuántos álbumes tiene o tenía (fecha)?\n",
    "- **¿Rankings del top 5, 10 en otras playlists relevantes o Wraps de Spotify?**\n",
    "\n",
    "### 4. Enfoque del Proyecto:\n",
    "El análisis de datos para el cliente se puede dividir en fases:\n",
    "\n",
    "- **Recopilación de datos:** Usar la API de Spotify para obtener las características acústicas de las canciones relevantes de los últimos años y combinar estos datos con los resultados históricos de Eurovisión.\n",
    "- **Análisis exploratorio de datos:** Ver qué patrones emergen en cuanto a las características de las canciones.\n",
    "\n",
    "### 5. Entrega al Cliente:\n",
    "El cliente necesita realizar un análisis exhaustivo de los datos históricos de Eurovisión y de Spotify para encontrar patrones que ayuden a predecir el éxito. Buscan:\n",
    "\n",
    "- Un análisis de las canciones ganadoras de los últimos 5 años, comparando sus características (géneros, artistas, popularidad…).\n",
    "- Segmentación de las canciones en categorías específicas (por ejemplo, género, artista, solista o no, single o álbum...) para identificar qué tipo de canciones tienden a quedar en el top 5,10.\n",
    "\n",
    "\n"
   ]
  }
 ],
 "metadata": {
  "kernelspec": {
   "display_name": "base",
   "language": "python",
   "name": "python3"
  },
  "language_info": {
   "codemirror_mode": {
    "name": "ipython",
    "version": 3
   },
   "file_extension": ".py",
   "mimetype": "text/x-python",
   "name": "python",
   "nbconvert_exporter": "python",
   "pygments_lexer": "ipython3",
   "version": "3.12.7"
  }
 },
 "nbformat": 4,
 "nbformat_minor": 2
}
