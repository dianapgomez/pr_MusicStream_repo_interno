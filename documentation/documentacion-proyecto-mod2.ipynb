{
 "cells": [
  {
   "cell_type": "markdown",
   "metadata": {},
   "source": [
    "\n",
    "¿Qué 5 artistas fueron los más escuchados en las playlist de Eurovision de 2019 a 2024? \n",
    "Cliente: Headhunter que está buscando al próximo gran éxito de Eurovisión\n",
    "\n",
    "Fechas del 2019 al 2024\n",
    "- Géneros más escuchados por año\n",
    "- Listado de géneros presentados por año\n",
    "- Canciones más escuchadas por año\n",
    "\n",
    "2019 → Diana https://open.spotify.com/playlist/3ZdQUt8Tmtt7oOU8UM2koe?si=eea27348cf654d21\n",
    "2020 → Amanda https://open.spotify.com/playlist/0IyJJbmF3vp5nX6j4FFeDO?si=f42ab240e0ab4268\n",
    "2021 → Andrea https://open.spotify.com/playlist/5h0sQpJnLVzgy5iOH1UNcl?si=f182da4fa6824fdd\n",
    "2022 → Isabel https://open.spotify.com/playlist/3EBtzzGyrlDUr1QvXVGz0h?si=DMNkLRIjQE6THtHUYc-oQw\n",
    "2023 → Cibi https://open.spotify.com/playlist/61fyG82H3Cha91cgKgQT6S?si=o-Xs3DfHRZyRuR8qaY9mxAW\n",
    "2024 → https://open.spotify.com/playlist/2HMW5JNZNh9HLfIHNzY0DP?si=f29ed55294394682\n",
    "\n",
    "Parámetros spotify:\n",
    "- Playlists\n",
    "    - Artistas \n",
    "        - id → Buscamos el id para llamar a la API del artista y saber el género\n",
    "        - Nombre → Conocer el artista\n",
    "       \n",
    "    - Canción \n",
    "        - id → Buscamos el id para llamar a la API de la canción y saber género\n",
    "        - Nombre → Conocer canción\n",
    "        - Año de lanzamiento\n",
    "        - Álbum\n",
    "        - Género\n",
    "        - Número de reproducciones\n",
    "        - Duración (tbd)\n",
    "- Artista:\n",
    "    - Artistas similares \n",
    "    - Nacionalidad o market\n",
    "    - Álbumes\n",
    "        - Años de publicación\n",
    "        - Reproducciones\n",
    "\n",
    "Pármetros last.fm:\n",
    "- Nombre\n",
    "- Canción\n",
    "- Popularidad\n",
    "- Tag\n",
    "- Nacionalidad\n",
    "\n",
    "Procceso de trabajo:\n",
    "23/02 → Decidimos que sacaremos las 5 últimas playlists del festival de Eurovision y seleccionar los 5 artistas más populares de cada año\n",
    "24/02 → Establecemos los parámetros de búsqueda de usaremos en la API de Spotify y decidimos que automatizaremos una función o clase para sacar la info\n",
    "24/02 → Nos dividimos en 2 grupos: Cibi y Diana acaban de pulir el código de la API de Spotify y Andrea, Isabel y Amanda van a estudiar la API de Last.fm\n",
    "25/02 → Nos dividimos en 2 grupos: Cibi y Diana acaban de pulir la API del spotify y Andrea, Isabel y Amanda van a estudiar la API de Last.FM\n",
    "26/02 → Marcamos del 2020 al 2024. Extraemos la data de last.fm y la de los artistas de spotify\n",
    "\n"
   ]
  },
  {
   "cell_type": "markdown",
   "metadata": {},
   "source": [
    "03/03 → Andrea pasa a ser la persona encargada de la documentación.\n",
    "trabajamos todas juntas, Isabel nos enseña un modelo de BBDD que ya ha trabajado en casa, definimos lo siguiente:\n",
    "    \n",
    " - una tabla con la info de la api spotify playlist eurovision, con todos los años y artistas-canciones \n",
    "    ranking(R) por año\n",
    " - una tabla con la info de la api eurovision con el ranking por popularidad(P)\n",
    " - se realizará comparativa entre ranking(R) y popularidad(P) de las dos tablas\n",
    " - una tabla con la info de los 5 mas populares por año con la info obtenida de la api de last.fm\n",
    " - mañana creamos el srcipt de creación de schema y tables y después podremos empezar a volcar datos."
   ]
  },
  {
   "cell_type": "markdown",
   "metadata": {},
   "source": [
    "04/03 →  Trabajamos todas juntas, Cibi comparte el script de creación de la BBDD Eurovisió.\n",
    "Empezamos a volcar los datos de la API Spotify y nos separamos \n",
    "- Diana, Isabel y Amanda terminan de cargar todos los datos de la API Eurovision, se crea una funcion para cargar más rapido todos los años\n",
    "- Cibi y Andrea trabajan para volcar los datos de la API Spotify, se modifican datos "
   ]
  },
  {
   "cell_type": "markdown",
   "metadata": {},
   "source": [
    "05/03 → ya esta creado el código de inserción de los datos de las Apis de Eurovision y Spotify, \n",
    "- para subir los datos de spotify, se creo un nuevo código reduciendo la cantidad de datos que necesitamos y que realmente vamos a subir a la bbdd, se generaron nuevos archivos csv con esta información, almacenados en la ruta: files/Spotify_sql/\"todos los archivos aqui\"\n",
    "\n",
    "Procedemos a crear el codigo para insertar la info desde LastFm. \n",
    "- decidimos crear una unica tabla con la info del artista, más sus generos y sus artistas similares, y crear por otro lado una tabla que contendrá los top-tracks de cada artista, que referenciaremos después en la tabla de artistas LastFm.\n",
    "- eliminamos la comuna bio → Next Steps: limpiar datos, encoding.\n",
    "- conseguimos introducir datos del 2019, después de muchos desafios, modificando el DataFrame para que los valos NAN se conviertan en Null.\n",
    "\n",
    "Queda pendiente para mañana limpiar los csv, para poder introducir el resto de años.\n"
   ]
  },
  {
   "cell_type": "markdown",
   "metadata": {},
   "source": [
    "06/03 → Con los datos cargados, empezamos a pensar en la relacion de las tablas, que después tendremos que modificar e con ALTER TABLE o directamente desde el notebook de creación de schema.\n",
    "\n",
    "Decidimos junto con César que \n",
    "\n",
    "Nos encontramos con el reto de la limpieza de Datos, puesto que habrán nombres que no coincidan entre las tablas de Eurovision y Spotify. queda pendiente decidir donde vamos a modificar los datos."
   ]
  },
  {
   "cell_type": "markdown",
   "metadata": {},
   "source": [
    "07/03 → Diana empieza a corregir datos de los CSV, resultado de la comparación de eurovision y spotify\n",
    "Isabel hace lo mismo con los csv de lstfm y spotify, acordamos que spotify es la tabla madre, de donde saldran las FK, y por tanto solo estos valores serán los correctos.\n",
    "\n",
    "Amanda, Cibi y Andrea modifican el schema StreamMusic y las tablas para crear las relaciones correctas.\n",
    "Cibi deja las modificaciones del create schema, falta solo eliminar la creacion de eurovision.\n",
    "\n",
    "Decidimos después de las consultas con César que lo más fácil sería añadir los datos de la API Eurovision que son útiles en la misma tabla de spotify, por lo que queda pendiente decidir como llevar a cabo estos cambios.\n"
   ]
  }
 ],
 "metadata": {
  "kernelspec": {
   "display_name": "base",
   "language": "python",
   "name": "python3"
  },
  "language_info": {
   "name": "python",
   "version": "3.12.7"
  }
 },
 "nbformat": 4,
 "nbformat_minor": 2
}
