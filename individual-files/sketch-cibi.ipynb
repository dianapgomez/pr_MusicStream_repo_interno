{
 "cells": [
  {
   "cell_type": "code",
   "execution_count": 5,
   "metadata": {},
   "outputs": [],
   "source": [
    "import pandas as pd\n",
    "import spotipy\n",
    "from spotipy.oauth2 import SpotifyClientCredentials"
   ]
  },
  {
   "cell_type": "code",
   "execution_count": 6,
   "metadata": {},
   "outputs": [],
   "source": [
    "# Coloca tus credenciales aquí\n",
    "CLIENT_ID = 'c72b52612d6344c0b755f76114af2910'\n",
    "CLIENT_SECRET = '5bc1e6b661d645f793b571195d5c6d15'\n",
    "\n",
    "# Autenticación\n",
    "auth_manager = SpotifyClientCredentials(client_id=CLIENT_ID, client_secret=CLIENT_SECRET)\n",
    "sp = spotipy.Spotify(auth_manager=auth_manager)"
   ]
  },
  {
   "cell_type": "code",
   "execution_count": 7,
   "metadata": {},
   "outputs": [],
   "source": [
    "def sorting(url,year):\n",
    "    playlist = sp.playlist(url, fields=None, market=None, additional_types= 'track')\n",
    "            \n",
    "    for idx, item in enumerate(playlist['tracks']['items']):\n",
    "\n",
    "        playlist_2019 = {}\n",
    "        playlist_2020 = {}\n",
    "        playlist_2021 = {}\n",
    "        playlist_2022 = {}\n",
    "        playlist_2023 = {}\n",
    "        playlist_2024 = {}\n",
    "\n",
    "\n",
    "        track = item['track']\n",
    "        data= {'Artists name': track['artists'][0]['name'], 'Artists ID':track['artists'][0]['id'], 'Music name' : track['name'], 'Music polularity':track['popularity'],'Music ID': track['id']}\n",
    "\n",
    "        #data=[idx, track['artists'][0]['name'], track['artists'][0]['id'], \" - \",track['name'], track['popularity'], track['id']]\n",
    "\n",
    "        # if year == 2019:\n",
    "        #    playlist_2019.append(data)\n",
    "        #    print(playlist_2019)\n",
    "\n",
    "        # elif year == 2020:\n",
    "        #     playlist_2020.append(data)\n",
    "        #     print(playlist_2020)\n",
    "\n",
    "        # elif year == 2021:\n",
    "        #     playlist_2021.append(data)\n",
    "        #     print(playlist_2021)\n",
    "\n",
    "        # elif year == 2022:\n",
    "        #     playlist_2022.append(data)\n",
    "        #     print(playlist_2022)\n",
    "\n",
    "        # elif year == 2023:\n",
    "        #     playlist_2023.append(data)\n",
    "        #     print(playlist_2023)\n",
    "\n",
    "        # elif year == 2024:\n",
    "        #     print(playlist_2024)\n",
    "                \n",
    "        # else: print ('Review your entry')\n",
    "        \n",
    "        if year == 2019:\n",
    "            playlist_2019.update(data)\n",
    "            print(playlist_2019)\n",
    "\n",
    "        elif year == 2020:\n",
    "            playlist_2020.update(data)\n",
    "            print(playlist_2020)\n",
    "\n",
    "        elif year == 2021:\n",
    "            playlist_2021.update(data)\n",
    "            print(playlist_2021)\n",
    "\n",
    "        elif year == 2022:\n",
    "            playlist_2022.update(data)\n",
    "            print(playlist_2022)\n",
    "        \n",
    "        elif year == 2023:\n",
    "            playlist_2023.update(data)\n",
    "            print(playlist_2023)\n",
    "\n",
    "        elif year == 2024:\n",
    "            playlist_2024.update(data)\n",
    "            print(playlist_2024)\n",
    "            \n"
   ]
  },
  {
   "cell_type": "code",
   "execution_count": null,
   "metadata": {},
   "outputs": [],
   "source": []
  },
  {
   "cell_type": "markdown",
   "metadata": {},
   "source": [
    "### Testing area"
   ]
  },
  {
   "cell_type": "markdown",
   "metadata": {},
   "source": [
    "\n",
    "\n",
    "#### Method Sorting"
   ]
  },
  {
   "cell_type": "code",
   "execution_count": null,
   "metadata": {},
   "outputs": [
    {
     "name": "stdout",
     "output_type": "stream",
     "text": [
      "{'Artists name': 'Käärijä', 'Artists ID': '6LkMGN0t3HDNL8hIvma70r', 'Music name': 'Cha Cha Cha', 'Music polularity': 60, 'Music ID': '5RX8T3EoTuXcybAxe6oPAw'}\n",
      "{'Artists name': 'Loreen', 'Artists ID': '49aaHxvAJ0tCh0F15OnwIl', 'Music name': 'Tattoo', 'Music polularity': 77, 'Music ID': '1DmW5Ep6ywYwxc2HMT5BG6'}\n",
      "{'Artists name': 'Alessandra', 'Artists ID': '35HMF6Y8dSzNfeJs3X65fw', 'Music name': 'Queen of Kings', 'Music polularity': 64, 'Music ID': '14LdhxElpZS0rKVV4nxtdA'}\n",
      "{'Artists name': 'BLANKA', 'Artists ID': '0ML3y0iBY1nq7HWAWP0EFm', 'Music name': 'Solo', 'Music polularity': 51, 'Music ID': '3xxjYOFR1y7By2wNDS51XV'}\n",
      "{'Artists name': 'Andrew Lambrou', 'Artists ID': '2LJg6YXPzGpih3QOUmyruJ', 'Music name': 'Break a Broken Heart', 'Music polularity': 46, 'Music ID': '5dRAJ9UsR0qyMMKnonWewz'}\n",
      "{'Artists name': 'Victor', 'Artists ID': '3w03DTyLLXIUFyuKgOEJOQ', 'Music name': 'What They Say', 'Music polularity': 30, 'Music ID': '7DYkoGwnTbEMGiNuoiB1gs'}\n",
      "{'Artists name': 'Noa Kirel', 'Artists ID': '1wak0ZG1LUrZPYx8RDTQoD', 'Music name': 'Unicorn', 'Music polularity': 48, 'Music ID': '6dUregFbvUNqHP5nphqesK'}\n",
      "{'Artists name': 'Vesna', 'Artists ID': '44kmUe319y8RNgOU2deqX6', 'Music name': \"My Sister's Crown\", 'Music polularity': 46, 'Music ID': '59md7R7fW5LjSbZITzzn3n'}\n",
      "{'Artists name': 'La Zarra', 'Artists ID': '0NkmvuSD5Pm8zucjwIpChS', 'Music name': 'Évidemment', 'Music polularity': 50, 'Music ID': '18ZX6YaDSOopXPRvfIh8DM'}\n",
      "{'Artists name': 'The Busker', 'Artists ID': '3cwZMxOmqueXfvdmDKN1BR', 'Music name': 'Dance (Our Own Party)', 'Music polularity': 33, 'Music ID': '3natKRDYwMSPsLO9nX8y02'}\n",
      "{'Artists name': 'TuralTuranX', 'Artists ID': '4rsNfjzhAhcUx94ERGFvgA', 'Music name': 'Tell Me More', 'Music polularity': 28, 'Music ID': '2pXSRhFrsoG57v4tZ36ogu'}\n",
      "{'Artists name': 'Wild Youth', 'Artists ID': '4wZxKygv7GA7oGYzk6bpid', 'Music name': 'We Are One - Eurovision Song Contest Edit', 'Music polularity': 0, 'Music ID': '5AkEgrj433NMHrJvn7oASj'}\n",
      "{'Artists name': 'Remo Forrer', 'Artists ID': '7LtDT7MR8nsSZxTxcp1glk', 'Music name': 'Watergun', 'Music polularity': 46, 'Music ID': '4ih4oGbMt9b6PbKhTPbAmw'}\n",
      "{'Artists name': 'Let 3', 'Artists ID': '4gs82a9ZgG2faut653OMRD', 'Music name': 'Mama ŠČ!', 'Music polularity': 36, 'Music ID': '7hcPebUUvJDRH6BhjZ5xEZ'}\n",
      "{'Artists name': 'Mia Nicolai', 'Artists ID': '5oSkgLWQpt5bk4B7JeAzKJ', 'Music name': 'Burning Daylight', 'Music polularity': 38, 'Music ID': '5pjp1jN7hitQTuSlT2jOep'}\n",
      "{'Artists name': 'Luke Black', 'Artists ID': '3sPiEqLcANa5kAp5RnEHNq', 'Music name': 'Samo mi se spava', 'Music polularity': 38, 'Music ID': '7wLxoyWoClSUAlKGjaefQn'}\n",
      "{'Artists name': 'Joker Out', 'Artists ID': '0ZNfJyThuy6vLnPEpPaJdf', 'Music name': 'Carpe Diem', 'Music polularity': 45, 'Music ID': '14ibwN44PVKuvEqLiaNkKu'}\n",
      "{'Artists name': 'TEYA', 'Artists ID': '3o9SkahUjtGQ6U9IU0BjhI', 'Music name': 'Who the Hell Is Edgar?', 'Music polularity': 47, 'Music ID': '3gUC7tGDPVLOq42vvTUVdI'}\n",
      "{'Artists name': 'Diljá', 'Artists ID': '2Zy3uwssLs81VYxqIj1Hcv', 'Music name': 'POWER', 'Music polularity': 34, 'Music ID': '7wD30C4OrUzpj8ycl4PeSt'}\n",
      "{'Artists name': 'Iru', 'Artists ID': '5zxXqsVP2pVvJJJX9cyQ2x', 'Music name': 'Echo - Eurovision 2023 - Georgia', 'Music polularity': 34, 'Music ID': '6Dw7BShqIiGPq69VEQ2hpd'}\n",
      "{'Artists name': 'Voyager', 'Artists ID': '16fltNcwTM5V9rnxIlcha4', 'Music name': 'Promise', 'Music polularity': 40, 'Music ID': '0LeK6Ol47og0WdGwKegNUL'}\n",
      "{'Artists name': 'Albina Kelmendi', 'Artists ID': '7fy8s6F5xxxs3sT6iq360p', 'Music name': 'Duje', 'Music polularity': 30, 'Music ID': '2odhCHmCk14Plv4CFbEjRJ'}\n",
      "{'Artists name': 'Gustaph', 'Artists ID': '55L5ivgJXuhhrPw3pdEph7', 'Music name': 'Because Of You', 'Music polularity': 43, 'Music ID': '320jqrATpl9762bCQkmLDf'}\n",
      "{'Artists name': 'Brunette', 'Artists ID': '3SR6TrRumzRfsa92RkVIcG', 'Music name': 'Future Lover', 'Music polularity': 41, 'Music ID': '3MKTciJfDAJjO0SjFZQsVx'}\n",
      "{'Artists name': 'Piqued Jacks', 'Artists ID': '5eprmPyM92CrWnnE1P840z', 'Music name': 'Like an Animal', 'Music polularity': 0, 'Music ID': '7nHxIAj5achKMZnYNcbzfe'}\n",
      "{'Artists name': 'Pasha Parfeni', 'Artists ID': '1J9gxGgm6LhmCwTCdekIXb', 'Music name': 'Soarele si Luna', 'Music polularity': 41, 'Music ID': '6SO3p9lb1qiPMN1e7iHAjv'}\n",
      "{'Artists name': 'Sudden Lights', 'Artists ID': '3hUQbGcka7Ta13TPySOZ0O', 'Music name': 'Aijā', 'Music polularity': 35, 'Music ID': '2XhLiOVoMTWR0LNkvVEYA5'}\n",
      "{'Artists name': 'TVORCHI', 'Artists ID': '0jWniZlqlLCZY3xSPwPXz5', 'Music name': 'Heart of Steel - Eurovision Version', 'Music polularity': 39, 'Music ID': '155yInH5aDNEI1MkcX6NNk'}\n",
      "{'Artists name': 'ALIKA', 'Artists ID': '0k7PxyzK6aIWSzmC3522c4', 'Music name': 'Bridges', 'Music polularity': 42, 'Music ID': '3pvzk44kwy8u46wtglCKzd'}\n",
      "{'Artists name': 'Mimicat', 'Artists ID': '7tTVBmiE9WeEDQdW3Q0Wn6', 'Music name': 'Ai Coração', 'Music polularity': 35, 'Music ID': '2i2L1439P8JJRqp1jiKfUR'}\n",
      "{'Artists name': 'Mae Muller', 'Artists ID': '1BEUkE2CSUgHTLSBMZdnFB', 'Music name': 'I Wrote A Song', 'Music polularity': 0, 'Music ID': '0rO1zf0e7l8s7PRjchQpyn'}\n",
      "{'Artists name': 'Marco Mengoni', 'Artists ID': '3xGlLcG9CUrs5MvFkSLOS5', 'Music name': 'Due Vite', 'Music polularity': 55, 'Music ID': '5htUUUBlgHZ9fztWTTDEFm'}\n",
      "{'Artists name': 'Monika Linkyte', 'Artists ID': '5MRYARxlS1hlWFYXGHMztL', 'Music name': 'Stay', 'Music polularity': 34, 'Music ID': '6ouoSKOsxFa7wV6wMJHAOy'}\n",
      "{'Artists name': 'Blanca Paloma', 'Artists ID': '4wm4mhiGnYPzCerFg3venQ', 'Music name': 'EAEA', 'Music polularity': 35, 'Music ID': '1NzoDUn5bLqpS36GD00Smi'}\n",
      "{'Artists name': 'Lord Of The Lost', 'Artists ID': '28eLrVsohdXynlnIzQ2VvI', 'Music name': 'Blood & Glitter', 'Music polularity': 42, 'Music ID': '4ZAqNhkOEi32zzrY5ybilV'}\n",
      "{'Artists name': 'Reiley', 'Artists ID': '1nHcGkMVml7a44TVwfrAN8', 'Music name': 'Breaking My Heart', 'Music polularity': 33, 'Music ID': '0Bz7sidJkrYTnEQoYSxU0C'}\n",
      "{'Artists name': 'Theodor Andrei', 'Artists ID': '3c0hzs6WpyGk7gLwSDCBmf', 'Music name': 'D.G.T (Off And On)', 'Music polularity': 26, 'Music ID': '3gv3bOnIkZfyBVze4qKsUK'}\n",
      "{'Artists name': 'Joker Out', 'Artists ID': '0ZNfJyThuy6vLnPEpPaJdf', 'Music name': 'Carpe Diem - English Version', 'Music polularity': 0, 'Music ID': '3MhZp1z04WZjhB8az8f6k4'}\n"
     ]
    }
   ],
   "source": [
    "data2023=sorting('https://open.spotify.com/playlist/61fyG82H3Cha91cgKgQT6S?si=o-Xs3DfHRZyRuR8qaY9mxA',2023)\n"
   ]
  },
  {
   "cell_type": "code",
   "execution_count": null,
   "metadata": {},
   "outputs": [],
   "source": []
  }
 ],
 "metadata": {
  "kernelspec": {
   "display_name": "base",
   "language": "python",
   "name": "python3"
  },
  "language_info": {
   "codemirror_mode": {
    "name": "ipython",
    "version": 3
   },
   "file_extension": ".py",
   "mimetype": "text/x-python",
   "name": "python",
   "nbconvert_exporter": "python",
   "pygments_lexer": "ipython3",
   "version": "3.12.7"
  }
 },
 "nbformat": 4,
 "nbformat_minor": 2
}
