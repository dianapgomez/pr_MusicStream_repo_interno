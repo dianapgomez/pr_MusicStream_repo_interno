{
 "cells": [
  {
   "cell_type": "code",
   "execution_count": null,
   "metadata": {},
   "outputs": [],
   "source": []
  },
  {
   "cell_type": "code",
   "execution_count": null,
   "metadata": {},
   "outputs": [],
   "source": [
    "import pandas as pd\n",
    "import requests\n",
    "import json"
   ]
  },
  {
   "cell_type": "code",
   "execution_count": null,
   "metadata": {},
   "outputs": [],
   "source": [
    "MY_API_KEY = \"xxxxx\"\n",
    "share_secret = \"xxxxx\""
   ]
  },
  {
   "cell_type": "code",
   "execution_count": null,
   "metadata": {},
   "outputs": [],
   "source": [
    "#LLamada a la api info_artista\n",
    "\n",
    "ARTIST_NAME = \"Channel\"\n",
    "\n",
    "endpoint_artist= f\"http://ws.audioscrobbler.com/2.0/?method=artist.getinfo&artist={ARTIST_NAME}&api_key={MY_API_KEY}&format=json\""
   ]
  },
  {
   "cell_type": "code",
   "execution_count": null,
   "metadata": {},
   "outputs": [],
   "source": [
    "call_artist =requests.get(endpoint_artist)  # hago la llamada al endpoint."
   ]
  },
  {
   "cell_type": "code",
   "execution_count": null,
   "metadata": {},
   "outputs": [],
   "source": [
    "raw_artist = call_artist.json()  # convierto en json"
   ]
  },
  {
   "cell_type": "code",
   "execution_count": null,
   "metadata": {},
   "outputs": [
    {
     "data": {
      "text/plain": [
       "{'artist': {'name': 'Channel',\n",
       "  'mbid': '4cbdfc53-90ae-4ba3-ac91-e10c550914b3',\n",
       "  'url': 'https://www.last.fm/music/Channel',\n",
       "  'image': [{'#text': 'https://lastfm.freetls.fastly.net/i/u/34s/2a96cbd8b46e442fc41c2b86b821562f.png',\n",
       "    'size': 'small'},\n",
       "   {'#text': 'https://lastfm.freetls.fastly.net/i/u/64s/2a96cbd8b46e442fc41c2b86b821562f.png',\n",
       "    'size': 'medium'},\n",
       "   {'#text': 'https://lastfm.freetls.fastly.net/i/u/174s/2a96cbd8b46e442fc41c2b86b821562f.png',\n",
       "    'size': 'large'},\n",
       "   {'#text': 'https://lastfm.freetls.fastly.net/i/u/300x300/2a96cbd8b46e442fc41c2b86b821562f.png',\n",
       "    'size': 'extralarge'},\n",
       "   {'#text': 'https://lastfm.freetls.fastly.net/i/u/300x300/2a96cbd8b46e442fc41c2b86b821562f.png',\n",
       "    'size': 'mega'},\n",
       "   {'#text': 'https://lastfm.freetls.fastly.net/i/u/300x300/2a96cbd8b46e442fc41c2b86b821562f.png',\n",
       "    'size': ''}],\n",
       "  'streamable': '0',\n",
       "  'ontour': '0',\n",
       "  'stats': {'listeners': '3205', 'playcount': '27048'},\n",
       "  'similar': {'artist': [{'name': 'Endpoint',\n",
       "     'url': 'https://www.last.fm/music/Endpoint',\n",
       "     'image': [{'#text': 'https://lastfm.freetls.fastly.net/i/u/34s/2a96cbd8b46e442fc41c2b86b821562f.png',\n",
       "       'size': 'small'},\n",
       "      {'#text': 'https://lastfm.freetls.fastly.net/i/u/64s/2a96cbd8b46e442fc41c2b86b821562f.png',\n",
       "       'size': 'medium'},\n",
       "      {'#text': 'https://lastfm.freetls.fastly.net/i/u/174s/2a96cbd8b46e442fc41c2b86b821562f.png',\n",
       "       'size': 'large'},\n",
       "      {'#text': 'https://lastfm.freetls.fastly.net/i/u/300x300/2a96cbd8b46e442fc41c2b86b821562f.png',\n",
       "       'size': 'extralarge'},\n",
       "      {'#text': 'https://lastfm.freetls.fastly.net/i/u/300x300/2a96cbd8b46e442fc41c2b86b821562f.png',\n",
       "       'size': 'mega'},\n",
       "      {'#text': 'https://lastfm.freetls.fastly.net/i/u/300x300/2a96cbd8b46e442fc41c2b86b821562f.png',\n",
       "       'size': ''}]},\n",
       "    {'name': 'Groundwork',\n",
       "     'url': 'https://www.last.fm/music/Groundwork',\n",
       "     'image': [{'#text': 'https://lastfm.freetls.fastly.net/i/u/34s/2a96cbd8b46e442fc41c2b86b821562f.png',\n",
       "       'size': 'small'},\n",
       "      {'#text': 'https://lastfm.freetls.fastly.net/i/u/64s/2a96cbd8b46e442fc41c2b86b821562f.png',\n",
       "       'size': 'medium'},\n",
       "      {'#text': 'https://lastfm.freetls.fastly.net/i/u/174s/2a96cbd8b46e442fc41c2b86b821562f.png',\n",
       "       'size': 'large'},\n",
       "      {'#text': 'https://lastfm.freetls.fastly.net/i/u/300x300/2a96cbd8b46e442fc41c2b86b821562f.png',\n",
       "       'size': 'extralarge'},\n",
       "      {'#text': 'https://lastfm.freetls.fastly.net/i/u/300x300/2a96cbd8b46e442fc41c2b86b821562f.png',\n",
       "       'size': 'mega'},\n",
       "      {'#text': 'https://lastfm.freetls.fastly.net/i/u/300x300/2a96cbd8b46e442fc41c2b86b821562f.png',\n",
       "       'size': ''}]},\n",
       "    {'name': 'Thenceforward',\n",
       "     'url': 'https://www.last.fm/music/Thenceforward',\n",
       "     'image': [{'#text': 'https://lastfm.freetls.fastly.net/i/u/34s/2a96cbd8b46e442fc41c2b86b821562f.png',\n",
       "       'size': 'small'},\n",
       "      {'#text': 'https://lastfm.freetls.fastly.net/i/u/64s/2a96cbd8b46e442fc41c2b86b821562f.png',\n",
       "       'size': 'medium'},\n",
       "      {'#text': 'https://lastfm.freetls.fastly.net/i/u/174s/2a96cbd8b46e442fc41c2b86b821562f.png',\n",
       "       'size': 'large'},\n",
       "      {'#text': 'https://lastfm.freetls.fastly.net/i/u/300x300/2a96cbd8b46e442fc41c2b86b821562f.png',\n",
       "       'size': 'extralarge'},\n",
       "      {'#text': 'https://lastfm.freetls.fastly.net/i/u/300x300/2a96cbd8b46e442fc41c2b86b821562f.png',\n",
       "       'size': 'mega'},\n",
       "      {'#text': 'https://lastfm.freetls.fastly.net/i/u/300x300/2a96cbd8b46e442fc41c2b86b821562f.png',\n",
       "       'size': ''}]},\n",
       "    {'name': 'Amber Inn',\n",
       "     'url': 'https://www.last.fm/music/Amber+Inn',\n",
       "     'image': [{'#text': 'https://lastfm.freetls.fastly.net/i/u/34s/2a96cbd8b46e442fc41c2b86b821562f.png',\n",
       "       'size': 'small'},\n",
       "      {'#text': 'https://lastfm.freetls.fastly.net/i/u/64s/2a96cbd8b46e442fc41c2b86b821562f.png',\n",
       "       'size': 'medium'},\n",
       "      {'#text': 'https://lastfm.freetls.fastly.net/i/u/174s/2a96cbd8b46e442fc41c2b86b821562f.png',\n",
       "       'size': 'large'},\n",
       "      {'#text': 'https://lastfm.freetls.fastly.net/i/u/300x300/2a96cbd8b46e442fc41c2b86b821562f.png',\n",
       "       'size': 'extralarge'},\n",
       "      {'#text': 'https://lastfm.freetls.fastly.net/i/u/300x300/2a96cbd8b46e442fc41c2b86b821562f.png',\n",
       "       'size': 'mega'},\n",
       "      {'#text': 'https://lastfm.freetls.fastly.net/i/u/300x300/2a96cbd8b46e442fc41c2b86b821562f.png',\n",
       "       'size': ''}]},\n",
       "    {'name': 'Struggle',\n",
       "     'url': 'https://www.last.fm/music/Struggle',\n",
       "     'image': [{'#text': 'https://lastfm.freetls.fastly.net/i/u/34s/2a96cbd8b46e442fc41c2b86b821562f.png',\n",
       "       'size': 'small'},\n",
       "      {'#text': 'https://lastfm.freetls.fastly.net/i/u/64s/2a96cbd8b46e442fc41c2b86b821562f.png',\n",
       "       'size': 'medium'},\n",
       "      {'#text': 'https://lastfm.freetls.fastly.net/i/u/174s/2a96cbd8b46e442fc41c2b86b821562f.png',\n",
       "       'size': 'large'},\n",
       "      {'#text': 'https://lastfm.freetls.fastly.net/i/u/300x300/2a96cbd8b46e442fc41c2b86b821562f.png',\n",
       "       'size': 'extralarge'},\n",
       "      {'#text': 'https://lastfm.freetls.fastly.net/i/u/300x300/2a96cbd8b46e442fc41c2b86b821562f.png',\n",
       "       'size': 'mega'},\n",
       "      {'#text': 'https://lastfm.freetls.fastly.net/i/u/300x300/2a96cbd8b46e442fc41c2b86b821562f.png',\n",
       "       'size': ''}]}]},\n",
       "  'tags': {'tag': [{'name': 'hardcore',\n",
       "     'url': 'https://www.last.fm/tag/hardcore'},\n",
       "    {'name': 'emo', 'url': 'https://www.last.fm/tag/emo'},\n",
       "    {'name': 'USA', 'url': 'https://www.last.fm/tag/USA'},\n",
       "    {'name': 'metalcore', 'url': 'https://www.last.fm/tag/metalcore'},\n",
       "    {'name': 'screamo', 'url': 'https://www.last.fm/tag/screamo'}]},\n",
       "  'bio': {'links': {'link': {'#text': '',\n",
       "     'rel': 'original',\n",
       "     'href': 'https://last.fm/music/Channel/+wiki'}},\n",
       "   'published': '09 Nov 2007, 17:44',\n",
       "   'summary': 'There is more than one artist named Channel.\\n\\n1. Channel is a member of the Red Ink Army. The Red Ink Army is a group of believers who strive to live out the Red Ink of the Gospel daily. It\\'s a LIFESTYLE. Do you want to be a part of a group of fanatics eager to get the TRUTH out? Check us out at www.kmrecords.net\\n\\n2. Channel was a hardcore band in the mid \\'90s from Virginia. Nate Newton of Converge played in this. Channel released 2 7\"s, the first one on Stillborn Records <a href=\"https://www.last.fm/music/Channel\">Read more on Last.fm</a>',\n",
       "   'content': 'There is more than one artist named Channel.\\n\\n1. Channel is a member of the Red Ink Army. The Red Ink Army is a group of believers who strive to live out the Red Ink of the Gospel daily. It\\'s a LIFESTYLE. Do you want to be a part of a group of fanatics eager to get the TRUTH out? Check us out at www.kmrecords.net\\n\\n2. Channel was a hardcore band in the mid \\'90s from Virginia. Nate Newton of Converge played in this. Channel released 2 7\"s, the first one on Stillborn Records, which had a more raw sound, the second one on Clay Garden Records, which had more a more \\'90s emo sound.\\n\\n3. Channel was a band that released one AOR style album in 1984, with former Journey frontman, Robert Fleischman singing lead vocals.\\n\\n4. Channel is a venezuelan post-punk band\\n\\n5. Channel was an Indonesian pop-rock band. The album Perjalanan Dua Insan was released on 2006. The most known songs, such Tentang Kita, Perjalanan and Dengarkanlah came from this album. <a href=\"https://www.last.fm/music/Channel\">Read more on Last.fm</a>. User-contributed text is available under the Creative Commons By-SA License; additional terms may apply.'}}}"
      ]
     },
     "metadata": {},
     "output_type": "display_data"
    }
   ],
   "source": [
    "raw_artist"
   ]
  },
  {
   "cell_type": "code",
   "execution_count": null,
   "metadata": {},
   "outputs": [
    {
     "name": "stdout",
     "output_type": "stream",
     "text": [
      "[{'similar_artists': 'Endpoint'}, {'similar_artists': 'Groundwork'}, {'similar_artists': 'Thenceforward'}, {'similar_artists': 'Amber Inn'}, {'similar_artists': 'Struggle'}]\n"
     ]
    }
   ],
   "source": [
    "# Pruebas de artistas similares fuera de la clase, funciona pero no saca un clave con los valores dentro, \n",
    "# sino una lista de diccionarios k,v por cada artista\n",
    "\n",
    "last_fm_datos2 = []\n",
    "\n",
    "for item in raw_artist[\"artist\"][\"similar\"][\"artist\"]:\n",
    "            \n",
    "    last_fm_datos2.append({ \"similar_artists\" :item[\"name\"]})\n",
    "    \n",
    "print(last_fm_datos2)\n",
    "           "
   ]
  },
  {
   "cell_type": "code",
   "execution_count": null,
   "metadata": {},
   "outputs": [
    {
     "data": {
      "text/plain": [
       "'Groundwork'"
      ]
     },
     "metadata": {},
     "output_type": "display_data"
    }
   ],
   "source": [
    "# Trabajado con César para entender mejor\n",
    "raw_artist[\"artist\"][\"similar\"][\"artist\"][1][\"name\"]"
   ]
  },
  {
   "cell_type": "code",
   "execution_count": null,
   "metadata": {},
   "outputs": [
    {
     "name": "stdout",
     "output_type": "stream",
     "text": [
      "[{'similar_artists': ['name']}, {'similar_artists': ['url']}, {'similar_artists': ['image']}, {'similar_artists': ['name']}, {'similar_artists': ['url']}, {'similar_artists': ['image']}, {'similar_artists': ['name']}, {'similar_artists': ['url']}, {'similar_artists': ['image']}, {'similar_artists': ['name']}, {'similar_artists': ['url']}, {'similar_artists': ['image']}, {'similar_artists': ['name']}, {'similar_artists': ['url']}, {'similar_artists': ['image']}]\n"
     ]
    }
   ],
   "source": [
    "#Pruebas de esta tarde \n",
    "last_fm_datos2 = []\n",
    "\n",
    "for item in raw_artist[\"artist\"][\"similar\"][\"artist\"]:\n",
    "    #last_fm_datos2.append({ \"similar_artists\" })\n",
    "    for i in item:\n",
    "        last_fm_datos2.append({\"similar_artists\" : [i]})\n",
    "    \n",
    "print(last_fm_datos2)\n",
    "           "
   ]
  },
  {
   "cell_type": "code",
   "execution_count": null,
   "metadata": {},
   "outputs": [],
   "source": [
    "class LastFM:\n",
    "\n",
    "    def __init__ (self, raw):\n",
    "        self.raw = raw\n",
    "\n",
    "    def añadir_datos_artista(self):\n",
    "        \n",
    "        #Función para crear el DF con los datos de las canciones\n",
    "        last_fm_datos= []\n",
    "        name = self.raw[\"artist\"]['name']   # guardo los datos en variables \n",
    "        url = self.raw[\"artist\"][\"url\"]\n",
    "        listeners = self.raw[\"artist\"][\"stats\"][\"listeners\"]  # esta dentro de stats (estadisticas)\n",
    "        playcount = self.raw[\"artist\"][\"stats\"][\"playcount\"] # esta dentro de stats (estadisaticas)\n",
    "\n",
    "        for item in raw_artist:\n",
    "            \n",
    "\n",
    "            last_fm_datos.append({\n",
    "                \"artist\" : name,\n",
    "                \"url\": url,\n",
    "                \"listeners\": listeners,\n",
    "                \"playcount\": playcount,\n",
    "                \n",
    "                })\n",
    "            \n",
    "        #for artista in self.raw[\"artist\"][\"similar\"][\"artist\"]:\n",
    "            #last_fm_datos.append(artista[\"name\"])\n",
    "\n",
    "        #for tag in self.raw[\"artist\"][\"tags\"][\"tag\"]:  # recorro cada genero en la lista tags\n",
    "            #nombre_genero = tag['name']  # saco el nombre del genero\n",
    "            #last_fm_datos.append(nombre_genero)   # añado a la lista de generos\n",
    "\n",
    "\n",
    "\n",
    "\n",
    "        df_last_fm = pd.DataFrame(last_fm_datos)      \n",
    "        #return last_fm_datos\n",
    "        \n",
    "        return df_last_fm \n",
    "           "
   ]
  },
  {
   "cell_type": "code",
   "execution_count": null,
   "metadata": {},
   "outputs": [],
   "source": [
    "channel = LastFM(raw_artist)"
   ]
  },
  {
   "cell_type": "code",
   "execution_count": null,
   "metadata": {},
   "outputs": [
    {
     "data": {
      "text/html": [
       "<div>\n",
       "<style scoped>\n",
       "    .dataframe tbody tr th:only-of-type {\n",
       "        vertical-align: middle;\n",
       "    }\n",
       "\n",
       "    .dataframe tbody tr th {\n",
       "        vertical-align: top;\n",
       "    }\n",
       "\n",
       "    .dataframe thead th {\n",
       "        text-align: right;\n",
       "    }\n",
       "</style>\n",
       "<table border=\"1\" class=\"dataframe\">\n",
       "  <thead>\n",
       "    <tr style=\"text-align: right;\">\n",
       "      <th></th>\n",
       "      <th>artist</th>\n",
       "      <th>url</th>\n",
       "      <th>listeners</th>\n",
       "      <th>playcount</th>\n",
       "    </tr>\n",
       "  </thead>\n",
       "  <tbody>\n",
       "    <tr>\n",
       "      <th>0</th>\n",
       "      <td>Channel</td>\n",
       "      <td>https://www.last.fm/music/Channel</td>\n",
       "      <td>3205</td>\n",
       "      <td>27048</td>\n",
       "    </tr>\n",
       "  </tbody>\n",
       "</table>\n",
       "</div>"
      ],
      "text/plain": [
       "    artist                                url listeners playcount\n",
       "0  Channel  https://www.last.fm/music/Channel      3205     27048"
      ]
     },
     "metadata": {},
     "output_type": "display_data"
    }
   ],
   "source": [
    "channel.añadir_datos_artista()"
   ]
  }
 ],
 "metadata": {
  "kernelspec": {
   "display_name": "base",
   "language": "python",
   "name": "python3"
  },
  "language_info": {
   "name": "python",
   "version": "3.12.7"
  }
 },
 "nbformat": 4,
 "nbformat_minor": 2
}
