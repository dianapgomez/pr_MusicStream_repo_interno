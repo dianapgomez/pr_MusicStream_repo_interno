{
 "cells": [
  {
   "cell_type": "code",
   "execution_count": null,
   "metadata": {},
   "outputs": [
    {
     "name": "stdout",
     "output_type": "stream",
     "text": [
      "    Artista                                              Track\n",
      "0    Efendi                                          Mata Hari\n",
      "1    Efendi                                          Cleopatra\n",
      "2    Efendi                           Mata Hari - slow version\n",
      "3    Efendi  Mata Hari - Eurovision 2021 - Azerbaijan / Kar...\n",
      "4    Efendi  Cleopatra - Eurovision 2020 / Azerbaijan / Kar...\n",
      "5     Aksel                                       Looking Back\n",
      "6     Aksel                                               Hurt\n",
      "7     Aksel                                   Ingenting å tape\n",
      "8     Aksel                                     Sarhoş Saatler\n",
      "9     Aksel                                       Keyfin Bilir\n",
      "10  Diodato                                         Fai rumore\n",
      "11  Diodato                                           Ti muovi\n",
      "12  Diodato                              Che vita meravigliosa\n",
      "13  Diodato                            Fino a farci scomparire\n",
      "14  Diodato                                    Un'altra estate\n"
     ]
    }
   ],
   "source": [
    "#EXTRAE TOP 5 TRACKS DE ARTISTAS\n",
    "\n",
    "import pandas as pd\n",
    "import requests\n",
    "\n",
    "MY_API_KEY = \"XXXXXXX\"\n",
    "\n",
    "def obtener_datos_top_tracks(artista):\n",
    "    \"\"\"Obtiene los 5 top tracks de un artista desde Lastfm.\"\"\"\n",
    "    url = f\"http://ws.audioscrobbler.com/2.0/?method=artist.gettoptracks&artist={artista}&api_key={MY_API_KEY}&format=json\"\n",
    "    response = requests.get(url)\n",
    "\n",
    "    if response.status_code == 200:\n",
    "        datos = response.json()\n",
    "        if \"toptracks\" in datos and \"track\" in datos[\"toptracks\"]:\n",
    "            return [{\"Artista\": artista, \"Track\": track[\"name\"]} for track in datos[\"toptracks\"][\"track\"][:5]]\n",
    "    return []\n",
    "\n",
    "# Lista de artistas de prueba\n",
    "artistas = [\"Efendi\", \"Aksel\", \"Diodato\"]\n",
    "\n",
    "# Obtener los top 5 tracks de cada artista y crear lista de diccionarios\n",
    "lista_tracks = []\n",
    "for artista in artistas:\n",
    "    lista_tracks.extend(obtener_datos_top_tracks(artista))\n",
    "\n",
    "# Convertir la lista de diccionarios en un DataFrame\n",
    "df = pd.DataFrame(lista_tracks)\n",
    "\n",
    "# Mostrar el DataFrame\n",
    "print(df)"
   ]
  }
 ],
 "metadata": {
  "kernelspec": {
   "display_name": "Python 3",
   "language": "python",
   "name": "python3"
  },
  "language_info": {
   "codemirror_mode": {
    "name": "ipython",
    "version": 3
   },
   "file_extension": ".py",
   "mimetype": "text/x-python",
   "name": "python",
   "nbconvert_exporter": "python",
   "pygments_lexer": "ipython3",
   "version": "3.9.6"
  }
 },
 "nbformat": 4,
 "nbformat_minor": 2
}
