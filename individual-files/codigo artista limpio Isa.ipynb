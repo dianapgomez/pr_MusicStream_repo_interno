{
 "cells": [
  {
   "cell_type": "code",
   "execution_count": null,
   "metadata": {},
   "outputs": [],
   "source": [
    "# ARTIST INFO CODIGO LIMPIO 25 FEB 2025"
   ]
  },
  {
   "cell_type": "code",
   "execution_count": 1,
   "metadata": {},
   "outputs": [
    {
     "name": "stderr",
     "output_type": "stream",
     "text": [
      "/Users/isabelgarcia/Library/Python/3.9/lib/python/site-packages/urllib3/__init__.py:35: NotOpenSSLWarning: urllib3 v2 only supports OpenSSL 1.1.1+, currently the 'ssl' module is compiled with 'LibreSSL 2.8.3'. See: https://github.com/urllib3/urllib3/issues/3020\n",
      "  warnings.warn(\n"
     ]
    }
   ],
   "source": [
    "import pandas as pd\n",
    "import requests\n",
    "import json\n",
    "import re  # Importar el módulo para limpiar HTML"
   ]
  },
  {
   "cell_type": "code",
   "execution_count": null,
   "metadata": {},
   "outputs": [],
   "source": [
    "api_key = \"XXXXXXXXXXXXXXXXXXX\"\n",
    "share_secret = \"XXXXXXXXXXXXXXXXXXXXX\"\n",
    "artist_name= \"Chanel\""
   ]
  },
  {
   "cell_type": "markdown",
   "metadata": {},
   "source": [
    "- Sacamos informacion del artista desde last.fm y nos lo muestra en un DataFrame.\n",
    "- Información extraida: nombre, url, reproducciones, artistas similares, generos y resumen de la biografia."
   ]
  },
  {
   "cell_type": "code",
   "execution_count": 5,
   "metadata": {},
   "outputs": [],
   "source": [
    "#  Lista de los 5 artistas más populares de la playlist de Eurovisión 2022\n",
    "lista_artistas_eurovision = [\"Chanel\", \"Loreen\", \"Måneskin\", \"Sam Ryder\", \"Käärijä\"]"
   ]
  },
  {
   "cell_type": "code",
   "execution_count": null,
   "metadata": {},
   "outputs": [
    {
     "data": {
      "text/html": [
       "<div>\n",
       "<style scoped>\n",
       "    .dataframe tbody tr th:only-of-type {\n",
       "        vertical-align: middle;\n",
       "    }\n",
       "\n",
       "    .dataframe tbody tr th {\n",
       "        vertical-align: top;\n",
       "    }\n",
       "\n",
       "    .dataframe thead th {\n",
       "        text-align: right;\n",
       "    }\n",
       "</style>\n",
       "<table border=\"1\" class=\"dataframe\">\n",
       "  <thead>\n",
       "    <tr style=\"text-align: right;\">\n",
       "      <th></th>\n",
       "      <th>artista</th>\n",
       "      <th>url</th>\n",
       "      <th>oyentes</th>\n",
       "      <th>reproducciones</th>\n",
       "      <th>generos</th>\n",
       "      <th>artistas_similares</th>\n",
       "      <th>biografia_resumen</th>\n",
       "    </tr>\n",
       "  </thead>\n",
       "  <tbody>\n",
       "    <tr>\n",
       "      <th>0</th>\n",
       "      <td>Chanel</td>\n",
       "      <td>https://www.last.fm/music/Chanel</td>\n",
       "      <td>196029</td>\n",
       "      <td>3146736</td>\n",
       "      <td>House, female vocalists, chillout</td>\n",
       "      <td>Kaleen, Alessandra, Loreen</td>\n",
       "      <td>Chanel Terrero Martinez (born July 29, 1991 in...</td>\n",
       "    </tr>\n",
       "    <tr>\n",
       "      <th>1</th>\n",
       "      <td>Loreen</td>\n",
       "      <td>https://www.last.fm/music/Loreen</td>\n",
       "      <td>678496</td>\n",
       "      <td>16718104</td>\n",
       "      <td>pop, swedish, female vocalists</td>\n",
       "      <td>Dotter, Cornelia Jakobs, Anna Bergendahl</td>\n",
       "      <td>Loreen (born Lorine Zineb Nora Talhaoui on Oct...</td>\n",
       "    </tr>\n",
       "    <tr>\n",
       "      <th>2</th>\n",
       "      <td>Måneskin</td>\n",
       "      <td>https://www.last.fm/music/M%C3%A5neskin</td>\n",
       "      <td>1484050</td>\n",
       "      <td>78926261</td>\n",
       "      <td>rock, glam rock, italian</td>\n",
       "      <td>Palaye Royale, The Pretty Reckless, Mahmood</td>\n",
       "      <td>Måneskin (Italian pronunciation: ˈmɔːneskin, D...</td>\n",
       "    </tr>\n",
       "    <tr>\n",
       "      <th>3</th>\n",
       "      <td>Sam Ryder</td>\n",
       "      <td>https://www.last.fm/music/Sam+Ryder</td>\n",
       "      <td>135531</td>\n",
       "      <td>1689904</td>\n",
       "      <td>pop, british, Eurovision</td>\n",
       "      <td>Subwoolfer, KEiiNO, Mae Muller</td>\n",
       "      <td>Sam Ryder (born 1989 Maldon, England) is a Bri...</td>\n",
       "    </tr>\n",
       "    <tr>\n",
       "      <th>4</th>\n",
       "      <td>Käärijä</td>\n",
       "      <td>https://www.last.fm/music/K%C3%A4%C3%A4rij%C3%A4</td>\n",
       "      <td>223049</td>\n",
       "      <td>8414818</td>\n",
       "      <td>finnish, rap, Eurovision</td>\n",
       "      <td>KUUMAA, Bess, Portion Boys</td>\n",
       "      <td>Jere Pöyhönen, known professionally as Käärijä...</td>\n",
       "    </tr>\n",
       "  </tbody>\n",
       "</table>\n",
       "</div>"
      ],
      "text/plain": [
       "     artista                                               url  oyentes  \\\n",
       "0     Chanel                  https://www.last.fm/music/Chanel   196029   \n",
       "1     Loreen                  https://www.last.fm/music/Loreen   678496   \n",
       "2   Måneskin           https://www.last.fm/music/M%C3%A5neskin  1484050   \n",
       "3  Sam Ryder               https://www.last.fm/music/Sam+Ryder   135531   \n",
       "4    Käärijä  https://www.last.fm/music/K%C3%A4%C3%A4rij%C3%A4   223049   \n",
       "\n",
       "  reproducciones                            generos  \\\n",
       "0        3146736  House, female vocalists, chillout   \n",
       "1       16718104     pop, swedish, female vocalists   \n",
       "2       78926261           rock, glam rock, italian   \n",
       "3        1689904           pop, british, Eurovision   \n",
       "4        8414818           finnish, rap, Eurovision   \n",
       "\n",
       "                            artistas_similares  \\\n",
       "0                   Kaleen, Alessandra, Loreen   \n",
       "1     Dotter, Cornelia Jakobs, Anna Bergendahl   \n",
       "2  Palaye Royale, The Pretty Reckless, Mahmood   \n",
       "3               Subwoolfer, KEiiNO, Mae Muller   \n",
       "4                   KUUMAA, Bess, Portion Boys   \n",
       "\n",
       "                                   biografia_resumen  \n",
       "0  Chanel Terrero Martinez (born July 29, 1991 in...  \n",
       "1  Loreen (born Lorine Zineb Nora Talhaoui on Oct...  \n",
       "2  Måneskin (Italian pronunciation: ˈmɔːneskin, D...  \n",
       "3  Sam Ryder (born 1989 Maldon, England) is a Bri...  \n",
       "4  Jere Pöyhönen, known professionally as Käärijä...  "
      ]
     },
     "metadata": {},
     "output_type": "display_data"
    }
   ],
   "source": [
    "# Primero hago la funcion para un unico artista: \n",
    "\n",
    "def obtener_info_artista(artist_name, api_key):  #esta funcion para sacar info del artista con ARTIST_NAME y API_KEY: devuelve un diccionario con sus datos.\n",
    "\n",
    "\n",
    "    # Endpoint de la API de Last.fm\n",
    "    url = f\"http://ws.audioscrobbler.com/2.0/?method=artist.getinfo&artist={artist_name}&api_key={api_key}&format=json\"\n",
    "    \n",
    "    # Hago la llamada a la API\n",
    "    response = requests.get(url)  # hago la llamada a la api.\n",
    "    info_artist = response.json()  # y la respuesta de la llamada la convierto en json.\n",
    "\n",
    "    # compruebo la respuesta de la API\n",
    "    if \"error\" in info_artist:\n",
    "        print(f\"Error en la API: {info_artist['message']}\")\n",
    "        return pd.DataFrame()   # si hay error dime el error y dame un DATAFRAME vacio.\n",
    "\n",
    "    # información del artista\n",
    "    nombre = info_artist[\"artist\"].get(\"name\")\n",
    "    url = info_artist[\"artist\"].get(\"url\") \n",
    "    oyentes = info_artist[\"artist\"][\"stats\"].get(\"listeners\")\n",
    "    reproducciones = info_artist[\"artist\"][\"stats\"].get(\"playcount\")\n",
    "\n",
    "    #resumen de la biografía y limpiar etiquetas HTML\n",
    "    bio_summary = info_artist[\"artist\"][\"bio\"].get(\"summary\")\n",
    "    bio_summary_clean = re.sub(r\"<.*?>\", \"\", bio_summary)  # Eliminar etiquetas HTML\n",
    "\n",
    "    # géneros musicales\n",
    "    generos = [tag[\"name\"] for tag in info_artist[\"artist\"][\"tags\"][\"tag\"][:3]] # limito a tres generos del artista\n",
    "    generos_texto = \", \".join(generos)  # utilizo este codigo para que aparezca como cadena de texto y no como lista con corchetes y comillas.\n",
    "\n",
    "    #artistas similares\n",
    "    artistas_similares = [artista[\"name\"] for artista in info_artist[\"artist\"][\"similar\"][\"artist\"][:3]]  # limito a tres artistas similares\n",
    "    artistas_similares_texto = \", \".join(artistas_similares)   # igual que en genero lo convierto en cadena de texto.\n",
    "\n",
    "    return {                    # me devuelve un diccionario con todos los datos que le he pedido del artista.\n",
    "        \"artista\": nombre,\n",
    "        \"url\":url,\n",
    "        \"oyentes\": oyentes,\n",
    "        \"reproducciones\": reproducciones,\n",
    "        \"generos\": generos_texto,\n",
    "        \"artistas_similares\": artistas_similares_texto,\n",
    "        \"biografia_resumen\": bio_summary_clean\n",
    "    }\n",
    "\n",
    "\n",
    "#  la información de VARIOS artistas y la almacena en un DataFrame.\n",
    "\n",
    "def obtener_info_varios_artistas(lista_artistas, api_key):\n",
    "   \n",
    "    datos_artistas = []\n",
    "\n",
    "    for artista in lista_artistas:\n",
    "        info = obtener_info_artista(artista, api_key)  # llamo a la funcion para obtener los datos para cada artista, que itere\n",
    "        if info:  # Solo agregar si la consulta fue ok\n",
    "            datos_artistas.append(info)\n",
    "\n",
    "    \n",
    "    df_artistas = pd.DataFrame(datos_artistas)   # Creo DataFrame con todos los artistas\n",
    "    return df_artistas   # return el DataFrame de todos los artistas.\n",
    "    \n",
    "\"\"\"df_artistas_eurovision = obtener_info_varios_artistas(lista_artistas_eurovision, api_key)\n",
    "\n",
    "print(df_artistas_eurovision.head())\"\"\"  #lo inhabilito porque es otra forma de sacar el dataframe pero se ve peor.\n",
    "\n",
    "# DataFrame con la información de todos los artistas truco de CHATGPT\n",
    "from IPython.display import display  # Importar display para Jupyter\n",
    "\n",
    "df_artistas_eurovision = obtener_info_varios_artistas(lista_artistas_eurovision, api_key)\n",
    "display(df_artistas_eurovision)  # ✅ Mejor visualización en Jupyter\n",
    "\n"
   ]
  },
  {
   "cell_type": "code",
   "execution_count": null,
   "metadata": {},
   "outputs": [],
   "source": [
    "# Para convertirlo a CSV, no se si es necesario, lo inhabilito.\n",
    "\n",
    "\"\"\"df_artistas_eurovision.to_csv(\"artistas_eurovision_2022.csv\", index=False)\n",
    "print(\"✅ Archivo guardado: artistas_eurovision_2022.csv\")\"\"\""
   ]
  },
  {
   "cell_type": "code",
   "execution_count": null,
   "metadata": {},
   "outputs": [],
   "source": []
  },
  {
   "cell_type": "code",
   "execution_count": null,
   "metadata": {},
   "outputs": [],
   "source": []
  }
 ],
 "metadata": {
  "kernelspec": {
   "display_name": "Python 3",
   "language": "python",
   "name": "python3"
  },
  "language_info": {
   "codemirror_mode": {
    "name": "ipython",
    "version": 3
   },
   "file_extension": ".py",
   "mimetype": "text/x-python",
   "name": "python",
   "nbconvert_exporter": "python",
   "pygments_lexer": "ipython3",
   "version": "3.9.6"
  }
 },
 "nbformat": 4,
 "nbformat_minor": 2
}
