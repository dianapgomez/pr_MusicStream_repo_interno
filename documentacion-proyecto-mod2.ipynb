{
 "cells": [
  {
   "cell_type": "markdown",
   "metadata": {},
   "source": [
    "\n",
    "¿Qué 5 artistas fueron los más escuchados en las playlist de Eurovision de 2019 a 2024? \n",
    "Cliente: Headhunter que está buscando al próximo gran éxito de Eurovisión\n",
    "\n",
    "Fechas del 2019 al 2024\n",
    "- Géneros más escuchados por año\n",
    "- Listado de géneros presentados por año\n",
    "- Canciones más escuchadas por año\n",
    "\n",
    "2019 → Diana\n",
    "2020 → Amanda\n",
    "2021 → Andrea\n",
    "2022 → Isabel\n",
    "2023 → Cibi\n",
    "\n",
    "Parámetros spotify:\n",
    "- Playlists\n",
    "    - Artistas \n",
    "        - id → Buscamos el id para llamar a la API del artista y saber el género\n",
    "        - Nombre → Conocer el artista\n",
    "       \n",
    "    - Canción \n",
    "        - id → Buscamos el id para llamar a la API de la canción y saber género\n",
    "        - Nombre → Conocer canción\n",
    "        - Año de lanzamiento\n",
    "        - Álbum\n",
    "        - Género\n",
    "        - Número de reproducciones\n",
    "        - Duración (tbd)\n",
    "- Artista:\n",
    "    - Artistas similares \n",
    "    - Nacionalidad o market\n",
    "    - Álbumes\n",
    "        - Años de publicación\n",
    "        - Reproducciones\n",
    "\n"
   ]
  },
  {
   "cell_type": "markdown",
   "metadata": {},
   "source": []
  }
 ],
 "metadata": {
  "language_info": {
   "name": "python"
  }
 },
 "nbformat": 4,
 "nbformat_minor": 2
}
