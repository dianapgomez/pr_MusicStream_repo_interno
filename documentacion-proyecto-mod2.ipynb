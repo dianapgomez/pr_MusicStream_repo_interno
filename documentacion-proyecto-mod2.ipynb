{
 "cells": [
  {
   "cell_type": "markdown",
   "metadata": {},
   "source": [
    "\n",
    "¿Qué 5 artistas fueron los más escuchados en las playlist de Eurovision de 2019 a 2024? \n",
    "Fechas del 2019 al 2024\n",
    "- Géneros más escuchados por año\n",
    "- Listado de géneros presentados por año\n",
    "- Canciones más escuchadas por año\n",
    "\n",
    "2019\n",
    "2020\n",
    "2021\n",
    "2022\n",
    "2023"
   ]
  }
 ],
 "metadata": {
  "language_info": {
   "name": "python"
  }
 },
 "nbformat": 4,
 "nbformat_minor": 2
}
